{
 "cells": [
  {
   "cell_type": "code",
   "execution_count": 1,
   "metadata": {},
   "outputs": [],
   "source": [
    "energy = read.csv('data/energy.csv')"
   ]
  },
  {
   "cell_type": "code",
   "execution_count": 2,
   "metadata": {},
   "outputs": [
    {
     "name": "stdout",
     "output_type": "stream",
     "text": [
      "'data.frame':\t699 obs. of  27 variables:\n",
      " $ STATE                  : Factor w/ 50 levels \"AK\",\"AL\",\"AR\",..: 1 1 1 1 1 1 1 1 1 1 ...\n",
      " $ YEAR                   : int  2000 2001 2002 2003 2004 2005 2006 2007 2008 2009 ...\n",
      " $ GenTotal               : num  9.81 10.64 10.54 9.79 9.9 ...\n",
      " $ GenHydro               : num  0.163 0.2 0.213 0.25 0.23 ...\n",
      " $ GenSolar               : num  0 0 0 0 0 0 0 0 0 0 ...\n",
      " $ GenTotalRenewable      : num  0.163 0.2 0.214 0.25 0.231 ...\n",
      " $ GenSolarBinary         : int  0 0 0 0 0 0 0 0 0 0 ...\n",
      " $ GenTotalRenewableBinary: int  1 1 1 0 0 0 1 0 1 1 ...\n",
      " $ AllSourcesCO2          : num  7.26 7.31 6.94 6.15 7.25 ...\n",
      " $ AllSourcesSO2          : num  0.0224 0.01193 0.01148 0.00675 0.00659 ...\n",
      " $ AllSourcesNOx          : num  0.0289 0.0277 0.0294 0.0242 0.0377 ...\n",
      " $ EPriceResidential      : num  11.4 12.1 12.1 12 12.4 ...\n",
      " $ EPriceCommercial       : num  9.77 10.29 10.13 10.49 10.99 ...\n",
      " $ EPriceIndustrial       : num  7.56 7.61 7.65 7.86 8.33 ...\n",
      " $ EPriceTransportation   : num  0 0 0 0 0 0 0 0 0 0 ...\n",
      " $ EPriceTotal            : num  10.1 10.5 10.5 10.5 11 ...\n",
      " $ EsalesResidential      : num  0.349 0.347 0.354 0.357 0.356 ...\n",
      " $ EsalesCommercial       : num  0.421 0.42 0.41 0.444 0.449 ...\n",
      " $ EsalesIndustrial       : num  0.195 0.198 0.199 0.198 0.195 ...\n",
      " $ EsalesTransportation   : num  0 0 0 0 0 0 0 0 0 0 ...\n",
      " $ EsalesOther            : num  0.0343 0.0356 0.0379 0 0 ...\n",
      " $ EsalesTotal            : num  8.46 8.61 8.51 8.59 8.78 ...\n",
      " $ CumlFinancial          : int  1 1 1 1 1 2 7 7 10 10 ...\n",
      " $ CumlRegulatory         : int  1 1 1 1 1 1 2 2 2 3 ...\n",
      " $ Total.salary           : num  17.6 18.7 19.6 20.4 21.4 ...\n",
      " $ presidential.results   : int  0 0 0 0 0 0 0 0 0 0 ...\n",
      " $ Import                 : int  0 0 0 0 0 0 0 0 0 0 ...\n"
     ]
    },
    {
     "data": {
      "text/plain": [
       "     STATE          YEAR         GenTotal         GenHydro      \n",
       " AK     : 14   Min.   :2000   Min.   : 4.591   Min.   :0.00000  \n",
       " AL     : 14   1st Qu.:2003   1st Qu.:10.037   1st Qu.:0.00888  \n",
       " AR     : 14   Median :2006   Median :14.647   Median :0.02291  \n",
       " AZ     : 14   Mean   :2006   Mean   :16.956   Mean   :0.09853  \n",
       " CA     : 14   3rd Qu.:2010   3rd Qu.:18.018   3rd Qu.:0.07041  \n",
       " CO     : 14   Max.   :2013   Max.   :92.097   Max.   :0.92076  \n",
       " (Other):615                                                    \n",
       "    GenSolar          GenTotalRenewable GenSolarBinary  \n",
       " Min.   :-1.300e-08   Min.   :0.00000   Min.   :0.0000  \n",
       " 1st Qu.: 0.000e+00   1st Qu.:0.02027   1st Qu.:0.0000  \n",
       " Median : 0.000e+00   Median :0.04475   Median :0.0000  \n",
       " Mean   : 3.344e-04   Mean   :0.12245   Mean   :0.2318  \n",
       " 3rd Qu.: 0.000e+00   3rd Qu.:0.10771   3rd Qu.:0.0000  \n",
       " Max.   : 2.045e-02   Max.   :0.92076   Max.   :1.0000  \n",
       "                                                        \n",
       " GenTotalRenewableBinary AllSourcesCO2      AllSourcesSO2     AllSourcesNOx    \n",
       " Min.   :0.0000          Min.   : 0.01059   Min.   :0.00003   Min.   :0.00067  \n",
       " 1st Qu.:0.0000          1st Qu.: 4.84645   1st Qu.:0.00925   1st Qu.:0.00604  \n",
       " Median :1.0000          Median : 8.34005   Median :0.02375   Median :0.01428  \n",
       " Mean   :0.5923          Mean   :11.61430   Mean   :0.03687   Mean   :0.02058  \n",
       " 3rd Qu.:1.0000          3rd Qu.:12.99889   3rd Qu.:0.04197   3rd Qu.:0.02288  \n",
       " Max.   :1.0000          Max.   :93.96429   Max.   :0.34568   Max.   :0.35610  \n",
       "                         NA's   :50         NA's   :50        NA's   :50       \n",
       " EPriceResidential EPriceCommercial EPriceIndustrial EPriceTransportation\n",
       " Min.   : 5.130    Min.   : 4.240   Min.   : 3.010   Min.   : 0.000      \n",
       " 1st Qu.: 7.965    1st Qu.: 6.760   1st Qu.: 4.695   1st Qu.: 0.000      \n",
       " Median : 9.490    Median : 8.100   Median : 5.820   Median : 1.615      \n",
       " Mean   :10.424    Mean   : 8.969   Mean   : 6.660   Mean   : 4.131      \n",
       " 3rd Qu.:11.825    3rd Qu.:10.065   3rd Qu.: 7.500   3rd Qu.: 7.940      \n",
       " Max.   :37.340    Max.   :34.880   Max.   :30.820   Max.   :15.440      \n",
       "                                                     NA's   :1           \n",
       "  EPriceTotal     EsalesResidential EsalesCommercial EsalesIndustrial \n",
       " Min.   : 4.170   Min.   :0.1594    Min.   :0.1690   Min.   :0.06372  \n",
       " 1st Qu.: 6.515   1st Qu.:0.3297    1st Qu.:0.2816   1st Qu.:0.21331  \n",
       " Median : 7.860   Median :0.3563    Median :0.3385   Median :0.29978  \n",
       " Mean   : 8.809   Mean   :0.3595    Mean   :0.3411   Mean   :0.29232  \n",
       " 3rd Qu.:10.095   3rd Qu.:0.3926    3rd Qu.:0.3877   3rd Qu.:0.35791  \n",
       " Max.   :34.040   Max.   :0.5287    Max.   :0.5381   Max.   :0.59561  \n",
       "                                                                      \n",
       " EsalesTransportation  EsalesOther      EsalesTotal     CumlFinancial   \n",
       " Min.   :0.0000000    Min.   :0.0000   Min.   : 6.745   Min.   :  0.00  \n",
       " 1st Qu.:0.0000000    1st Qu.:0.0000   1st Qu.:10.336   1st Qu.:  2.00  \n",
       " Median :0.0000000    Median :0.0092   Median :13.153   Median :  8.00  \n",
       " Mean   :0.0010349    Mean   :0.0170   Mean   :13.145   Mean   : 17.58  \n",
       " 3rd Qu.:0.0002786    3rd Qu.:0.0216   3rd Qu.:15.353   3rd Qu.: 23.50  \n",
       " Max.   :0.0229279    Max.   :0.1074   Max.   :31.336   Max.   :154.00  \n",
       "                      NA's   :449                                       \n",
       " CumlRegulatory    Total.salary   presidential.results     Import      \n",
       " Min.   : 0.000   Min.   :10.65   Min.   :0.0000       Min.   :0.0000  \n",
       " 1st Qu.: 3.000   1st Qu.:16.84   1st Qu.:0.0000       1st Qu.:0.0000  \n",
       " Median : 6.000   Median :19.51   Median :0.0000       Median :0.0000  \n",
       " Mean   : 6.838   Mean   :20.01   Mean   :0.4578       Mean   :0.3433  \n",
       " 3rd Qu.:10.000   3rd Qu.:22.83   3rd Qu.:1.0000       3rd Qu.:1.0000  \n",
       " Max.   :42.000   Max.   :33.85   Max.   :1.0000       Max.   :1.0000  \n",
       "                                                                       "
      ]
     },
     "metadata": {},
     "output_type": "display_data"
    }
   ],
   "source": [
    "str(energy)\n",
    "summary(energy)"
   ]
  },
  {
   "cell_type": "code",
   "execution_count": 3,
   "metadata": {},
   "outputs": [
    {
     "data": {
      "text/html": [
       "<table>\n",
       "<caption>A data.frame: 6 × 27</caption>\n",
       "<thead>\n",
       "\t<tr><th></th><th scope=col>STATE</th><th scope=col>YEAR</th><th scope=col>GenTotal</th><th scope=col>GenHydro</th><th scope=col>GenSolar</th><th scope=col>GenTotalRenewable</th><th scope=col>GenSolarBinary</th><th scope=col>GenTotalRenewableBinary</th><th scope=col>AllSourcesCO2</th><th scope=col>AllSourcesSO2</th><th scope=col>⋯</th><th scope=col>EsalesCommercial</th><th scope=col>EsalesIndustrial</th><th scope=col>EsalesTransportation</th><th scope=col>EsalesOther</th><th scope=col>EsalesTotal</th><th scope=col>CumlFinancial</th><th scope=col>CumlRegulatory</th><th scope=col>Total.salary</th><th scope=col>presidential.results</th><th scope=col>Import</th></tr>\n",
       "\t<tr><th></th><th scope=col>&lt;fct&gt;</th><th scope=col>&lt;int&gt;</th><th scope=col>&lt;dbl&gt;</th><th scope=col>&lt;dbl&gt;</th><th scope=col>&lt;dbl&gt;</th><th scope=col>&lt;dbl&gt;</th><th scope=col>&lt;int&gt;</th><th scope=col>&lt;int&gt;</th><th scope=col>&lt;dbl&gt;</th><th scope=col>&lt;dbl&gt;</th><th scope=col>⋯</th><th scope=col>&lt;dbl&gt;</th><th scope=col>&lt;dbl&gt;</th><th scope=col>&lt;dbl&gt;</th><th scope=col>&lt;dbl&gt;</th><th scope=col>&lt;dbl&gt;</th><th scope=col>&lt;int&gt;</th><th scope=col>&lt;int&gt;</th><th scope=col>&lt;dbl&gt;</th><th scope=col>&lt;int&gt;</th><th scope=col>&lt;int&gt;</th></tr>\n",
       "</thead>\n",
       "<tbody>\n",
       "\t<tr><th scope=row>1</th><td>AK</td><td>2000</td><td> 9.807319</td><td>0.1627248</td><td>0</td><td>0.1627248</td><td>0</td><td>1</td><td>7.260627</td><td>0.022395930</td><td>⋯</td><td>0.4211845</td><td>0.1952228</td><td>0</td><td>0.03425594</td><td>8.458761</td><td>1</td><td>1</td><td>17.64609</td><td>0</td><td>0</td></tr>\n",
       "\t<tr><th scope=row>2</th><td>AK</td><td>2001</td><td>10.644612</td><td>0.1995421</td><td>0</td><td>0.1996829</td><td>0</td><td>1</td><td>7.311767</td><td>0.011925094</td><td>⋯</td><td>0.4196878</td><td>0.1979111</td><td>0</td><td>0.03560234</td><td>8.608923</td><td>1</td><td>1</td><td>18.69197</td><td>0</td><td>0</td></tr>\n",
       "\t<tr><th scope=row>3</th><td>AK</td><td>2002</td><td>10.541432</td><td>0.2126913</td><td>0</td><td>0.2143351</td><td>0</td><td>1</td><td>6.938342</td><td>0.011477100</td><td>⋯</td><td>0.4095216</td><td>0.1990407</td><td>0</td><td>0.03790713</td><td>8.513568</td><td>1</td><td>1</td><td>19.64402</td><td>0</td><td>0</td></tr>\n",
       "\t<tr><th scope=row>4</th><td>AK</td><td>2003</td><td> 9.786963</td><td>0.2496613</td><td>0</td><td>0.2504531</td><td>0</td><td>0</td><td>6.153593</td><td>0.006750341</td><td>⋯</td><td>0.4444949</td><td>0.1983659</td><td>0</td><td>0.00000000</td><td>8.590290</td><td>1</td><td>1</td><td>20.39238</td><td>0</td><td>0</td></tr>\n",
       "\t<tr><th scope=row>5</th><td>AK</td><td>2004</td><td> 9.899390</td><td>0.2295212</td><td>0</td><td>0.2308738</td><td>0</td><td>0</td><td>7.246256</td><td>0.006591790</td><td>⋯</td><td>0.4492727</td><td>0.1945192</td><td>0</td><td>0.00000000</td><td>8.779676</td><td>1</td><td>1</td><td>21.44678</td><td>0</td><td>0</td></tr>\n",
       "\t<tr><th scope=row>6</th><td>AK</td><td>2005</td><td> 9.858374</td><td>0.2225966</td><td>0</td><td>0.2234271</td><td>0</td><td>0</td><td>6.541566</td><td>0.006048441</td><td>⋯</td><td>0.4557934</td><td>0.1955170</td><td>0</td><td>        NA</td><td>8.862909</td><td>2</td><td>1</td><td>22.71282</td><td>0</td><td>0</td></tr>\n",
       "</tbody>\n",
       "</table>\n"
      ],
      "text/latex": [
       "A data.frame: 6 × 27\n",
       "\\begin{tabular}{r|lllllllllllllllllllll}\n",
       "  & STATE & YEAR & GenTotal & GenHydro & GenSolar & GenTotalRenewable & GenSolarBinary & GenTotalRenewableBinary & AllSourcesCO2 & AllSourcesSO2 & ⋯ & EsalesCommercial & EsalesIndustrial & EsalesTransportation & EsalesOther & EsalesTotal & CumlFinancial & CumlRegulatory & Total.salary & presidential.results & Import\\\\\n",
       "  & <fct> & <int> & <dbl> & <dbl> & <dbl> & <dbl> & <int> & <int> & <dbl> & <dbl> & ⋯ & <dbl> & <dbl> & <dbl> & <dbl> & <dbl> & <int> & <int> & <dbl> & <int> & <int>\\\\\n",
       "\\hline\n",
       "\t1 & AK & 2000 &  9.807319 & 0.1627248 & 0 & 0.1627248 & 0 & 1 & 7.260627 & 0.022395930 & ⋯ & 0.4211845 & 0.1952228 & 0 & 0.03425594 & 8.458761 & 1 & 1 & 17.64609 & 0 & 0\\\\\n",
       "\t2 & AK & 2001 & 10.644612 & 0.1995421 & 0 & 0.1996829 & 0 & 1 & 7.311767 & 0.011925094 & ⋯ & 0.4196878 & 0.1979111 & 0 & 0.03560234 & 8.608923 & 1 & 1 & 18.69197 & 0 & 0\\\\\n",
       "\t3 & AK & 2002 & 10.541432 & 0.2126913 & 0 & 0.2143351 & 0 & 1 & 6.938342 & 0.011477100 & ⋯ & 0.4095216 & 0.1990407 & 0 & 0.03790713 & 8.513568 & 1 & 1 & 19.64402 & 0 & 0\\\\\n",
       "\t4 & AK & 2003 &  9.786963 & 0.2496613 & 0 & 0.2504531 & 0 & 0 & 6.153593 & 0.006750341 & ⋯ & 0.4444949 & 0.1983659 & 0 & 0.00000000 & 8.590290 & 1 & 1 & 20.39238 & 0 & 0\\\\\n",
       "\t5 & AK & 2004 &  9.899390 & 0.2295212 & 0 & 0.2308738 & 0 & 0 & 7.246256 & 0.006591790 & ⋯ & 0.4492727 & 0.1945192 & 0 & 0.00000000 & 8.779676 & 1 & 1 & 21.44678 & 0 & 0\\\\\n",
       "\t6 & AK & 2005 &  9.858374 & 0.2225966 & 0 & 0.2234271 & 0 & 0 & 6.541566 & 0.006048441 & ⋯ & 0.4557934 & 0.1955170 & 0 &         NA & 8.862909 & 2 & 1 & 22.71282 & 0 & 0\\\\\n",
       "\\end{tabular}\n"
      ],
      "text/markdown": [
       "\n",
       "A data.frame: 6 × 27\n",
       "\n",
       "| <!--/--> | STATE &lt;fct&gt; | YEAR &lt;int&gt; | GenTotal &lt;dbl&gt; | GenHydro &lt;dbl&gt; | GenSolar &lt;dbl&gt; | GenTotalRenewable &lt;dbl&gt; | GenSolarBinary &lt;int&gt; | GenTotalRenewableBinary &lt;int&gt; | AllSourcesCO2 &lt;dbl&gt; | AllSourcesSO2 &lt;dbl&gt; | ⋯ ⋯ | EsalesCommercial &lt;dbl&gt; | EsalesIndustrial &lt;dbl&gt; | EsalesTransportation &lt;dbl&gt; | EsalesOther &lt;dbl&gt; | EsalesTotal &lt;dbl&gt; | CumlFinancial &lt;int&gt; | CumlRegulatory &lt;int&gt; | Total.salary &lt;dbl&gt; | presidential.results &lt;int&gt; | Import &lt;int&gt; |\n",
       "|---|---|---|---|---|---|---|---|---|---|---|---|---|---|---|---|---|---|---|---|---|---|\n",
       "| 1 | AK | 2000 |  9.807319 | 0.1627248 | 0 | 0.1627248 | 0 | 1 | 7.260627 | 0.022395930 | ⋯ | 0.4211845 | 0.1952228 | 0 | 0.03425594 | 8.458761 | 1 | 1 | 17.64609 | 0 | 0 |\n",
       "| 2 | AK | 2001 | 10.644612 | 0.1995421 | 0 | 0.1996829 | 0 | 1 | 7.311767 | 0.011925094 | ⋯ | 0.4196878 | 0.1979111 | 0 | 0.03560234 | 8.608923 | 1 | 1 | 18.69197 | 0 | 0 |\n",
       "| 3 | AK | 2002 | 10.541432 | 0.2126913 | 0 | 0.2143351 | 0 | 1 | 6.938342 | 0.011477100 | ⋯ | 0.4095216 | 0.1990407 | 0 | 0.03790713 | 8.513568 | 1 | 1 | 19.64402 | 0 | 0 |\n",
       "| 4 | AK | 2003 |  9.786963 | 0.2496613 | 0 | 0.2504531 | 0 | 0 | 6.153593 | 0.006750341 | ⋯ | 0.4444949 | 0.1983659 | 0 | 0.00000000 | 8.590290 | 1 | 1 | 20.39238 | 0 | 0 |\n",
       "| 5 | AK | 2004 |  9.899390 | 0.2295212 | 0 | 0.2308738 | 0 | 0 | 7.246256 | 0.006591790 | ⋯ | 0.4492727 | 0.1945192 | 0 | 0.00000000 | 8.779676 | 1 | 1 | 21.44678 | 0 | 0 |\n",
       "| 6 | AK | 2005 |  9.858374 | 0.2225966 | 0 | 0.2234271 | 0 | 0 | 6.541566 | 0.006048441 | ⋯ | 0.4557934 | 0.1955170 | 0 |         NA | 8.862909 | 2 | 1 | 22.71282 | 0 | 0 |\n",
       "\n"
      ],
      "text/plain": [
       "  STATE YEAR GenTotal  GenHydro  GenSolar GenTotalRenewable GenSolarBinary\n",
       "1 AK    2000  9.807319 0.1627248 0        0.1627248         0             \n",
       "2 AK    2001 10.644612 0.1995421 0        0.1996829         0             \n",
       "3 AK    2002 10.541432 0.2126913 0        0.2143351         0             \n",
       "4 AK    2003  9.786963 0.2496613 0        0.2504531         0             \n",
       "5 AK    2004  9.899390 0.2295212 0        0.2308738         0             \n",
       "6 AK    2005  9.858374 0.2225966 0        0.2234271         0             \n",
       "  GenTotalRenewableBinary AllSourcesCO2 AllSourcesSO2 <U+22EF>        EsalesCommercial\n",
       "1 1                       7.260627      0.022395930   <U+22EF> 0.4211845       \n",
       "2 1                       7.311767      0.011925094   <U+22EF> 0.4196878       \n",
       "3 1                       6.938342      0.011477100   <U+22EF> 0.4095216       \n",
       "4 0                       6.153593      0.006750341   <U+22EF> 0.4444949       \n",
       "5 0                       7.246256      0.006591790   <U+22EF> 0.4492727       \n",
       "6 0                       6.541566      0.006048441   <U+22EF> 0.4557934       \n",
       "  EsalesIndustrial EsalesTransportation EsalesOther EsalesTotal CumlFinancial\n",
       "1 0.1952228        0                    0.03425594  8.458761    1            \n",
       "2 0.1979111        0                    0.03560234  8.608923    1            \n",
       "3 0.1990407        0                    0.03790713  8.513568    1            \n",
       "4 0.1983659        0                    0.00000000  8.590290    1            \n",
       "5 0.1945192        0                    0.00000000  8.779676    1            \n",
       "6 0.1955170        0                            NA  8.862909    2            \n",
       "  CumlRegulatory Total.salary presidential.results Import\n",
       "1 1              17.64609     0                    0     \n",
       "2 1              18.69197     0                    0     \n",
       "3 1              19.64402     0                    0     \n",
       "4 1              20.39238     0                    0     \n",
       "5 1              21.44678     0                    0     \n",
       "6 1              22.71282     0                    0     "
      ]
     },
     "metadata": {},
     "output_type": "display_data"
    }
   ],
   "source": [
    "head(energy)"
   ]
  },
  {
   "cell_type": "code",
   "execution_count": 4,
   "metadata": {},
   "outputs": [
    {
     "data": {
      "text/html": [
       "<table>\n",
       "<caption>A data.frame: 6 × 27</caption>\n",
       "<thead>\n",
       "\t<tr><th></th><th scope=col>STATE</th><th scope=col>YEAR</th><th scope=col>GenTotal</th><th scope=col>GenHydro</th><th scope=col>GenSolar</th><th scope=col>GenTotalRenewable</th><th scope=col>GenSolarBinary</th><th scope=col>GenTotalRenewableBinary</th><th scope=col>AllSourcesCO2</th><th scope=col>AllSourcesSO2</th><th scope=col>⋯</th><th scope=col>EsalesCommercial</th><th scope=col>EsalesIndustrial</th><th scope=col>EsalesTransportation</th><th scope=col>EsalesOther</th><th scope=col>EsalesTotal</th><th scope=col>CumlFinancial</th><th scope=col>CumlRegulatory</th><th scope=col>Total.salary</th><th scope=col>presidential.results</th><th scope=col>Import</th></tr>\n",
       "\t<tr><th></th><th scope=col>&lt;fct&gt;</th><th scope=col>&lt;int&gt;</th><th scope=col>&lt;dbl&gt;</th><th scope=col>&lt;dbl&gt;</th><th scope=col>&lt;dbl&gt;</th><th scope=col>&lt;dbl&gt;</th><th scope=col>&lt;int&gt;</th><th scope=col>&lt;int&gt;</th><th scope=col>&lt;dbl&gt;</th><th scope=col>&lt;dbl&gt;</th><th scope=col>⋯</th><th scope=col>&lt;dbl&gt;</th><th scope=col>&lt;dbl&gt;</th><th scope=col>&lt;dbl&gt;</th><th scope=col>&lt;dbl&gt;</th><th scope=col>&lt;dbl&gt;</th><th scope=col>&lt;int&gt;</th><th scope=col>&lt;int&gt;</th><th scope=col>&lt;dbl&gt;</th><th scope=col>&lt;int&gt;</th><th scope=col>&lt;int&gt;</th></tr>\n",
       "</thead>\n",
       "<tbody>\n",
       "\t<tr><th scope=row>169</th><td>ID</td><td>2000</td><td> 9.165016</td><td>0.9207631</td><td>0.00e+00</td><td>0.9207631</td><td>0</td><td>0</td><td>0.6368657</td><td>0.004590802</td><td>⋯</td><td>0.3095307</td><td>0.3682080</td><td>0.00e+00</td><td>0.01541804</td><td>17.57071</td><td> 2</td><td> 2</td><td>12.81243</td><td>0</td><td>1</td></tr>\n",
       "\t<tr><th scope=row>171</th><td>ID</td><td>2002</td><td> 7.294405</td><td>0.8960234</td><td>0.00e+00</td><td>0.8960234</td><td>0</td><td>0</td><td>0.5763969</td><td>0.004229696</td><td>⋯</td><td>0.3363594</td><td>0.3068727</td><td>0.00e+00</td><td>0.01589707</td><td>15.42789</td><td> 2</td><td> 2</td><td>13.42664</td><td>0</td><td>1</td></tr>\n",
       "\t<tr><th scope=row>180</th><td>ID</td><td>2011</td><td>10.461545</td><td>0.8090393</td><td>0.00e+00</td><td>0.8946092</td><td>0</td><td>0</td><td>0.5207826</td><td>0.002983369</td><td>⋯</td><td>0.2565114</td><td>0.3829710</td><td>0.00e+00</td><td>        NA</td><td>14.69379</td><td>29</td><td> 5</td><td>18.08008</td><td>0</td><td>1</td></tr>\n",
       "\t<tr><th scope=row>175</th><td>ID</td><td>2006</td><td> 9.145806</td><td>0.8398551</td><td>0.00e+00</td><td>0.8525263</td><td>0</td><td>0</td><td>0.6023574</td><td>0.003101875</td><td>⋯</td><td>0.2553943</td><td>0.3906137</td><td>0.00e+00</td><td>        NA</td><td>15.55156</td><td>12</td><td> 5</td><td>17.47960</td><td>0</td><td>1</td></tr>\n",
       "\t<tr><th scope=row>656</th><td>WA</td><td>2011</td><td>16.895443</td><td>0.7965958</td><td>7.29e-06</td><td>0.8523996</td><td>0</td><td>0</td><td>1.2062102</td><td>0.002634521</td><td>⋯</td><td>0.3137789</td><td>0.2980295</td><td>7.56e-05</td><td>        NA</td><td>13.73840</td><td>90</td><td>14</td><td>26.21118</td><td>1</td><td>0</td></tr>\n",
       "\t<tr><th scope=row>181</th><td>ID</td><td>2012</td><td> 9.713704</td><td>0.7058741</td><td>0.00e+00</td><td>0.8384574</td><td>0</td><td>0</td><td>0.7344838</td><td>0.003314135</td><td>⋯</td><td>0.2521151</td><td>0.4037807</td><td>0.00e+00</td><td>        NA</td><td>14.86087</td><td>29</td><td> 5</td><td>18.60292</td><td>0</td><td>1</td></tr>\n",
       "</tbody>\n",
       "</table>\n"
      ],
      "text/latex": [
       "A data.frame: 6 × 27\n",
       "\\begin{tabular}{r|lllllllllllllllllllll}\n",
       "  & STATE & YEAR & GenTotal & GenHydro & GenSolar & GenTotalRenewable & GenSolarBinary & GenTotalRenewableBinary & AllSourcesCO2 & AllSourcesSO2 & ⋯ & EsalesCommercial & EsalesIndustrial & EsalesTransportation & EsalesOther & EsalesTotal & CumlFinancial & CumlRegulatory & Total.salary & presidential.results & Import\\\\\n",
       "  & <fct> & <int> & <dbl> & <dbl> & <dbl> & <dbl> & <int> & <int> & <dbl> & <dbl> & ⋯ & <dbl> & <dbl> & <dbl> & <dbl> & <dbl> & <int> & <int> & <dbl> & <int> & <int>\\\\\n",
       "\\hline\n",
       "\t169 & ID & 2000 &  9.165016 & 0.9207631 & 0.00e+00 & 0.9207631 & 0 & 0 & 0.6368657 & 0.004590802 & ⋯ & 0.3095307 & 0.3682080 & 0.00e+00 & 0.01541804 & 17.57071 &  2 &  2 & 12.81243 & 0 & 1\\\\\n",
       "\t171 & ID & 2002 &  7.294405 & 0.8960234 & 0.00e+00 & 0.8960234 & 0 & 0 & 0.5763969 & 0.004229696 & ⋯ & 0.3363594 & 0.3068727 & 0.00e+00 & 0.01589707 & 15.42789 &  2 &  2 & 13.42664 & 0 & 1\\\\\n",
       "\t180 & ID & 2011 & 10.461545 & 0.8090393 & 0.00e+00 & 0.8946092 & 0 & 0 & 0.5207826 & 0.002983369 & ⋯ & 0.2565114 & 0.3829710 & 0.00e+00 &         NA & 14.69379 & 29 &  5 & 18.08008 & 0 & 1\\\\\n",
       "\t175 & ID & 2006 &  9.145806 & 0.8398551 & 0.00e+00 & 0.8525263 & 0 & 0 & 0.6023574 & 0.003101875 & ⋯ & 0.2553943 & 0.3906137 & 0.00e+00 &         NA & 15.55156 & 12 &  5 & 17.47960 & 0 & 1\\\\\n",
       "\t656 & WA & 2011 & 16.895443 & 0.7965958 & 7.29e-06 & 0.8523996 & 0 & 0 & 1.2062102 & 0.002634521 & ⋯ & 0.3137789 & 0.2980295 & 7.56e-05 &         NA & 13.73840 & 90 & 14 & 26.21118 & 1 & 0\\\\\n",
       "\t181 & ID & 2012 &  9.713704 & 0.7058741 & 0.00e+00 & 0.8384574 & 0 & 0 & 0.7344838 & 0.003314135 & ⋯ & 0.2521151 & 0.4037807 & 0.00e+00 &         NA & 14.86087 & 29 &  5 & 18.60292 & 0 & 1\\\\\n",
       "\\end{tabular}\n"
      ],
      "text/markdown": [
       "\n",
       "A data.frame: 6 × 27\n",
       "\n",
       "| <!--/--> | STATE &lt;fct&gt; | YEAR &lt;int&gt; | GenTotal &lt;dbl&gt; | GenHydro &lt;dbl&gt; | GenSolar &lt;dbl&gt; | GenTotalRenewable &lt;dbl&gt; | GenSolarBinary &lt;int&gt; | GenTotalRenewableBinary &lt;int&gt; | AllSourcesCO2 &lt;dbl&gt; | AllSourcesSO2 &lt;dbl&gt; | ⋯ ⋯ | EsalesCommercial &lt;dbl&gt; | EsalesIndustrial &lt;dbl&gt; | EsalesTransportation &lt;dbl&gt; | EsalesOther &lt;dbl&gt; | EsalesTotal &lt;dbl&gt; | CumlFinancial &lt;int&gt; | CumlRegulatory &lt;int&gt; | Total.salary &lt;dbl&gt; | presidential.results &lt;int&gt; | Import &lt;int&gt; |\n",
       "|---|---|---|---|---|---|---|---|---|---|---|---|---|---|---|---|---|---|---|---|---|---|\n",
       "| 169 | ID | 2000 |  9.165016 | 0.9207631 | 0.00e+00 | 0.9207631 | 0 | 0 | 0.6368657 | 0.004590802 | ⋯ | 0.3095307 | 0.3682080 | 0.00e+00 | 0.01541804 | 17.57071 |  2 |  2 | 12.81243 | 0 | 1 |\n",
       "| 171 | ID | 2002 |  7.294405 | 0.8960234 | 0.00e+00 | 0.8960234 | 0 | 0 | 0.5763969 | 0.004229696 | ⋯ | 0.3363594 | 0.3068727 | 0.00e+00 | 0.01589707 | 15.42789 |  2 |  2 | 13.42664 | 0 | 1 |\n",
       "| 180 | ID | 2011 | 10.461545 | 0.8090393 | 0.00e+00 | 0.8946092 | 0 | 0 | 0.5207826 | 0.002983369 | ⋯ | 0.2565114 | 0.3829710 | 0.00e+00 |         NA | 14.69379 | 29 |  5 | 18.08008 | 0 | 1 |\n",
       "| 175 | ID | 2006 |  9.145806 | 0.8398551 | 0.00e+00 | 0.8525263 | 0 | 0 | 0.6023574 | 0.003101875 | ⋯ | 0.2553943 | 0.3906137 | 0.00e+00 |         NA | 15.55156 | 12 |  5 | 17.47960 | 0 | 1 |\n",
       "| 656 | WA | 2011 | 16.895443 | 0.7965958 | 7.29e-06 | 0.8523996 | 0 | 0 | 1.2062102 | 0.002634521 | ⋯ | 0.3137789 | 0.2980295 | 7.56e-05 |         NA | 13.73840 | 90 | 14 | 26.21118 | 1 | 0 |\n",
       "| 181 | ID | 2012 |  9.713704 | 0.7058741 | 0.00e+00 | 0.8384574 | 0 | 0 | 0.7344838 | 0.003314135 | ⋯ | 0.2521151 | 0.4037807 | 0.00e+00 |         NA | 14.86087 | 29 |  5 | 18.60292 | 0 | 1 |\n",
       "\n"
      ],
      "text/plain": [
       "    STATE YEAR GenTotal  GenHydro  GenSolar GenTotalRenewable GenSolarBinary\n",
       "169 ID    2000  9.165016 0.9207631 0.00e+00 0.9207631         0             \n",
       "171 ID    2002  7.294405 0.8960234 0.00e+00 0.8960234         0             \n",
       "180 ID    2011 10.461545 0.8090393 0.00e+00 0.8946092         0             \n",
       "175 ID    2006  9.145806 0.8398551 0.00e+00 0.8525263         0             \n",
       "656 WA    2011 16.895443 0.7965958 7.29e-06 0.8523996         0             \n",
       "181 ID    2012  9.713704 0.7058741 0.00e+00 0.8384574         0             \n",
       "    GenTotalRenewableBinary AllSourcesCO2 AllSourcesSO2 <U+22EF>       \n",
       "169 0                       0.6368657     0.004590802   <U+22EF>\n",
       "171 0                       0.5763969     0.004229696   <U+22EF>\n",
       "180 0                       0.5207826     0.002983369   <U+22EF>\n",
       "175 0                       0.6023574     0.003101875   <U+22EF>\n",
       "656 0                       1.2062102     0.002634521   <U+22EF>\n",
       "181 0                       0.7344838     0.003314135   <U+22EF>\n",
       "    EsalesCommercial EsalesIndustrial EsalesTransportation EsalesOther\n",
       "169 0.3095307        0.3682080        0.00e+00             0.01541804 \n",
       "171 0.3363594        0.3068727        0.00e+00             0.01589707 \n",
       "180 0.2565114        0.3829710        0.00e+00                     NA \n",
       "175 0.2553943        0.3906137        0.00e+00                     NA \n",
       "656 0.3137789        0.2980295        7.56e-05                     NA \n",
       "181 0.2521151        0.4037807        0.00e+00                     NA \n",
       "    EsalesTotal CumlFinancial CumlRegulatory Total.salary presidential.results\n",
       "169 17.57071     2             2             12.81243     0                   \n",
       "171 15.42789     2             2             13.42664     0                   \n",
       "180 14.69379    29             5             18.08008     0                   \n",
       "175 15.55156    12             5             17.47960     0                   \n",
       "656 13.73840    90            14             26.21118     1                   \n",
       "181 14.86087    29             5             18.60292     0                   \n",
       "    Import\n",
       "169 1     \n",
       "171 1     \n",
       "180 1     \n",
       "175 1     \n",
       "656 0     \n",
       "181 1     "
      ]
     },
     "metadata": {},
     "output_type": "display_data"
    }
   ],
   "source": [
    "head(energy[with(energy, order(-GenTotalRenewable)),])"
   ]
  },
  {
   "cell_type": "code",
   "execution_count": 5,
   "metadata": {},
   "outputs": [
    {
     "data": {
      "text/html": [
       "<table>\n",
       "<caption>A data.frame: 14 × 27</caption>\n",
       "<thead>\n",
       "\t<tr><th></th><th scope=col>STATE</th><th scope=col>YEAR</th><th scope=col>GenTotal</th><th scope=col>GenHydro</th><th scope=col>GenSolar</th><th scope=col>GenTotalRenewable</th><th scope=col>GenSolarBinary</th><th scope=col>GenTotalRenewableBinary</th><th scope=col>AllSourcesCO2</th><th scope=col>AllSourcesSO2</th><th scope=col>⋯</th><th scope=col>EsalesCommercial</th><th scope=col>EsalesIndustrial</th><th scope=col>EsalesTransportation</th><th scope=col>EsalesOther</th><th scope=col>EsalesTotal</th><th scope=col>CumlFinancial</th><th scope=col>CumlRegulatory</th><th scope=col>Total.salary</th><th scope=col>presidential.results</th><th scope=col>Import</th></tr>\n",
       "\t<tr><th></th><th scope=col>&lt;fct&gt;</th><th scope=col>&lt;int&gt;</th><th scope=col>&lt;dbl&gt;</th><th scope=col>&lt;dbl&gt;</th><th scope=col>&lt;dbl&gt;</th><th scope=col>&lt;dbl&gt;</th><th scope=col>&lt;int&gt;</th><th scope=col>&lt;int&gt;</th><th scope=col>&lt;dbl&gt;</th><th scope=col>&lt;dbl&gt;</th><th scope=col>⋯</th><th scope=col>&lt;dbl&gt;</th><th scope=col>&lt;dbl&gt;</th><th scope=col>&lt;dbl&gt;</th><th scope=col>&lt;dbl&gt;</th><th scope=col>&lt;dbl&gt;</th><th scope=col>&lt;int&gt;</th><th scope=col>&lt;int&gt;</th><th scope=col>&lt;dbl&gt;</th><th scope=col>&lt;int&gt;</th><th scope=col>&lt;int&gt;</th></tr>\n",
       "</thead>\n",
       "<tbody>\n",
       "\t<tr><th scope=row>169</th><td>ID</td><td>2000</td><td> 9.165016</td><td>0.9207631</td><td>0</td><td>0.9207631</td><td>0</td><td>0</td><td>0.6368657</td><td>0.004590802</td><td>⋯</td><td>0.3095307</td><td>0.3682080</td><td>0</td><td>0.01541804</td><td>17.57071</td><td> 2</td><td>2</td><td>12.81243</td><td>0</td><td>1</td></tr>\n",
       "\t<tr><th scope=row>170</th><td>ID</td><td>2001</td><td> 7.076775</td><td>0.7727797</td><td>0</td><td>0.7727797</td><td>0</td><td>1</td><td>0.8335588</td><td>0.002843750</td><td>⋯</td><td>0.3101699</td><td>0.3462934</td><td>0</td><td>0.01619784</td><td>15.97226</td><td> 2</td><td>2</td><td>13.07948</td><td>0</td><td>1</td></tr>\n",
       "\t<tr><th scope=row>171</th><td>ID</td><td>2002</td><td> 7.294405</td><td>0.8960234</td><td>0</td><td>0.8960234</td><td>0</td><td>0</td><td>0.5763969</td><td>0.004229696</td><td>⋯</td><td>0.3363594</td><td>0.3068727</td><td>0</td><td>0.01589707</td><td>15.42789</td><td> 2</td><td>2</td><td>13.42664</td><td>0</td><td>1</td></tr>\n",
       "\t<tr><th scope=row>172</th><td>ID</td><td>2003</td><td> 7.643286</td><td>0.8015049</td><td>0</td><td>0.8015049</td><td>0</td><td>0</td><td>0.8168959</td><td>0.004728410</td><td>⋯</td><td>0.2576195</td><td>0.4082531</td><td>0</td><td>0.00000000</td><td>15.55996</td><td> 3</td><td>3</td><td>13.84389</td><td>0</td><td>1</td></tr>\n",
       "\t<tr><th scope=row>173</th><td>ID</td><td>2004</td><td> 7.808805</td><td>0.7789399</td><td>0</td><td>0.7789399</td><td>0</td><td>1</td><td>0.9407732</td><td>0.005072147</td><td>⋯</td><td>0.2514603</td><td>0.4131718</td><td>0</td><td>0.00000000</td><td>15.67698</td><td> 3</td><td>3</td><td>14.80994</td><td>0</td><td>1</td></tr>\n",
       "\t<tr><th scope=row>174</th><td>ID</td><td>2005</td><td> 7.595275</td><td>0.7891117</td><td>0</td><td>0.7891117</td><td>0</td><td>1</td><td>0.9437542</td><td>0.003469625</td><td>⋯</td><td>0.2569694</td><td>0.3952121</td><td>0</td><td>        NA</td><td>15.33278</td><td> 5</td><td>3</td><td>15.89418</td><td>0</td><td>1</td></tr>\n",
       "\t<tr><th scope=row>175</th><td>ID</td><td>2006</td><td> 9.145806</td><td>0.8398551</td><td>0</td><td>0.8525263</td><td>0</td><td>0</td><td>0.6023574</td><td>0.003101875</td><td>⋯</td><td>0.2553943</td><td>0.3906137</td><td>0</td><td>        NA</td><td>15.55156</td><td>12</td><td>5</td><td>17.47960</td><td>0</td><td>1</td></tr>\n",
       "\t<tr><th scope=row>176</th><td>ID</td><td>2007</td><td> 7.664287</td><td>0.7855815</td><td>0</td><td>0.8005820</td><td>0</td><td>1</td><td>0.8569992</td><td>0.004485481</td><td>⋯</td><td>0.2531894</td><td>0.3957532</td><td>0</td><td>        NA</td><td>15.85381</td><td>20</td><td>5</td><td>18.47754</td><td>0</td><td>1</td></tr>\n",
       "\t<tr><th scope=row>177</th><td>ID</td><td>2008</td><td> 7.842883</td><td>0.7821277</td><td>0</td><td>0.8066060</td><td>0</td><td>1</td><td>0.6661012</td><td>0.004125022</td><td>⋯</td><td>0.2530628</td><td>0.3896480</td><td>0</td><td>        NA</td><td>15.65981</td><td>21</td><td>5</td><td>18.43714</td><td>0</td><td>1</td></tr>\n",
       "\t<tr><th scope=row>178</th><td>ID</td><td>2009</td><td> 8.482000</td><td>0.7964995</td><td>0</td><td>0.8262219</td><td>0</td><td>0</td><td>0.6631312</td><td>0.002992622</td><td>⋯</td><td>0.2639312</td><td>0.3601484</td><td>0</td><td>        NA</td><td>14.73247</td><td>25</td><td>5</td><td>17.56408</td><td>0</td><td>1</td></tr>\n",
       "\t<tr><th scope=row>179</th><td>ID</td><td>2010</td><td> 7.709062</td><td>0.7612953</td><td>0</td><td>0.8058848</td><td>0</td><td>1</td><td>0.7778030</td><td>0.004258249</td><td>⋯</td><td>0.2572581</td><td>0.3858310</td><td>0</td><td>        NA</td><td>14.61580</td><td>29</td><td>5</td><td>17.68171</td><td>0</td><td>1</td></tr>\n",
       "\t<tr><th scope=row>180</th><td>ID</td><td>2011</td><td>10.461545</td><td>0.8090393</td><td>0</td><td>0.8946092</td><td>0</td><td>0</td><td>0.5207826</td><td>0.002983369</td><td>⋯</td><td>0.2565114</td><td>0.3829710</td><td>0</td><td>        NA</td><td>14.69379</td><td>29</td><td>5</td><td>18.08008</td><td>0</td><td>1</td></tr>\n",
       "\t<tr><th scope=row>181</th><td>ID</td><td>2012</td><td> 9.713704</td><td>0.7058741</td><td>0</td><td>0.8384574</td><td>0</td><td>0</td><td>0.7344838</td><td>0.003314135</td><td>⋯</td><td>0.2521151</td><td>0.4037807</td><td>0</td><td>        NA</td><td>14.86087</td><td>29</td><td>5</td><td>18.60292</td><td>0</td><td>1</td></tr>\n",
       "\t<tr><th scope=row>182</th><td>ID</td><td>2013</td><td> 9.415751</td><td>0.5579731</td><td>0</td><td>0.7356503</td><td>1</td><td>1</td><td>       NA</td><td>         NA</td><td>⋯</td><td>0.2583671</td><td>0.3853404</td><td>0</td><td>        NA</td><td>14.99931</td><td>29</td><td>5</td><td>19.51439</td><td>0</td><td>1</td></tr>\n",
       "</tbody>\n",
       "</table>\n"
      ],
      "text/latex": [
       "A data.frame: 14 × 27\n",
       "\\begin{tabular}{r|lllllllllllllllllllll}\n",
       "  & STATE & YEAR & GenTotal & GenHydro & GenSolar & GenTotalRenewable & GenSolarBinary & GenTotalRenewableBinary & AllSourcesCO2 & AllSourcesSO2 & ⋯ & EsalesCommercial & EsalesIndustrial & EsalesTransportation & EsalesOther & EsalesTotal & CumlFinancial & CumlRegulatory & Total.salary & presidential.results & Import\\\\\n",
       "  & <fct> & <int> & <dbl> & <dbl> & <dbl> & <dbl> & <int> & <int> & <dbl> & <dbl> & ⋯ & <dbl> & <dbl> & <dbl> & <dbl> & <dbl> & <int> & <int> & <dbl> & <int> & <int>\\\\\n",
       "\\hline\n",
       "\t169 & ID & 2000 &  9.165016 & 0.9207631 & 0 & 0.9207631 & 0 & 0 & 0.6368657 & 0.004590802 & ⋯ & 0.3095307 & 0.3682080 & 0 & 0.01541804 & 17.57071 &  2 & 2 & 12.81243 & 0 & 1\\\\\n",
       "\t170 & ID & 2001 &  7.076775 & 0.7727797 & 0 & 0.7727797 & 0 & 1 & 0.8335588 & 0.002843750 & ⋯ & 0.3101699 & 0.3462934 & 0 & 0.01619784 & 15.97226 &  2 & 2 & 13.07948 & 0 & 1\\\\\n",
       "\t171 & ID & 2002 &  7.294405 & 0.8960234 & 0 & 0.8960234 & 0 & 0 & 0.5763969 & 0.004229696 & ⋯ & 0.3363594 & 0.3068727 & 0 & 0.01589707 & 15.42789 &  2 & 2 & 13.42664 & 0 & 1\\\\\n",
       "\t172 & ID & 2003 &  7.643286 & 0.8015049 & 0 & 0.8015049 & 0 & 0 & 0.8168959 & 0.004728410 & ⋯ & 0.2576195 & 0.4082531 & 0 & 0.00000000 & 15.55996 &  3 & 3 & 13.84389 & 0 & 1\\\\\n",
       "\t173 & ID & 2004 &  7.808805 & 0.7789399 & 0 & 0.7789399 & 0 & 1 & 0.9407732 & 0.005072147 & ⋯ & 0.2514603 & 0.4131718 & 0 & 0.00000000 & 15.67698 &  3 & 3 & 14.80994 & 0 & 1\\\\\n",
       "\t174 & ID & 2005 &  7.595275 & 0.7891117 & 0 & 0.7891117 & 0 & 1 & 0.9437542 & 0.003469625 & ⋯ & 0.2569694 & 0.3952121 & 0 &         NA & 15.33278 &  5 & 3 & 15.89418 & 0 & 1\\\\\n",
       "\t175 & ID & 2006 &  9.145806 & 0.8398551 & 0 & 0.8525263 & 0 & 0 & 0.6023574 & 0.003101875 & ⋯ & 0.2553943 & 0.3906137 & 0 &         NA & 15.55156 & 12 & 5 & 17.47960 & 0 & 1\\\\\n",
       "\t176 & ID & 2007 &  7.664287 & 0.7855815 & 0 & 0.8005820 & 0 & 1 & 0.8569992 & 0.004485481 & ⋯ & 0.2531894 & 0.3957532 & 0 &         NA & 15.85381 & 20 & 5 & 18.47754 & 0 & 1\\\\\n",
       "\t177 & ID & 2008 &  7.842883 & 0.7821277 & 0 & 0.8066060 & 0 & 1 & 0.6661012 & 0.004125022 & ⋯ & 0.2530628 & 0.3896480 & 0 &         NA & 15.65981 & 21 & 5 & 18.43714 & 0 & 1\\\\\n",
       "\t178 & ID & 2009 &  8.482000 & 0.7964995 & 0 & 0.8262219 & 0 & 0 & 0.6631312 & 0.002992622 & ⋯ & 0.2639312 & 0.3601484 & 0 &         NA & 14.73247 & 25 & 5 & 17.56408 & 0 & 1\\\\\n",
       "\t179 & ID & 2010 &  7.709062 & 0.7612953 & 0 & 0.8058848 & 0 & 1 & 0.7778030 & 0.004258249 & ⋯ & 0.2572581 & 0.3858310 & 0 &         NA & 14.61580 & 29 & 5 & 17.68171 & 0 & 1\\\\\n",
       "\t180 & ID & 2011 & 10.461545 & 0.8090393 & 0 & 0.8946092 & 0 & 0 & 0.5207826 & 0.002983369 & ⋯ & 0.2565114 & 0.3829710 & 0 &         NA & 14.69379 & 29 & 5 & 18.08008 & 0 & 1\\\\\n",
       "\t181 & ID & 2012 &  9.713704 & 0.7058741 & 0 & 0.8384574 & 0 & 0 & 0.7344838 & 0.003314135 & ⋯ & 0.2521151 & 0.4037807 & 0 &         NA & 14.86087 & 29 & 5 & 18.60292 & 0 & 1\\\\\n",
       "\t182 & ID & 2013 &  9.415751 & 0.5579731 & 0 & 0.7356503 & 1 & 1 &        NA &          NA & ⋯ & 0.2583671 & 0.3853404 & 0 &         NA & 14.99931 & 29 & 5 & 19.51439 & 0 & 1\\\\\n",
       "\\end{tabular}\n"
      ],
      "text/markdown": [
       "\n",
       "A data.frame: 14 × 27\n",
       "\n",
       "| <!--/--> | STATE &lt;fct&gt; | YEAR &lt;int&gt; | GenTotal &lt;dbl&gt; | GenHydro &lt;dbl&gt; | GenSolar &lt;dbl&gt; | GenTotalRenewable &lt;dbl&gt; | GenSolarBinary &lt;int&gt; | GenTotalRenewableBinary &lt;int&gt; | AllSourcesCO2 &lt;dbl&gt; | AllSourcesSO2 &lt;dbl&gt; | ⋯ ⋯ | EsalesCommercial &lt;dbl&gt; | EsalesIndustrial &lt;dbl&gt; | EsalesTransportation &lt;dbl&gt; | EsalesOther &lt;dbl&gt; | EsalesTotal &lt;dbl&gt; | CumlFinancial &lt;int&gt; | CumlRegulatory &lt;int&gt; | Total.salary &lt;dbl&gt; | presidential.results &lt;int&gt; | Import &lt;int&gt; |\n",
       "|---|---|---|---|---|---|---|---|---|---|---|---|---|---|---|---|---|---|---|---|---|---|\n",
       "| 169 | ID | 2000 |  9.165016 | 0.9207631 | 0 | 0.9207631 | 0 | 0 | 0.6368657 | 0.004590802 | ⋯ | 0.3095307 | 0.3682080 | 0 | 0.01541804 | 17.57071 |  2 | 2 | 12.81243 | 0 | 1 |\n",
       "| 170 | ID | 2001 |  7.076775 | 0.7727797 | 0 | 0.7727797 | 0 | 1 | 0.8335588 | 0.002843750 | ⋯ | 0.3101699 | 0.3462934 | 0 | 0.01619784 | 15.97226 |  2 | 2 | 13.07948 | 0 | 1 |\n",
       "| 171 | ID | 2002 |  7.294405 | 0.8960234 | 0 | 0.8960234 | 0 | 0 | 0.5763969 | 0.004229696 | ⋯ | 0.3363594 | 0.3068727 | 0 | 0.01589707 | 15.42789 |  2 | 2 | 13.42664 | 0 | 1 |\n",
       "| 172 | ID | 2003 |  7.643286 | 0.8015049 | 0 | 0.8015049 | 0 | 0 | 0.8168959 | 0.004728410 | ⋯ | 0.2576195 | 0.4082531 | 0 | 0.00000000 | 15.55996 |  3 | 3 | 13.84389 | 0 | 1 |\n",
       "| 173 | ID | 2004 |  7.808805 | 0.7789399 | 0 | 0.7789399 | 0 | 1 | 0.9407732 | 0.005072147 | ⋯ | 0.2514603 | 0.4131718 | 0 | 0.00000000 | 15.67698 |  3 | 3 | 14.80994 | 0 | 1 |\n",
       "| 174 | ID | 2005 |  7.595275 | 0.7891117 | 0 | 0.7891117 | 0 | 1 | 0.9437542 | 0.003469625 | ⋯ | 0.2569694 | 0.3952121 | 0 |         NA | 15.33278 |  5 | 3 | 15.89418 | 0 | 1 |\n",
       "| 175 | ID | 2006 |  9.145806 | 0.8398551 | 0 | 0.8525263 | 0 | 0 | 0.6023574 | 0.003101875 | ⋯ | 0.2553943 | 0.3906137 | 0 |         NA | 15.55156 | 12 | 5 | 17.47960 | 0 | 1 |\n",
       "| 176 | ID | 2007 |  7.664287 | 0.7855815 | 0 | 0.8005820 | 0 | 1 | 0.8569992 | 0.004485481 | ⋯ | 0.2531894 | 0.3957532 | 0 |         NA | 15.85381 | 20 | 5 | 18.47754 | 0 | 1 |\n",
       "| 177 | ID | 2008 |  7.842883 | 0.7821277 | 0 | 0.8066060 | 0 | 1 | 0.6661012 | 0.004125022 | ⋯ | 0.2530628 | 0.3896480 | 0 |         NA | 15.65981 | 21 | 5 | 18.43714 | 0 | 1 |\n",
       "| 178 | ID | 2009 |  8.482000 | 0.7964995 | 0 | 0.8262219 | 0 | 0 | 0.6631312 | 0.002992622 | ⋯ | 0.2639312 | 0.3601484 | 0 |         NA | 14.73247 | 25 | 5 | 17.56408 | 0 | 1 |\n",
       "| 179 | ID | 2010 |  7.709062 | 0.7612953 | 0 | 0.8058848 | 0 | 1 | 0.7778030 | 0.004258249 | ⋯ | 0.2572581 | 0.3858310 | 0 |         NA | 14.61580 | 29 | 5 | 17.68171 | 0 | 1 |\n",
       "| 180 | ID | 2011 | 10.461545 | 0.8090393 | 0 | 0.8946092 | 0 | 0 | 0.5207826 | 0.002983369 | ⋯ | 0.2565114 | 0.3829710 | 0 |         NA | 14.69379 | 29 | 5 | 18.08008 | 0 | 1 |\n",
       "| 181 | ID | 2012 |  9.713704 | 0.7058741 | 0 | 0.8384574 | 0 | 0 | 0.7344838 | 0.003314135 | ⋯ | 0.2521151 | 0.4037807 | 0 |         NA | 14.86087 | 29 | 5 | 18.60292 | 0 | 1 |\n",
       "| 182 | ID | 2013 |  9.415751 | 0.5579731 | 0 | 0.7356503 | 1 | 1 |        NA |          NA | ⋯ | 0.2583671 | 0.3853404 | 0 |         NA | 14.99931 | 29 | 5 | 19.51439 | 0 | 1 |\n",
       "\n"
      ],
      "text/plain": [
       "    STATE YEAR GenTotal  GenHydro  GenSolar GenTotalRenewable GenSolarBinary\n",
       "169 ID    2000  9.165016 0.9207631 0        0.9207631         0             \n",
       "170 ID    2001  7.076775 0.7727797 0        0.7727797         0             \n",
       "171 ID    2002  7.294405 0.8960234 0        0.8960234         0             \n",
       "172 ID    2003  7.643286 0.8015049 0        0.8015049         0             \n",
       "173 ID    2004  7.808805 0.7789399 0        0.7789399         0             \n",
       "174 ID    2005  7.595275 0.7891117 0        0.7891117         0             \n",
       "175 ID    2006  9.145806 0.8398551 0        0.8525263         0             \n",
       "176 ID    2007  7.664287 0.7855815 0        0.8005820         0             \n",
       "177 ID    2008  7.842883 0.7821277 0        0.8066060         0             \n",
       "178 ID    2009  8.482000 0.7964995 0        0.8262219         0             \n",
       "179 ID    2010  7.709062 0.7612953 0        0.8058848         0             \n",
       "180 ID    2011 10.461545 0.8090393 0        0.8946092         0             \n",
       "181 ID    2012  9.713704 0.7058741 0        0.8384574         0             \n",
       "182 ID    2013  9.415751 0.5579731 0        0.7356503         1             \n",
       "    GenTotalRenewableBinary AllSourcesCO2 AllSourcesSO2 <U+22EF>       \n",
       "169 0                       0.6368657     0.004590802   <U+22EF>\n",
       "170 1                       0.8335588     0.002843750   <U+22EF>\n",
       "171 0                       0.5763969     0.004229696   <U+22EF>\n",
       "172 0                       0.8168959     0.004728410   <U+22EF>\n",
       "173 1                       0.9407732     0.005072147   <U+22EF>\n",
       "174 1                       0.9437542     0.003469625   <U+22EF>\n",
       "175 0                       0.6023574     0.003101875   <U+22EF>\n",
       "176 1                       0.8569992     0.004485481   <U+22EF>\n",
       "177 1                       0.6661012     0.004125022   <U+22EF>\n",
       "178 0                       0.6631312     0.002992622   <U+22EF>\n",
       "179 1                       0.7778030     0.004258249   <U+22EF>\n",
       "180 0                       0.5207826     0.002983369   <U+22EF>\n",
       "181 0                       0.7344838     0.003314135   <U+22EF>\n",
       "182 1                              NA              NA   <U+22EF>\n",
       "    EsalesCommercial EsalesIndustrial EsalesTransportation EsalesOther\n",
       "169 0.3095307        0.3682080        0                    0.01541804 \n",
       "170 0.3101699        0.3462934        0                    0.01619784 \n",
       "171 0.3363594        0.3068727        0                    0.01589707 \n",
       "172 0.2576195        0.4082531        0                    0.00000000 \n",
       "173 0.2514603        0.4131718        0                    0.00000000 \n",
       "174 0.2569694        0.3952121        0                            NA \n",
       "175 0.2553943        0.3906137        0                            NA \n",
       "176 0.2531894        0.3957532        0                            NA \n",
       "177 0.2530628        0.3896480        0                            NA \n",
       "178 0.2639312        0.3601484        0                            NA \n",
       "179 0.2572581        0.3858310        0                            NA \n",
       "180 0.2565114        0.3829710        0                            NA \n",
       "181 0.2521151        0.4037807        0                            NA \n",
       "182 0.2583671        0.3853404        0                            NA \n",
       "    EsalesTotal CumlFinancial CumlRegulatory Total.salary presidential.results\n",
       "169 17.57071     2            2              12.81243     0                   \n",
       "170 15.97226     2            2              13.07948     0                   \n",
       "171 15.42789     2            2              13.42664     0                   \n",
       "172 15.55996     3            3              13.84389     0                   \n",
       "173 15.67698     3            3              14.80994     0                   \n",
       "174 15.33278     5            3              15.89418     0                   \n",
       "175 15.55156    12            5              17.47960     0                   \n",
       "176 15.85381    20            5              18.47754     0                   \n",
       "177 15.65981    21            5              18.43714     0                   \n",
       "178 14.73247    25            5              17.56408     0                   \n",
       "179 14.61580    29            5              17.68171     0                   \n",
       "180 14.69379    29            5              18.08008     0                   \n",
       "181 14.86087    29            5              18.60292     0                   \n",
       "182 14.99931    29            5              19.51439     0                   \n",
       "    Import\n",
       "169 1     \n",
       "170 1     \n",
       "171 1     \n",
       "172 1     \n",
       "173 1     \n",
       "174 1     \n",
       "175 1     \n",
       "176 1     \n",
       "177 1     \n",
       "178 1     \n",
       "179 1     \n",
       "180 1     \n",
       "181 1     \n",
       "182 1     "
      ]
     },
     "metadata": {},
     "output_type": "display_data"
    }
   ],
   "source": [
    "subset(energy, STATE=='ID')"
   ]
  },
  {
   "cell_type": "code",
   "execution_count": 6,
   "metadata": {},
   "outputs": [],
   "source": [
    "nona = na.omit(energy)"
   ]
  },
  {
   "cell_type": "raw",
   "metadata": {},
   "source": [
    "head(nona)"
   ]
  },
  {
   "cell_type": "code",
   "execution_count": 7,
   "metadata": {},
   "outputs": [
    {
     "data": {
      "text/html": [
       "16.3624301578146"
      ],
      "text/latex": [
       "16.3624301578146"
      ],
      "text/markdown": [
       "16.3624301578146"
      ],
      "text/plain": [
       "[1] 16.36243"
      ]
     },
     "metadata": {},
     "output_type": "display_data"
    },
    {
     "data": {
      "text/html": [
       "5.93769796353061"
      ],
      "text/latex": [
       "5.93769796353061"
      ],
      "text/markdown": [
       "5.93769796353061"
      ],
      "text/plain": [
       "[1] 5.937698"
      ]
     },
     "metadata": {},
     "output_type": "display_data"
    },
    {
     "data": {
      "text/html": [
       "0.0367780632317881"
      ],
      "text/latex": [
       "0.0367780632317881"
      ],
      "text/markdown": [
       "0.0367780632317881"
      ],
      "text/plain": [
       "[1] 0.03677806"
      ]
     },
     "metadata": {},
     "output_type": "display_data"
    },
    {
     "data": {
      "text/html": [
       "0.0124455210306122"
      ],
      "text/latex": [
       "0.0124455210306122"
      ],
      "text/markdown": [
       "0.0124455210306122"
      ],
      "text/plain": [
       "[1] 0.01244552"
      ]
     },
     "metadata": {},
     "output_type": "display_data"
    }
   ],
   "source": [
    "mean(subset(nona, presidential.results==0)$AllSourcesCO2)\n",
    "mean(subset(nona, presidential.results==1)$AllSourcesCO2)\n",
    "mean(subset(nona, presidential.results==0)$AllSourcesNOx)\n",
    "mean(subset(nona, presidential.results==1)$AllSourcesNOx)"
   ]
  },
  {
   "cell_type": "code",
   "execution_count": 8,
   "metadata": {},
   "outputs": [
    {
     "data": {
      "text/html": [
       "0.538586699122344"
      ],
      "text/latex": [
       "0.538586699122344"
      ],
      "text/markdown": [
       "0.538586699122344"
      ],
      "text/plain": [
       "[1] 0.5385867"
      ]
     },
     "metadata": {},
     "output_type": "display_data"
    },
    {
     "data": {
      "text/html": [
       "-0.518269185122051"
      ],
      "text/latex": [
       "-0.518269185122051"
      ],
      "text/markdown": [
       "-0.518269185122051"
      ],
      "text/plain": [
       "[1] -0.5182692"
      ]
     },
     "metadata": {},
     "output_type": "display_data"
    },
    {
     "data": {
      "text/html": [
       "-0.373383020293378"
      ],
      "text/latex": [
       "-0.373383020293378"
      ],
      "text/markdown": [
       "-0.373383020293378"
      ],
      "text/plain": [
       "[1] -0.373383"
      ]
     },
     "metadata": {},
     "output_type": "display_data"
    }
   ],
   "source": [
    "cor(energy$AllSourcesCO2, energy$EsalesIndustrial, use='complete')\n",
    "cor(energy$AllSourcesCO2, energy$EsalesResidential, use='complete')\n",
    "cor(energy$AllSourcesCO2, energy$EsalesCommercial, use='complete')"
   ]
  },
  {
   "cell_type": "code",
   "execution_count": 9,
   "metadata": {},
   "outputs": [
    {
     "data": {
      "image/png": "[encoded data removed]",
      "text/plain": [
       "plot without title"
      ]
     },
     "metadata": {
      "image/png": {
       "height": 420,
       "width": 420
      },
      "text/plain": {
       "height": 420,
       "width": 420
      }
     },
     "output_type": "display_data"
    }
   ],
   "source": [
    "boxplot(energy$EPriceTotal ~ energy$STATE)"
   ]
  },
  {
   "cell_type": "code",
   "execution_count": 10,
   "metadata": {},
   "outputs": [
    {
     "data": {
      "text/html": [
       "<style>\n",
       ".dl-inline {width: auto; margin:0; padding: 0}\n",
       ".dl-inline>dt, .dl-inline>dd {float: none; width: auto; display: inline-block}\n",
       ".dl-inline>dt::after {content: \":\\0020\"; padding-right: .5ex}\n",
       ".dl-inline>dt:not(:first-of-type) {padding-left: .5ex}\n",
       "</style><dl class=dl-inline><dt>WY</dt><dd>5.51</dd><dt>KY</dt><dd>5.68857142857143</dd><dt>ID</dt><dd>5.68928571428571</dd><dt>WV</dt><dd>6.04857142857143</dd><dt>WA</dt><dd>6.15714285714286</dd><dt>UT</dt><dd>6.29857142857143</dd><dt>ND</dt><dd>6.43142857142857</dd><dt>NE</dt><dd>6.57928571428571</dd><dt>IN</dt><dd>6.64428571428571</dd><dt>AR</dt><dd>6.73928571428571</dd><dt>OR</dt><dd>6.84928571428571</dd><dt>IA</dt><dd>6.88428571428571</dd><dt>MO</dt><dd>6.93428571428571</dd><dt>OK</dt><dd>6.95714285714286</dd><dt>MT</dt><dd>7.04857142857143</dd><dt>SD</dt><dd>7.11857142857143</dd><dt>MN</dt><dd>7.29857142857143</dd><dt>SC</dt><dd>7.30714285714286</dd><dt>TN</dt><dd>7.31285714285714</dd><dt>KS</dt><dd>7.39571428571429</dd><dt>AL</dt><dd>7.39928571428571</dd><dt>VA</dt><dd>7.44</dd><dt>LA</dt><dd>7.50928571428571</dd><dt>NC</dt><dd>7.73785714285714</dd><dt>NM</dt><dd>7.75357142857143</dd><dt>MS</dt><dd>7.75928571428571</dd><dt>CO</dt><dd>7.81</dd><dt>GA</dt><dd>7.84642857142857</dd><dt>OH</dt><dd>7.85857142857143</dd><dt>IL</dt><dd>7.86142857142857</dd><dt>WI</dt><dd>8.20285714285714</dd><dt>AZ</dt><dd>8.50785714285714</dd><dt>MI</dt><dd>8.54714285714286</dd><dt>TX</dt><dd>8.70928571428571</dd><dt>NV</dt><dd>8.91928571428571</dd><dt>PA</dt><dd>8.94142857142857</dd><dt>FL</dt><dd>9.385</dd><dt>DE</dt><dd>9.53642857142857</dd><dt>MD</dt><dd>9.74142857142857</dd><dt>ME</dt><dd>11.6457142857143</dd><dt>NJ</dt><dd>12.0714285714286</dd><dt>VT</dt><dd>12.0942857142857</dd><dt>CA</dt><dd>12.3471428571429</dd><dt>RI</dt><dd>12.5114285714286</dd><dt>NH</dt><dd>13.0814285714286</dd><dt>MA</dt><dd>13.1121428571429</dd><dt>AK</dt><dd>13.1357142857143</dd><dt>CT</dt><dd>13.815</dd><dt>NY</dt><dd>14.1657142857143</dd><dt>HI</dt><dd>21.8857142857143</dd></dl>\n"
      ],
      "text/latex": [
       "\\begin{description*}\n",
       "\\item[WY] 5.51\n",
       "\\item[KY] 5.68857142857143\n",
       "\\item[ID] 5.68928571428571\n",
       "\\item[WV] 6.04857142857143\n",
       "\\item[WA] 6.15714285714286\n",
       "\\item[UT] 6.29857142857143\n",
       "\\item[ND] 6.43142857142857\n",
       "\\item[NE] 6.57928571428571\n",
       "\\item[IN] 6.64428571428571\n",
       "\\item[AR] 6.73928571428571\n",
       "\\item[OR] 6.84928571428571\n",
       "\\item[IA] 6.88428571428571\n",
       "\\item[MO] 6.93428571428571\n",
       "\\item[OK] 6.95714285714286\n",
       "\\item[MT] 7.04857142857143\n",
       "\\item[SD] 7.11857142857143\n",
       "\\item[MN] 7.29857142857143\n",
       "\\item[SC] 7.30714285714286\n",
       "\\item[TN] 7.31285714285714\n",
       "\\item[KS] 7.39571428571429\n",
       "\\item[AL] 7.39928571428571\n",
       "\\item[VA] 7.44\n",
       "\\item[LA] 7.50928571428571\n",
       "\\item[NC] 7.73785714285714\n",
       "\\item[NM] 7.75357142857143\n",
       "\\item[MS] 7.75928571428571\n",
       "\\item[CO] 7.81\n",
       "\\item[GA] 7.84642857142857\n",
       "\\item[OH] 7.85857142857143\n",
       "\\item[IL] 7.86142857142857\n",
       "\\item[WI] 8.20285714285714\n",
       "\\item[AZ] 8.50785714285714\n",
       "\\item[MI] 8.54714285714286\n",
       "\\item[TX] 8.70928571428571\n",
       "\\item[NV] 8.91928571428571\n",
       "\\item[PA] 8.94142857142857\n",
       "\\item[FL] 9.385\n",
       "\\item[DE] 9.53642857142857\n",
       "\\item[MD] 9.74142857142857\n",
       "\\item[ME] 11.6457142857143\n",
       "\\item[NJ] 12.0714285714286\n",
       "\\item[VT] 12.0942857142857\n",
       "\\item[CA] 12.3471428571429\n",
       "\\item[RI] 12.5114285714286\n",
       "\\item[NH] 13.0814285714286\n",
       "\\item[MA] 13.1121428571429\n",
       "\\item[AK] 13.1357142857143\n",
       "\\item[CT] 13.815\n",
       "\\item[NY] 14.1657142857143\n",
       "\\item[HI] 21.8857142857143\n",
       "\\end{description*}\n"
      ],
      "text/markdown": [
       "WY\n",
       ":   5.51KY\n",
       ":   5.68857142857143ID\n",
       ":   5.68928571428571WV\n",
       ":   6.04857142857143WA\n",
       ":   6.15714285714286UT\n",
       ":   6.29857142857143ND\n",
       ":   6.43142857142857NE\n",
       ":   6.57928571428571IN\n",
       ":   6.64428571428571AR\n",
       ":   6.73928571428571OR\n",
       ":   6.84928571428571IA\n",
       ":   6.88428571428571MO\n",
       ":   6.93428571428571OK\n",
       ":   6.95714285714286MT\n",
       ":   7.04857142857143SD\n",
       ":   7.11857142857143MN\n",
       ":   7.29857142857143SC\n",
       ":   7.30714285714286TN\n",
       ":   7.31285714285714KS\n",
       ":   7.39571428571429AL\n",
       ":   7.39928571428571VA\n",
       ":   7.44LA\n",
       ":   7.50928571428571NC\n",
       ":   7.73785714285714NM\n",
       ":   7.75357142857143MS\n",
       ":   7.75928571428571CO\n",
       ":   7.81GA\n",
       ":   7.84642857142857OH\n",
       ":   7.85857142857143IL\n",
       ":   7.86142857142857WI\n",
       ":   8.20285714285714AZ\n",
       ":   8.50785714285714MI\n",
       ":   8.54714285714286TX\n",
       ":   8.70928571428571NV\n",
       ":   8.91928571428571PA\n",
       ":   8.94142857142857FL\n",
       ":   9.385DE\n",
       ":   9.53642857142857MD\n",
       ":   9.74142857142857ME\n",
       ":   11.6457142857143NJ\n",
       ":   12.0714285714286VT\n",
       ":   12.0942857142857CA\n",
       ":   12.3471428571429RI\n",
       ":   12.5114285714286NH\n",
       ":   13.0814285714286MA\n",
       ":   13.1121428571429AK\n",
       ":   13.1357142857143CT\n",
       ":   13.815NY\n",
       ":   14.1657142857143HI\n",
       ":   21.8857142857143\n",
       "\n"
      ],
      "text/plain": [
       "       WY        KY        ID        WV        WA        UT        ND        NE \n",
       " 5.510000  5.688571  5.689286  6.048571  6.157143  6.298571  6.431429  6.579286 \n",
       "       IN        AR        OR        IA        MO        OK        MT        SD \n",
       " 6.644286  6.739286  6.849286  6.884286  6.934286  6.957143  7.048571  7.118571 \n",
       "       MN        SC        TN        KS        AL        VA        LA        NC \n",
       " 7.298571  7.307143  7.312857  7.395714  7.399286  7.440000  7.509286  7.737857 \n",
       "       NM        MS        CO        GA        OH        IL        WI        AZ \n",
       " 7.753571  7.759286  7.810000  7.846429  7.858571  7.861429  8.202857  8.507857 \n",
       "       MI        TX        NV        PA        FL        DE        MD        ME \n",
       " 8.547143  8.709286  8.919286  8.941429  9.385000  9.536429  9.741429 11.645714 \n",
       "       NJ        VT        CA        RI        NH        MA        AK        CT \n",
       "12.071429 12.094286 12.347143 12.511429 13.081429 13.112143 13.135714 13.815000 \n",
       "       NY        HI \n",
       "14.165714 21.885714 "
      ]
     },
     "metadata": {},
     "output_type": "display_data"
    }
   ],
   "source": [
    "sort(tapply(energy$EPriceTotal, energy$STATE, mean))"
   ]
  },
  {
   "cell_type": "code",
   "execution_count": 11,
   "metadata": {},
   "outputs": [
    {
     "data": {
      "text/html": [
       "<style>\n",
       ".dl-inline {width: auto; margin:0; padding: 0}\n",
       ".dl-inline>dt, .dl-inline>dd {float: none; width: auto; display: inline-block}\n",
       ".dl-inline>dt::after {content: \":\\0020\"; padding-right: .5ex}\n",
       ".dl-inline>dt:not(:first-of-type) {padding-left: .5ex}\n",
       "</style><dl class=dl-inline><dt>CA</dt><dd>5.57628529978571</dd><dt>MA</dt><dd>6.43429463192857</dd><dt>RI</dt><dd>6.48862803392857</dd><dt>NJ</dt><dd>7.1087000365</dd><dt>NY</dt><dd>7.19738297621429</dd><dt>DE</dt><dd>8.25676093878571</dd><dt>MD</dt><dd>8.35253046321429</dd><dt>ID</dt><dd>8.35847144242857</dd><dt>HI</dt><dd>8.62356251442857</dd><dt>CT</dt><dd>9.35840936864286</dd><dt>VA</dt><dd>9.72036665964286</dd><dt>AK</dt><dd>9.81021785707143</dd><dt>VT</dt><dd>10.1770050477857</dd><dt>MN</dt><dd>10.1992825556429</dd><dt>CO</dt><dd>10.367633712</dd><dt>SD</dt><dd>10.7198634078571</dd><dt>WI</dt><dd>11.0793024935714</dd><dt>MI</dt><dd>11.2010833792857</dd><dt>FL</dt><dd>12.0270889092857</dd><dt>OH</dt><dd>12.6644612892857</dd><dt>ME</dt><dd>13.1487922307143</dd><dt>NC</dt><dd>13.9154436607143</dd><dt>GA</dt><dd>13.9691867157143</dd><dt>NV</dt><dd>14.3116246307143</dd><dt>OR</dt><dd>14.5372625457143</dd><dt>TN</dt><dd>14.7511320535714</dd><dt>MO</dt><dd>15.0627599764286</dd><dt>IL</dt><dd>15.1938577485714</dd><dt>UT</dt><dd>15.5876299071429</dd><dt>NH</dt><dd>15.6710558321429</dd><dt>IA</dt><dd>16.2701490992857</dd><dt>MS</dt><dd>16.3774092992857</dd><dt>WA</dt><dd>16.4263941621429</dd><dt>KS</dt><dd>16.732968485</dd><dt>TX</dt><dd>17.0200817285714</dd><dt>AZ</dt><dd>17.2116043807143</dd><dt>PA</dt><dd>17.3260796735714</dd><dt>NM</dt><dd>18.1305633942857</dd><dt>NE</dt><dd>18.4703521071429</dd><dt>OK</dt><dd>18.7871459471429</dd><dt>AR</dt><dd>19.0901325292857</dd><dt>IN</dt><dd>19.6641502007143</dd><dt>LA</dt><dd>21.3845158942857</dd><dt>KY</dt><dd>22.399998885</dd><dt>SC</dt><dd>22.4765698914286</dd><dt>MT</dt><dd>28.94235057</dd><dt>AL</dt><dd>30.5819996692857</dd><dt>WV</dt><dd>47.4171413371429</dd><dt>ND</dt><dd>49.9094624607143</dd><dt>WY</dt><dd>88.3930826515385</dd></dl>\n"
      ],
      "text/latex": [
       "\\begin{description*}\n",
       "\\item[CA] 5.57628529978571\n",
       "\\item[MA] 6.43429463192857\n",
       "\\item[RI] 6.48862803392857\n",
       "\\item[NJ] 7.1087000365\n",
       "\\item[NY] 7.19738297621429\n",
       "\\item[DE] 8.25676093878571\n",
       "\\item[MD] 8.35253046321429\n",
       "\\item[ID] 8.35847144242857\n",
       "\\item[HI] 8.62356251442857\n",
       "\\item[CT] 9.35840936864286\n",
       "\\item[VA] 9.72036665964286\n",
       "\\item[AK] 9.81021785707143\n",
       "\\item[VT] 10.1770050477857\n",
       "\\item[MN] 10.1992825556429\n",
       "\\item[CO] 10.367633712\n",
       "\\item[SD] 10.7198634078571\n",
       "\\item[WI] 11.0793024935714\n",
       "\\item[MI] 11.2010833792857\n",
       "\\item[FL] 12.0270889092857\n",
       "\\item[OH] 12.6644612892857\n",
       "\\item[ME] 13.1487922307143\n",
       "\\item[NC] 13.9154436607143\n",
       "\\item[GA] 13.9691867157143\n",
       "\\item[NV] 14.3116246307143\n",
       "\\item[OR] 14.5372625457143\n",
       "\\item[TN] 14.7511320535714\n",
       "\\item[MO] 15.0627599764286\n",
       "\\item[IL] 15.1938577485714\n",
       "\\item[UT] 15.5876299071429\n",
       "\\item[NH] 15.6710558321429\n",
       "\\item[IA] 16.2701490992857\n",
       "\\item[MS] 16.3774092992857\n",
       "\\item[WA] 16.4263941621429\n",
       "\\item[KS] 16.732968485\n",
       "\\item[TX] 17.0200817285714\n",
       "\\item[AZ] 17.2116043807143\n",
       "\\item[PA] 17.3260796735714\n",
       "\\item[NM] 18.1305633942857\n",
       "\\item[NE] 18.4703521071429\n",
       "\\item[OK] 18.7871459471429\n",
       "\\item[AR] 19.0901325292857\n",
       "\\item[IN] 19.6641502007143\n",
       "\\item[LA] 21.3845158942857\n",
       "\\item[KY] 22.399998885\n",
       "\\item[SC] 22.4765698914286\n",
       "\\item[MT] 28.94235057\n",
       "\\item[AL] 30.5819996692857\n",
       "\\item[WV] 47.4171413371429\n",
       "\\item[ND] 49.9094624607143\n",
       "\\item[WY] 88.3930826515385\n",
       "\\end{description*}\n"
      ],
      "text/markdown": [
       "CA\n",
       ":   5.57628529978571MA\n",
       ":   6.43429463192857RI\n",
       ":   6.48862803392857NJ\n",
       ":   7.1087000365NY\n",
       ":   7.19738297621429DE\n",
       ":   8.25676093878571MD\n",
       ":   8.35253046321429ID\n",
       ":   8.35847144242857HI\n",
       ":   8.62356251442857CT\n",
       ":   9.35840936864286VA\n",
       ":   9.72036665964286AK\n",
       ":   9.81021785707143VT\n",
       ":   10.1770050477857MN\n",
       ":   10.1992825556429CO\n",
       ":   10.367633712SD\n",
       ":   10.7198634078571WI\n",
       ":   11.0793024935714MI\n",
       ":   11.2010833792857FL\n",
       ":   12.0270889092857OH\n",
       ":   12.6644612892857ME\n",
       ":   13.1487922307143NC\n",
       ":   13.9154436607143GA\n",
       ":   13.9691867157143NV\n",
       ":   14.3116246307143OR\n",
       ":   14.5372625457143TN\n",
       ":   14.7511320535714MO\n",
       ":   15.0627599764286IL\n",
       ":   15.1938577485714UT\n",
       ":   15.5876299071429NH\n",
       ":   15.6710558321429IA\n",
       ":   16.2701490992857MS\n",
       ":   16.3774092992857WA\n",
       ":   16.4263941621429KS\n",
       ":   16.732968485TX\n",
       ":   17.0200817285714AZ\n",
       ":   17.2116043807143PA\n",
       ":   17.3260796735714NM\n",
       ":   18.1305633942857NE\n",
       ":   18.4703521071429OK\n",
       ":   18.7871459471429AR\n",
       ":   19.0901325292857IN\n",
       ":   19.6641502007143LA\n",
       ":   21.3845158942857KY\n",
       ":   22.399998885SC\n",
       ":   22.4765698914286MT\n",
       ":   28.94235057AL\n",
       ":   30.5819996692857WV\n",
       ":   47.4171413371429ND\n",
       ":   49.9094624607143WY\n",
       ":   88.3930826515385\n",
       "\n"
      ],
      "text/plain": [
       "       CA        MA        RI        NJ        NY        DE        MD        ID \n",
       " 5.576285  6.434295  6.488628  7.108700  7.197383  8.256761  8.352530  8.358471 \n",
       "       HI        CT        VA        AK        VT        MN        CO        SD \n",
       " 8.623563  9.358409  9.720367  9.810218 10.177005 10.199283 10.367634 10.719863 \n",
       "       WI        MI        FL        OH        ME        NC        GA        NV \n",
       "11.079302 11.201083 12.027089 12.664461 13.148792 13.915444 13.969187 14.311625 \n",
       "       OR        TN        MO        IL        UT        NH        IA        MS \n",
       "14.537263 14.751132 15.062760 15.193858 15.587630 15.671056 16.270149 16.377409 \n",
       "       WA        KS        TX        AZ        PA        NM        NE        OK \n",
       "16.426394 16.732968 17.020082 17.211604 17.326080 18.130563 18.470352 18.787146 \n",
       "       AR        IN        LA        KY        SC        MT        AL        WV \n",
       "19.090133 19.664150 21.384516 22.399999 22.476570 28.942351 30.582000 47.417141 \n",
       "       ND        WY \n",
       "49.909462 88.393083 "
      ]
     },
     "metadata": {},
     "output_type": "display_data"
    }
   ],
   "source": [
    "sort(tapply(energy$GenTotal, energy$STATE, mean))"
   ]
  },
  {
   "cell_type": "code",
   "execution_count": 12,
   "metadata": {},
   "outputs": [],
   "source": [
    "library(caTools)\n",
    "set.seed(144)\n",
    "spl = sample(1:nrow(energy), size=0.7 * nrow(energy))\n",
    "train = energy[spl,]\n",
    "test = energy[-spl,]"
   ]
  },
  {
   "cell_type": "code",
   "execution_count": 13,
   "metadata": {
    "scrolled": false
   },
   "outputs": [
    {
     "data": {
      "text/plain": [
       "\n",
       "Call:\n",
       "glm(formula = GenSolarBinary ~ GenHydro + GenSolar + CumlFinancial + \n",
       "    CumlRegulatory + Total.salary + Import, family = \"binomial\", \n",
       "    data = train)\n",
       "\n",
       "Deviance Residuals: \n",
       "    Min       1Q   Median       3Q      Max  \n",
       "-3.6707  -0.4959  -0.2899  -0.0734   2.7436  \n",
       "\n",
       "Coefficients:\n",
       "                 Estimate Std. Error z value Pr(>|z|)    \n",
       "(Intercept)     -5.581159   0.827827  -6.742 1.56e-11 ***\n",
       "GenHydro        -3.377881   1.010639  -3.342 0.000831 ***\n",
       "GenSolar       860.165947 280.389543   3.068 0.002157 ** \n",
       "CumlFinancial    0.025375   0.008565   2.963 0.003050 ** \n",
       "CumlRegulatory   0.169151   0.045550   3.714 0.000204 ***\n",
       "Total.salary     0.123684   0.040991   3.017 0.002550 ** \n",
       "Import          -0.269544   0.322326  -0.836 0.403017    \n",
       "---\n",
       "Signif. codes:  0 '***' 0.001 '**' 0.01 '*' 0.05 '.' 0.1 ' ' 1\n",
       "\n",
       "(Dispersion parameter for binomial family taken to be 1)\n",
       "\n",
       "    Null deviance: 535.80  on 488  degrees of freedom\n",
       "Residual deviance: 325.67  on 482  degrees of freedom\n",
       "AIC: 339.67\n",
       "\n",
       "Number of Fisher Scoring iterations: 7\n"
      ]
     },
     "metadata": {},
     "output_type": "display_data"
    }
   ],
   "source": [
    "mod = glm(GenSolarBinary ~ GenHydro + GenSolar + CumlFinancial +\n",
    "          CumlRegulatory + Total.salary + Import, data=train,\n",
    "          family='binomial')\n",
    "summary(mod)"
   ]
  },
  {
   "cell_type": "code",
   "execution_count": 14,
   "metadata": {},
   "outputs": [
    {
     "data": {
      "text/plain": [
       "   thres\n",
       "    FALSE TRUE\n",
       "  0   159    5\n",
       "  1    20   26"
      ]
     },
     "metadata": {},
     "output_type": "display_data"
    },
    {
     "data": {
      "text/html": [
       "0.880952380952381"
      ],
      "text/latex": [
       "0.880952380952381"
      ],
      "text/markdown": [
       "0.880952380952381"
      ],
      "text/plain": [
       "[1] 0.8809524"
      ]
     },
     "metadata": {},
     "output_type": "display_data"
    }
   ],
   "source": [
    "pred = predict(mod, newdata = test, type='response')\n",
    "thres = pred > 0.5\n",
    "t = table(test$GenSolarBinary, thres)\n",
    "t\n",
    "sum(diag(t))/sum(t)"
   ]
  },
  {
   "cell_type": "code",
   "execution_count": 15,
   "metadata": {},
   "outputs": [
    {
     "data": {
      "text/plain": [
       "   thres\n",
       "    FALSE TRUE\n",
       "  0    54    4\n",
       "  1     8   24"
      ]
     },
     "metadata": {},
     "output_type": "display_data"
    },
    {
     "data": {
      "text/html": [
       "0.866666666666667"
      ],
      "text/latex": [
       "0.866666666666667"
      ],
      "text/markdown": [
       "0.866666666666667"
      ],
      "text/plain": [
       "[1] 0.8666667"
      ]
     },
     "metadata": {},
     "output_type": "display_data"
    }
   ],
   "source": [
    "sub = subset(test, presidential.results==1)\n",
    "pred = predict(mod, newdata = sub, type='response')\n",
    "thres = pred > 0.5\n",
    "t = table(sub$GenSolarBinary, thres)\n",
    "t\n",
    "sum(diag(t))/sum(t)"
   ]
  },
  {
   "cell_type": "code",
   "execution_count": 16,
   "metadata": {},
   "outputs": [
    {
     "data": {
      "text/plain": [
       "   thres\n",
       "    FALSE TRUE\n",
       "  0   105    1\n",
       "  1    12    2"
      ]
     },
     "metadata": {},
     "output_type": "display_data"
    },
    {
     "data": {
      "text/html": [
       "0.891666666666667"
      ],
      "text/latex": [
       "0.891666666666667"
      ],
      "text/markdown": [
       "0.891666666666667"
      ],
      "text/plain": [
       "[1] 0.8916667"
      ]
     },
     "metadata": {},
     "output_type": "display_data"
    }
   ],
   "source": [
    "sub = subset(test, presidential.results==0)\n",
    "pred = predict(mod, newdata = sub, type='response')\n",
    "thres = pred > 0.5\n",
    "t = table(sub$GenSolarBinary, thres)\n",
    "t\n",
    "sum(diag(t))/sum(t)"
   ]
  },
  {
   "cell_type": "code",
   "execution_count": 17,
   "metadata": {},
   "outputs": [],
   "source": [
    "train.limited = train[,c('CumlRegulatory', 'CumlFinancial',\n",
    "                         'presidential.results', 'Total.salary', 'Import')]\n",
    "test.limited = test[,c('CumlRegulatory', 'CumlFinancial',\n",
    "                       'presidential.results', 'Total.salary', 'Import')]"
   ]
  },
  {
   "cell_type": "code",
   "execution_count": 18,
   "metadata": {},
   "outputs": [
    {
     "name": "stderr",
     "output_type": "stream",
     "text": [
      "Loading required package: lattice\n",
      "\n",
      "Loading required package: ggplot2\n",
      "\n"
     ]
    }
   ],
   "source": [
    "library(caret)\n",
    "preproc = preProcess(train.limited)\n",
    "train.norm = predict(preproc, train.limited)\n",
    "test.norm = predict(preproc, test.limited)"
   ]
  },
  {
   "cell_type": "code",
   "execution_count": 19,
   "metadata": {},
   "outputs": [
    {
     "name": "stderr",
     "output_type": "stream",
     "text": [
      "Loading required package: grid\n",
      "\n",
      "Loading required package: modeltools\n",
      "\n",
      "Loading required package: stats4\n",
      "\n"
     ]
    }
   ],
   "source": [
    "set.seed(144)\n",
    "kmc = kmeans(train.norm, centers = 2, iter.max = 1000)\n",
    "#train.norm$cluster = kmc$cluster\n",
    "\n",
    "library(flexclust)\n",
    "kmc.kcca = as.kcca(kmc, train.norm)\n",
    "cluster.train = predict(kmc.kcca)\n",
    "#cluster.test = predict(as.kcca(kmc, test.norm), newdata = test.norm)\n",
    "#cluster.train"
   ]
  },
  {
   "cell_type": "code",
   "execution_count": 20,
   "metadata": {},
   "outputs": [],
   "source": [
    "set.seed(144)\n",
    "kmc = kmeans(test.norm, centers = 2, iter.max = 1000)\n",
    "\n",
    "library(flexclust)\n",
    "kmc.kcca = as.kcca(kmc, test.norm)\n",
    "cluster.test = predict(kmc.kcca)\n",
    "#cluster.test = predict(as.kcca(kmc, test.norm), newdata = test.norm)\n",
    "#cluster.train"
   ]
  },
  {
   "cell_type": "code",
   "execution_count": 21,
   "metadata": {},
   "outputs": [],
   "source": [
    "train1 = train[cluster.train == 1,]\n",
    "train2 = train[cluster.train == 2,]\n",
    "test1 = test[cluster.test == 1,]\n",
    "test2 = test[cluster.test == 2,]"
   ]
  },
  {
   "cell_type": "code",
   "execution_count": 31,
   "metadata": {},
   "outputs": [
    {
     "data": {
      "text/html": [
       "<table>\n",
       "<caption>A data.frame: 6 × 27</caption>\n",
       "<thead>\n",
       "\t<tr><th></th><th scope=col>STATE</th><th scope=col>YEAR</th><th scope=col>GenTotal</th><th scope=col>GenHydro</th><th scope=col>GenSolar</th><th scope=col>GenTotalRenewable</th><th scope=col>GenSolarBinary</th><th scope=col>GenTotalRenewableBinary</th><th scope=col>AllSourcesCO2</th><th scope=col>AllSourcesSO2</th><th scope=col>⋯</th><th scope=col>EsalesCommercial</th><th scope=col>EsalesIndustrial</th><th scope=col>EsalesTransportation</th><th scope=col>EsalesOther</th><th scope=col>EsalesTotal</th><th scope=col>CumlFinancial</th><th scope=col>CumlRegulatory</th><th scope=col>Total.salary</th><th scope=col>presidential.results</th><th scope=col>Import</th></tr>\n",
       "\t<tr><th></th><th scope=col>&lt;fct&gt;</th><th scope=col>&lt;int&gt;</th><th scope=col>&lt;dbl&gt;</th><th scope=col>&lt;dbl&gt;</th><th scope=col>&lt;dbl&gt;</th><th scope=col>&lt;dbl&gt;</th><th scope=col>&lt;int&gt;</th><th scope=col>&lt;int&gt;</th><th scope=col>&lt;dbl&gt;</th><th scope=col>&lt;dbl&gt;</th><th scope=col>⋯</th><th scope=col>&lt;dbl&gt;</th><th scope=col>&lt;dbl&gt;</th><th scope=col>&lt;dbl&gt;</th><th scope=col>&lt;dbl&gt;</th><th scope=col>&lt;dbl&gt;</th><th scope=col>&lt;int&gt;</th><th scope=col>&lt;int&gt;</th><th scope=col>&lt;dbl&gt;</th><th scope=col>&lt;int&gt;</th><th scope=col>&lt;int&gt;</th></tr>\n",
       "</thead>\n",
       "<tbody>\n",
       "\t<tr><th scope=row>167</th><td>IA</td><td>2012</td><td>18.425423</td><td>0.01351893</td><td>0.00000000</td><td>0.26377608</td><td>0</td><td>1</td><td>13.416078</td><td>0.031173611</td><td>⋯</td><td>0.2671198</td><td>0.4268665</td><td>0.000000000</td><td>NA</td><td>14.860229</td><td> 51</td><td>11</td><td>21.24970</td><td>1</td><td>0</td></tr>\n",
       "\t<tr><th scope=row>65</th><td>CA</td><td>2008</td><td> 5.692272</td><td>0.11600786</td><td>0.00322371</td><td>0.21842129</td><td>0</td><td>1</td><td> 1.711877</td><td>0.000105096</td><td>⋯</td><td>0.4662461</td><td>0.1903050</td><td>0.003232508</td><td>NA</td><td> 7.339076</td><td>108</td><td>26</td><td>24.79641</td><td>1</td><td>1</td></tr>\n",
       "\t<tr><th scope=row>320</th><td>MN</td><td>2011</td><td> 9.932630</td><td>0.01404644</td><td>0.00000000</td><td>0.15820855</td><td>0</td><td>1</td><td> 6.099099</td><td>0.009809021</td><td>⋯</td><td>0.3264297</td><td>0.3446343</td><td>0.000279399</td><td>NA</td><td>12.814556</td><td>118</td><td>12</td><td>26.17097</td><td>1</td><td>1</td></tr>\n",
       "\t<tr><th scope=row>629</th><td>VA</td><td>2012</td><td> 8.633662</td><td>0.01475523</td><td>0.00000000</td><td>0.02779826</td><td>0</td><td>1</td><td> 3.566665</td><td>0.006796306</td><td>⋯</td><td>0.4337554</td><td>0.1606358</td><td>0.001743244</td><td>NA</td><td>13.156284</td><td> 24</td><td>13</td><td>29.34004</td><td>1</td><td>1</td></tr>\n",
       "\t<tr><th scope=row>312</th><td>MN</td><td>2003</td><td>10.900339</td><td>0.01479670</td><td>0.00000000</td><td>0.04139160</td><td>0</td><td>0</td><td> 7.982275</td><td>0.022389149</td><td>⋯</td><td>0.3254740</td><td>0.3473962</td><td>0.000000000</td><td> 0</td><td>12.491570</td><td>  5</td><td> 8</td><td>20.97798</td><td>1</td><td>1</td></tr>\n",
       "\t<tr><th scope=row>469</th><td>NY</td><td>2006</td><td> 7.350856</td><td>0.19220871</td><td>0.00000000</td><td>0.20679280</td><td>0</td><td>0</td><td> 2.657279</td><td>0.006297127</td><td>⋯</td><td>0.5345166</td><td>0.1052913</td><td>0.019729352</td><td>NA</td><td> 7.349439</td><td> 10</td><td> 8</td><td>25.35633</td><td>1</td><td>0</td></tr>\n",
       "</tbody>\n",
       "</table>\n"
      ],
      "text/latex": [
       "A data.frame: 6 × 27\n",
       "\\begin{tabular}{r|lllllllllllllllllllll}\n",
       "  & STATE & YEAR & GenTotal & GenHydro & GenSolar & GenTotalRenewable & GenSolarBinary & GenTotalRenewableBinary & AllSourcesCO2 & AllSourcesSO2 & ⋯ & EsalesCommercial & EsalesIndustrial & EsalesTransportation & EsalesOther & EsalesTotal & CumlFinancial & CumlRegulatory & Total.salary & presidential.results & Import\\\\\n",
       "  & <fct> & <int> & <dbl> & <dbl> & <dbl> & <dbl> & <int> & <int> & <dbl> & <dbl> & ⋯ & <dbl> & <dbl> & <dbl> & <dbl> & <dbl> & <int> & <int> & <dbl> & <int> & <int>\\\\\n",
       "\\hline\n",
       "\t167 & IA & 2012 & 18.425423 & 0.01351893 & 0.00000000 & 0.26377608 & 0 & 1 & 13.416078 & 0.031173611 & ⋯ & 0.2671198 & 0.4268665 & 0.000000000 & NA & 14.860229 &  51 & 11 & 21.24970 & 1 & 0\\\\\n",
       "\t65 & CA & 2008 &  5.692272 & 0.11600786 & 0.00322371 & 0.21842129 & 0 & 1 &  1.711877 & 0.000105096 & ⋯ & 0.4662461 & 0.1903050 & 0.003232508 & NA &  7.339076 & 108 & 26 & 24.79641 & 1 & 1\\\\\n",
       "\t320 & MN & 2011 &  9.932630 & 0.01404644 & 0.00000000 & 0.15820855 & 0 & 1 &  6.099099 & 0.009809021 & ⋯ & 0.3264297 & 0.3446343 & 0.000279399 & NA & 12.814556 & 118 & 12 & 26.17097 & 1 & 1\\\\\n",
       "\t629 & VA & 2012 &  8.633662 & 0.01475523 & 0.00000000 & 0.02779826 & 0 & 1 &  3.566665 & 0.006796306 & ⋯ & 0.4337554 & 0.1606358 & 0.001743244 & NA & 13.156284 &  24 & 13 & 29.34004 & 1 & 1\\\\\n",
       "\t312 & MN & 2003 & 10.900339 & 0.01479670 & 0.00000000 & 0.04139160 & 0 & 0 &  7.982275 & 0.022389149 & ⋯ & 0.3254740 & 0.3473962 & 0.000000000 &  0 & 12.491570 &   5 &  8 & 20.97798 & 1 & 1\\\\\n",
       "\t469 & NY & 2006 &  7.350856 & 0.19220871 & 0.00000000 & 0.20679280 & 0 & 0 &  2.657279 & 0.006297127 & ⋯ & 0.5345166 & 0.1052913 & 0.019729352 & NA &  7.349439 &  10 &  8 & 25.35633 & 1 & 0\\\\\n",
       "\\end{tabular}\n"
      ],
      "text/markdown": [
       "\n",
       "A data.frame: 6 × 27\n",
       "\n",
       "| <!--/--> | STATE &lt;fct&gt; | YEAR &lt;int&gt; | GenTotal &lt;dbl&gt; | GenHydro &lt;dbl&gt; | GenSolar &lt;dbl&gt; | GenTotalRenewable &lt;dbl&gt; | GenSolarBinary &lt;int&gt; | GenTotalRenewableBinary &lt;int&gt; | AllSourcesCO2 &lt;dbl&gt; | AllSourcesSO2 &lt;dbl&gt; | ⋯ ⋯ | EsalesCommercial &lt;dbl&gt; | EsalesIndustrial &lt;dbl&gt; | EsalesTransportation &lt;dbl&gt; | EsalesOther &lt;dbl&gt; | EsalesTotal &lt;dbl&gt; | CumlFinancial &lt;int&gt; | CumlRegulatory &lt;int&gt; | Total.salary &lt;dbl&gt; | presidential.results &lt;int&gt; | Import &lt;int&gt; |\n",
       "|---|---|---|---|---|---|---|---|---|---|---|---|---|---|---|---|---|---|---|---|---|---|\n",
       "| 167 | IA | 2012 | 18.425423 | 0.01351893 | 0.00000000 | 0.26377608 | 0 | 1 | 13.416078 | 0.031173611 | ⋯ | 0.2671198 | 0.4268665 | 0.000000000 | NA | 14.860229 |  51 | 11 | 21.24970 | 1 | 0 |\n",
       "| 65 | CA | 2008 |  5.692272 | 0.11600786 | 0.00322371 | 0.21842129 | 0 | 1 |  1.711877 | 0.000105096 | ⋯ | 0.4662461 | 0.1903050 | 0.003232508 | NA |  7.339076 | 108 | 26 | 24.79641 | 1 | 1 |\n",
       "| 320 | MN | 2011 |  9.932630 | 0.01404644 | 0.00000000 | 0.15820855 | 0 | 1 |  6.099099 | 0.009809021 | ⋯ | 0.3264297 | 0.3446343 | 0.000279399 | NA | 12.814556 | 118 | 12 | 26.17097 | 1 | 1 |\n",
       "| 629 | VA | 2012 |  8.633662 | 0.01475523 | 0.00000000 | 0.02779826 | 0 | 1 |  3.566665 | 0.006796306 | ⋯ | 0.4337554 | 0.1606358 | 0.001743244 | NA | 13.156284 |  24 | 13 | 29.34004 | 1 | 1 |\n",
       "| 312 | MN | 2003 | 10.900339 | 0.01479670 | 0.00000000 | 0.04139160 | 0 | 0 |  7.982275 | 0.022389149 | ⋯ | 0.3254740 | 0.3473962 | 0.000000000 |  0 | 12.491570 |   5 |  8 | 20.97798 | 1 | 1 |\n",
       "| 469 | NY | 2006 |  7.350856 | 0.19220871 | 0.00000000 | 0.20679280 | 0 | 0 |  2.657279 | 0.006297127 | ⋯ | 0.5345166 | 0.1052913 | 0.019729352 | NA |  7.349439 |  10 |  8 | 25.35633 | 1 | 0 |\n",
       "\n"
      ],
      "text/plain": [
       "    STATE YEAR GenTotal  GenHydro   GenSolar   GenTotalRenewable GenSolarBinary\n",
       "167 IA    2012 18.425423 0.01351893 0.00000000 0.26377608        0             \n",
       "65  CA    2008  5.692272 0.11600786 0.00322371 0.21842129        0             \n",
       "320 MN    2011  9.932630 0.01404644 0.00000000 0.15820855        0             \n",
       "629 VA    2012  8.633662 0.01475523 0.00000000 0.02779826        0             \n",
       "312 MN    2003 10.900339 0.01479670 0.00000000 0.04139160        0             \n",
       "469 NY    2006  7.350856 0.19220871 0.00000000 0.20679280        0             \n",
       "    GenTotalRenewableBinary AllSourcesCO2 AllSourcesSO2 <U+22EF>       \n",
       "167 1                       13.416078     0.031173611   <U+22EF>\n",
       "65  1                        1.711877     0.000105096   <U+22EF>\n",
       "320 1                        6.099099     0.009809021   <U+22EF>\n",
       "629 1                        3.566665     0.006796306   <U+22EF>\n",
       "312 0                        7.982275     0.022389149   <U+22EF>\n",
       "469 0                        2.657279     0.006297127   <U+22EF>\n",
       "    EsalesCommercial EsalesIndustrial EsalesTransportation EsalesOther\n",
       "167 0.2671198        0.4268665        0.000000000          NA         \n",
       "65  0.4662461        0.1903050        0.003232508          NA         \n",
       "320 0.3264297        0.3446343        0.000279399          NA         \n",
       "629 0.4337554        0.1606358        0.001743244          NA         \n",
       "312 0.3254740        0.3473962        0.000000000           0         \n",
       "469 0.5345166        0.1052913        0.019729352          NA         \n",
       "    EsalesTotal CumlFinancial CumlRegulatory Total.salary presidential.results\n",
       "167 14.860229    51           11             21.24970     1                   \n",
       "65   7.339076   108           26             24.79641     1                   \n",
       "320 12.814556   118           12             26.17097     1                   \n",
       "629 13.156284    24           13             29.34004     1                   \n",
       "312 12.491570     5            8             20.97798     1                   \n",
       "469  7.349439    10            8             25.35633     1                   \n",
       "    Import\n",
       "167 0     \n",
       "65  1     \n",
       "320 1     \n",
       "629 1     \n",
       "312 1     \n",
       "469 0     "
      ]
     },
     "metadata": {},
     "output_type": "display_data"
    }
   ],
   "source": [
    "head(train1)"
   ]
  },
  {
   "cell_type": "code",
   "execution_count": 22,
   "metadata": {},
   "outputs": [
    {
     "data": {
      "text/html": [
       "0.888888888888889"
      ],
      "text/latex": [
       "0.888888888888889"
      ],
      "text/markdown": [
       "0.888888888888889"
      ],
      "text/plain": [
       "[1] 0.8888889"
      ]
     },
     "metadata": {},
     "output_type": "display_data"
    },
    {
     "data": {
      "text/html": [
       "0.185567010309278"
      ],
      "text/latex": [
       "0.185567010309278"
      ],
      "text/markdown": [
       "0.185567010309278"
      ],
      "text/plain": [
       "[1] 0.185567"
      ]
     },
     "metadata": {},
     "output_type": "display_data"
    }
   ],
   "source": [
    "mean(train1$presidential.results)\n",
    "mean(train2$presidential.results)"
   ]
  },
  {
   "cell_type": "code",
   "execution_count": 23,
   "metadata": {},
   "outputs": [
    {
     "data": {
      "text/html": [
       "11.520202020202"
      ],
      "text/latex": [
       "11.520202020202"
      ],
      "text/markdown": [
       "11.520202020202"
      ],
      "text/plain": [
       "[1] 11.5202"
      ]
     },
     "metadata": {},
     "output_type": "display_data"
    },
    {
     "data": {
      "text/html": [
       "31.3737373737374"
      ],
      "text/latex": [
       "31.3737373737374"
      ],
      "text/markdown": [
       "31.3737373737374"
      ],
      "text/plain": [
       "[1] 31.37374"
      ]
     },
     "metadata": {},
     "output_type": "display_data"
    },
    {
     "data": {
      "text/html": [
       "3.79381443298969"
      ],
      "text/latex": [
       "3.79381443298969"
      ],
      "text/markdown": [
       "3.79381443298969"
      ],
      "text/plain": [
       "[1] 3.793814"
      ]
     },
     "metadata": {},
     "output_type": "display_data"
    },
    {
     "data": {
      "text/html": [
       "7.79381443298969"
      ],
      "text/latex": [
       "7.79381443298969"
      ],
      "text/markdown": [
       "7.79381443298969"
      ],
      "text/plain": [
       "[1] 7.793814"
      ]
     },
     "metadata": {},
     "output_type": "display_data"
    }
   ],
   "source": [
    "mean(train1$CumlRegulatory)\n",
    "mean(train1$CumlFinancial)\n",
    "mean(train2$CumlRegulatory)\n",
    "mean(train2$CumlFinancial)"
   ]
  },
  {
   "cell_type": "code",
   "execution_count": 24,
   "metadata": {},
   "outputs": [
    {
     "data": {
      "text/plain": [
       "\n",
       "Call:\n",
       "glm(formula = GenSolarBinary ~ GenHydro + GenSolar + CumlFinancial + \n",
       "    CumlRegulatory + Total.salary + Import, family = \"binomial\", \n",
       "    data = train1)\n",
       "\n",
       "Deviance Residuals: \n",
       "    Min       1Q   Median       3Q      Max  \n",
       "-3.3077  -0.8122  -0.3257   0.8931   1.7706  \n",
       "\n",
       "Coefficients:\n",
       "                Estimate Std. Error z value Pr(>|z|)    \n",
       "(Intercept)     -3.60680    1.24533  -2.896 0.003776 ** \n",
       "GenHydro        -4.50969    1.20708  -3.736 0.000187 ***\n",
       "GenSolar       835.21718  281.85075   2.963 0.003043 ** \n",
       "CumlFinancial    0.01930    0.00902   2.139 0.032401 *  \n",
       "CumlRegulatory   0.14098    0.05983   2.356 0.018464 *  \n",
       "Total.salary     0.08360    0.05121   1.633 0.102545    \n",
       "Import          -0.91904    0.37450  -2.454 0.014126 *  \n",
       "---\n",
       "Signif. codes:  0 '***' 0.001 '**' 0.01 '*' 0.05 '.' 0.1 ' ' 1\n",
       "\n",
       "(Dispersion parameter for binomial family taken to be 1)\n",
       "\n",
       "    Null deviance: 274.41  on 197  degrees of freedom\n",
       "Residual deviance: 201.55  on 191  degrees of freedom\n",
       "AIC: 215.55\n",
       "\n",
       "Number of Fisher Scoring iterations: 7\n"
      ]
     },
     "metadata": {},
     "output_type": "display_data"
    }
   ],
   "source": [
    "mod1 = glm(GenSolarBinary ~ GenHydro + GenSolar + CumlFinancial +\n",
    "          CumlRegulatory + Total.salary + Import, data=train1,\n",
    "          family='binomial')\n",
    "summary(mod1)"
   ]
  },
  {
   "cell_type": "code",
   "execution_count": 25,
   "metadata": {},
   "outputs": [
    {
     "data": {
      "text/plain": [
       "   \n",
       "    FALSE TRUE\n",
       "  0    32    5\n",
       "  1    12   24"
      ]
     },
     "metadata": {},
     "output_type": "display_data"
    },
    {
     "data": {
      "text/html": [
       "0.767123287671233"
      ],
      "text/latex": [
       "0.767123287671233"
      ],
      "text/markdown": [
       "0.767123287671233"
      ],
      "text/plain": [
       "[1] 0.7671233"
      ]
     },
     "metadata": {},
     "output_type": "display_data"
    }
   ],
   "source": [
    "pred1 = predict(mod1, type='response', newdata = test1)\n",
    "t = table(test1$GenSolarBinary, pred1 > 0.5)\n",
    "t\n",
    "sum(diag(t))/sum(t)"
   ]
  },
  {
   "cell_type": "code",
   "execution_count": 26,
   "metadata": {},
   "outputs": [
    {
     "data": {
      "text/plain": [
       "   \n",
       "    FALSE TRUE\n",
       "  0    32    5\n",
       "  1    10   26"
      ]
     },
     "metadata": {},
     "output_type": "display_data"
    },
    {
     "data": {
      "text/html": [
       "0.794520547945205"
      ],
      "text/latex": [
       "0.794520547945205"
      ],
      "text/markdown": [
       "0.794520547945205"
      ],
      "text/plain": [
       "[1] 0.7945205"
      ]
     },
     "metadata": {},
     "output_type": "display_data"
    }
   ],
   "source": [
    "pred = predict(mod, type='response', newdata = test1)\n",
    "t = table(test1$GenSolarBinary, pred > 0.5)\n",
    "t\n",
    "sum(diag(t))/sum(t)"
   ]
  },
  {
   "cell_type": "code",
   "execution_count": 27,
   "metadata": {},
   "outputs": [
    {
     "data": {
      "text/plain": [
       "\n",
       "Call:\n",
       "glm(formula = GenSolarBinary ~ GenHydro + GenSolar + CumlFinancial + \n",
       "    CumlRegulatory + Total.salary + Import, family = \"binomial\", \n",
       "    data = train2)\n",
       "\n",
       "Deviance Residuals: \n",
       "    Min       1Q   Median       3Q      Max  \n",
       "-1.4170  -0.2752  -0.1733  -0.1116   2.9755  \n",
       "\n",
       "Coefficients:\n",
       "                 Estimate Std. Error z value Pr(>|z|)    \n",
       "(Intercept)    -8.219e+00  2.011e+00  -4.088 4.36e-05 ***\n",
       "GenHydro       -1.919e-01  1.492e+00  -0.129 0.897641    \n",
       "GenSolar        1.527e+04  8.168e+03   1.869 0.061587 .  \n",
       "CumlFinancial   7.496e-02  2.033e-02   3.687 0.000227 ***\n",
       "CumlRegulatory  1.657e-01  1.169e-01   1.418 0.156324    \n",
       "Total.salary    1.734e-01  8.929e-02   1.942 0.052110 .  \n",
       "Import          8.734e-01  7.730e-01   1.130 0.258511    \n",
       "---\n",
       "Signif. codes:  0 '***' 0.001 '**' 0.01 '*' 0.05 '.' 0.1 ' ' 1\n",
       "\n",
       "(Dispersion parameter for binomial family taken to be 1)\n",
       "\n",
       "    Null deviance: 140.429  on 290  degrees of freedom\n",
       "Residual deviance:  92.081  on 284  degrees of freedom\n",
       "AIC: 106.08\n",
       "\n",
       "Number of Fisher Scoring iterations: 7\n"
      ]
     },
     "metadata": {},
     "output_type": "display_data"
    }
   ],
   "source": [
    "mod2 = glm(GenSolarBinary ~ GenHydro + GenSolar + CumlFinancial +\n",
    "          CumlRegulatory + Total.salary + Import, data=train2,\n",
    "          family='binomial')\n",
    "summary(mod2)"
   ]
  },
  {
   "cell_type": "code",
   "execution_count": 28,
   "metadata": {},
   "outputs": [
    {
     "data": {
      "text/plain": [
       "   \n",
       "    FALSE TRUE\n",
       "  0   127    0\n",
       "  1     9    1"
      ]
     },
     "metadata": {},
     "output_type": "display_data"
    },
    {
     "data": {
      "text/html": [
       "0.934306569343066"
      ],
      "text/latex": [
       "0.934306569343066"
      ],
      "text/markdown": [
       "0.934306569343066"
      ],
      "text/plain": [
       "[1] 0.9343066"
      ]
     },
     "metadata": {},
     "output_type": "display_data"
    }
   ],
   "source": [
    "pred2 = predict(mod2, type='response', newdata = test2)\n",
    "t = table(test2$GenSolarBinary, pred2 > 0.5)\n",
    "t\n",
    "sum(diag(t))/sum(t)"
   ]
  },
  {
   "cell_type": "code",
   "execution_count": 29,
   "metadata": {},
   "outputs": [
    {
     "data": {
      "text/plain": [
       "   \n",
       "    FALSE\n",
       "  0   127\n",
       "  1    10"
      ]
     },
     "metadata": {},
     "output_type": "display_data"
    },
    {
     "data": {
      "text/html": [
       "0.927007299270073"
      ],
      "text/latex": [
       "0.927007299270073"
      ],
      "text/markdown": [
       "0.927007299270073"
      ],
      "text/plain": [
       "[1] 0.9270073"
      ]
     },
     "metadata": {},
     "output_type": "display_data"
    }
   ],
   "source": [
    "pred = predict(mod, type='response', newdata = test2)\n",
    "t = table(test2$GenSolarBinary, pred > 0.5)\n",
    "t\n",
    "sum(diag(t))/sum(t)"
   ]
  },
  {
   "cell_type": "code",
   "execution_count": 30,
   "metadata": {},
   "outputs": [
    {
     "data": {
      "text/plain": [
       "       \n",
       "outcome FALSE TRUE\n",
       "      0   159    5\n",
       "      1    21   25"
      ]
     },
     "metadata": {},
     "output_type": "display_data"
    },
    {
     "data": {
      "text/html": [
       "0.876190476190476"
      ],
      "text/latex": [
       "0.876190476190476"
      ],
      "text/markdown": [
       "0.876190476190476"
      ],
      "text/plain": [
       "[1] 0.8761905"
      ]
     },
     "metadata": {},
     "output_type": "display_data"
    }
   ],
   "source": [
    "#predall = \n",
    "#cbind(pred1, pred2)\n",
    "predall = c(as.vector(pred1), as.vector(pred2))\n",
    "outcome = c(test1$GenSolarBinary, test2$GenSolarBinary)\n",
    "t = table(outcome, predall > 0.5)\n",
    "t\n",
    "sum(diag(t))/sum(t)"
   ]
  },
  {
   "cell_type": "code",
   "execution_count": null,
   "metadata": {},
   "outputs": [],
   "source": []
  }
 ],
 "metadata": {
  "kernelspec": {
   "display_name": "R",
   "language": "R",
   "name": "ir"
  },
  "language_info": {
   "codemirror_mode": "r",
   "file_extension": ".r",
   "mimetype": "text/x-r-source",
   "name": "R",
   "pygments_lexer": "r",
   "version": "3.6.3"
  }
 },
 "nbformat": 4,
 "nbformat_minor": 1
}
