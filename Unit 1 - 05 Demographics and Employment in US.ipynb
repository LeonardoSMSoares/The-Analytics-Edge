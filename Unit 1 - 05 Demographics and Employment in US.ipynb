{
 "cells": [
  {
   "cell_type": "markdown",
   "metadata": {},
   "source": [
    "# Demographics and Employment in the United States"
   ]
  },
  {
   "cell_type": "markdown",
   "metadata": {},
   "source": [
    "In the wake of the Great Recession of 2009, there has been a good deal of focus on employment statistics, one of the most important metrics policymakers use to gauge the overall strength of the economy. In the United States, the government measures unemployment using the **Current Population Survey (CPS)**, which collects demographic and employment information from a wide range of Americans each month. In this exercise, we will employ the topics reviewed in the lectures as well as a few new techniques using the September 2013 version of this rich, nationally representative dataset."
   ]
  },
  {
   "cell_type": "markdown",
   "metadata": {},
   "source": [
    "The observations in the dataset represent people surveyed in the September 2013 CPS who actually completed a survey. While the full dataset has 385 variables, in this exercise we will use a more compact version of the dataset, CPSData.csv. How many interviewees are in the dataset?"
   ]
  },
  {
   "cell_type": "code",
   "execution_count": 2,
   "metadata": {},
   "outputs": [
    {
     "data": {
      "text/html": [
       "<table>\n",
       "<caption>A data.frame: 6 × 14</caption>\n",
       "<thead>\n",
       "\t<tr><th></th><th scope=col>PeopleInHousehold</th><th scope=col>Region</th><th scope=col>State</th><th scope=col>MetroAreaCode</th><th scope=col>Age</th><th scope=col>Married</th><th scope=col>Sex</th><th scope=col>Education</th><th scope=col>Race</th><th scope=col>Hispanic</th><th scope=col>CountryOfBirthCode</th><th scope=col>Citizenship</th><th scope=col>EmploymentStatus</th><th scope=col>Industry</th></tr>\n",
       "\t<tr><th></th><th scope=col>&lt;int&gt;</th><th scope=col>&lt;fct&gt;</th><th scope=col>&lt;fct&gt;</th><th scope=col>&lt;int&gt;</th><th scope=col>&lt;int&gt;</th><th scope=col>&lt;fct&gt;</th><th scope=col>&lt;fct&gt;</th><th scope=col>&lt;fct&gt;</th><th scope=col>&lt;fct&gt;</th><th scope=col>&lt;int&gt;</th><th scope=col>&lt;int&gt;</th><th scope=col>&lt;fct&gt;</th><th scope=col>&lt;fct&gt;</th><th scope=col>&lt;fct&gt;</th></tr>\n",
       "</thead>\n",
       "<tbody>\n",
       "\t<tr><th scope=row>1</th><td>1</td><td>South</td><td>Alabama</td><td>26620</td><td>85</td><td>Widowed      </td><td>Female</td><td>Associate degree      </td><td>White</td><td>0</td><td>57</td><td>Citizen, Native</td><td>Retired           </td><td>NA                                </td></tr>\n",
       "\t<tr><th scope=row>2</th><td>3</td><td>South</td><td>Alabama</td><td>13820</td><td>21</td><td>Never Married</td><td>Male  </td><td>High school           </td><td>Black</td><td>0</td><td>57</td><td>Citizen, Native</td><td>Unemployed        </td><td>Professional and business services</td></tr>\n",
       "\t<tr><th scope=row>3</th><td>3</td><td>South</td><td>Alabama</td><td>13820</td><td>37</td><td>Never Married</td><td>Female</td><td>High school           </td><td>Black</td><td>0</td><td>57</td><td>Citizen, Native</td><td>Disabled          </td><td>NA                                </td></tr>\n",
       "\t<tr><th scope=row>4</th><td>3</td><td>South</td><td>Alabama</td><td>13820</td><td>18</td><td>Never Married</td><td>Male  </td><td>No high school diploma</td><td>Black</td><td>0</td><td>57</td><td>Citizen, Native</td><td>Not in Labor Force</td><td>NA                                </td></tr>\n",
       "\t<tr><th scope=row>5</th><td>3</td><td>South</td><td>Alabama</td><td>26620</td><td>52</td><td>Widowed      </td><td>Female</td><td>Associate degree      </td><td>White</td><td>0</td><td>57</td><td>Citizen, Native</td><td>Employed          </td><td>Professional and business services</td></tr>\n",
       "\t<tr><th scope=row>6</th><td>3</td><td>South</td><td>Alabama</td><td>26620</td><td>24</td><td>Never Married</td><td>Male  </td><td>Bachelor's degree     </td><td>White</td><td>0</td><td>57</td><td>Citizen, Native</td><td>Employed          </td><td>Educational and health services   </td></tr>\n",
       "</tbody>\n",
       "</table>\n"
      ],
      "text/latex": [
       "A data.frame: 6 × 14\n",
       "\\begin{tabular}{r|llllllllllllll}\n",
       "  & PeopleInHousehold & Region & State & MetroAreaCode & Age & Married & Sex & Education & Race & Hispanic & CountryOfBirthCode & Citizenship & EmploymentStatus & Industry\\\\\n",
       "  & <int> & <fct> & <fct> & <int> & <int> & <fct> & <fct> & <fct> & <fct> & <int> & <int> & <fct> & <fct> & <fct>\\\\\n",
       "\\hline\n",
       "\t1 & 1 & South & Alabama & 26620 & 85 & Widowed       & Female & Associate degree       & White & 0 & 57 & Citizen, Native & Retired            & NA                                \\\\\n",
       "\t2 & 3 & South & Alabama & 13820 & 21 & Never Married & Male   & High school            & Black & 0 & 57 & Citizen, Native & Unemployed         & Professional and business services\\\\\n",
       "\t3 & 3 & South & Alabama & 13820 & 37 & Never Married & Female & High school            & Black & 0 & 57 & Citizen, Native & Disabled           & NA                                \\\\\n",
       "\t4 & 3 & South & Alabama & 13820 & 18 & Never Married & Male   & No high school diploma & Black & 0 & 57 & Citizen, Native & Not in Labor Force & NA                                \\\\\n",
       "\t5 & 3 & South & Alabama & 26620 & 52 & Widowed       & Female & Associate degree       & White & 0 & 57 & Citizen, Native & Employed           & Professional and business services\\\\\n",
       "\t6 & 3 & South & Alabama & 26620 & 24 & Never Married & Male   & Bachelor's degree      & White & 0 & 57 & Citizen, Native & Employed           & Educational and health services   \\\\\n",
       "\\end{tabular}\n"
      ],
      "text/markdown": [
       "\n",
       "A data.frame: 6 × 14\n",
       "\n",
       "| <!--/--> | PeopleInHousehold &lt;int&gt; | Region &lt;fct&gt; | State &lt;fct&gt; | MetroAreaCode &lt;int&gt; | Age &lt;int&gt; | Married &lt;fct&gt; | Sex &lt;fct&gt; | Education &lt;fct&gt; | Race &lt;fct&gt; | Hispanic &lt;int&gt; | CountryOfBirthCode &lt;int&gt; | Citizenship &lt;fct&gt; | EmploymentStatus &lt;fct&gt; | Industry &lt;fct&gt; |\n",
       "|---|---|---|---|---|---|---|---|---|---|---|---|---|---|---|\n",
       "| 1 | 1 | South | Alabama | 26620 | 85 | Widowed       | Female | Associate degree       | White | 0 | 57 | Citizen, Native | Retired            | NA                                 |\n",
       "| 2 | 3 | South | Alabama | 13820 | 21 | Never Married | Male   | High school            | Black | 0 | 57 | Citizen, Native | Unemployed         | Professional and business services |\n",
       "| 3 | 3 | South | Alabama | 13820 | 37 | Never Married | Female | High school            | Black | 0 | 57 | Citizen, Native | Disabled           | NA                                 |\n",
       "| 4 | 3 | South | Alabama | 13820 | 18 | Never Married | Male   | No high school diploma | Black | 0 | 57 | Citizen, Native | Not in Labor Force | NA                                 |\n",
       "| 5 | 3 | South | Alabama | 26620 | 52 | Widowed       | Female | Associate degree       | White | 0 | 57 | Citizen, Native | Employed           | Professional and business services |\n",
       "| 6 | 3 | South | Alabama | 26620 | 24 | Never Married | Male   | Bachelor's degree      | White | 0 | 57 | Citizen, Native | Employed           | Educational and health services    |\n",
       "\n"
      ],
      "text/plain": [
       "  PeopleInHousehold Region State   MetroAreaCode Age Married       Sex   \n",
       "1 1                 South  Alabama 26620         85  Widowed       Female\n",
       "2 3                 South  Alabama 13820         21  Never Married Male  \n",
       "3 3                 South  Alabama 13820         37  Never Married Female\n",
       "4 3                 South  Alabama 13820         18  Never Married Male  \n",
       "5 3                 South  Alabama 26620         52  Widowed       Female\n",
       "6 3                 South  Alabama 26620         24  Never Married Male  \n",
       "  Education              Race  Hispanic CountryOfBirthCode Citizenship    \n",
       "1 Associate degree       White 0        57                 Citizen, Native\n",
       "2 High school            Black 0        57                 Citizen, Native\n",
       "3 High school            Black 0        57                 Citizen, Native\n",
       "4 No high school diploma Black 0        57                 Citizen, Native\n",
       "5 Associate degree       White 0        57                 Citizen, Native\n",
       "6 Bachelor's degree      White 0        57                 Citizen, Native\n",
       "  EmploymentStatus   Industry                          \n",
       "1 Retired            NA                                \n",
       "2 Unemployed         Professional and business services\n",
       "3 Disabled           NA                                \n",
       "4 Not in Labor Force NA                                \n",
       "5 Employed           Professional and business services\n",
       "6 Employed           Educational and health services   "
      ]
     },
     "metadata": {},
     "output_type": "display_data"
    }
   ],
   "source": [
    "CPS <- read.csv('data/CPSData.csv')\n",
    "head(CPS)"
   ]
  },
  {
   "cell_type": "code",
   "execution_count": 3,
   "metadata": {},
   "outputs": [
    {
     "name": "stdout",
     "output_type": "stream",
     "text": [
      "'data.frame':\t131302 obs. of  14 variables:\n",
      " $ PeopleInHousehold : int  1 3 3 3 3 3 3 2 2 2 ...\n",
      " $ Region            : Factor w/ 4 levels \"Midwest\",\"Northeast\",..: 3 3 3 3 3 3 3 3 3 3 ...\n",
      " $ State             : Factor w/ 51 levels \"Alabama\",\"Alaska\",..: 1 1 1 1 1 1 1 1 1 1 ...\n",
      " $ MetroAreaCode     : int  26620 13820 13820 13820 26620 26620 26620 33660 33660 26620 ...\n",
      " $ Age               : int  85 21 37 18 52 24 26 71 43 52 ...\n",
      " $ Married           : Factor w/ 5 levels \"Divorced\",\"Married\",..: 5 3 3 3 5 3 3 1 1 3 ...\n",
      " $ Sex               : Factor w/ 2 levels \"Female\",\"Male\": 1 2 1 2 1 2 2 1 2 2 ...\n",
      " $ Education         : Factor w/ 8 levels \"Associate degree\",..: 1 4 4 6 1 2 4 4 4 2 ...\n",
      " $ Race              : Factor w/ 6 levels \"American Indian\",..: 6 3 3 3 6 6 6 6 6 6 ...\n",
      " $ Hispanic          : int  0 0 0 0 0 0 0 0 0 0 ...\n",
      " $ CountryOfBirthCode: int  57 57 57 57 57 57 57 57 57 57 ...\n",
      " $ Citizenship       : Factor w/ 3 levels \"Citizen, Native\",..: 1 1 1 1 1 1 1 1 1 1 ...\n",
      " $ EmploymentStatus  : Factor w/ 5 levels \"Disabled\",\"Employed\",..: 4 5 1 3 2 2 2 2 3 2 ...\n",
      " $ Industry          : Factor w/ 14 levels \"Agriculture, forestry, fishing, and hunting\",..: NA 11 NA NA 11 4 14 4 NA 12 ...\n"
     ]
    }
   ],
   "source": [
    "str(CPS)"
   ]
  },
  {
   "cell_type": "code",
   "execution_count": 4,
   "metadata": {},
   "outputs": [
    {
     "data": {
      "text/plain": [
       " PeopleInHousehold       Region               State       MetroAreaCode  \n",
       " Min.   : 1.000    Midwest  :30684   California  :11570   Min.   :10420  \n",
       " 1st Qu.: 2.000    Northeast:25939   Texas       : 7077   1st Qu.:21780  \n",
       " Median : 3.000    South    :41502   New York    : 5595   Median :34740  \n",
       " Mean   : 3.284    West     :33177   Florida     : 5149   Mean   :35075  \n",
       " 3rd Qu.: 4.000                      Pennsylvania: 3930   3rd Qu.:41860  \n",
       " Max.   :15.000                      Illinois    : 3912   Max.   :79600  \n",
       "                                     (Other)     :94069   NA's   :34238  \n",
       "      Age                 Married          Sex       \n",
       " Min.   : 0.00   Divorced     :11151   Female:67481  \n",
       " 1st Qu.:19.00   Married      :55509   Male  :63821  \n",
       " Median :39.00   Never Married:30772                 \n",
       " Mean   :38.83   Separated    : 2027                 \n",
       " 3rd Qu.:57.00   Widowed      : 6505                 \n",
       " Max.   :85.00   NA's         :25338                 \n",
       "                                                     \n",
       "                   Education                   Race           Hispanic     \n",
       " High school            :30906   American Indian :  1433   Min.   :0.0000  \n",
       " Bachelor's degree      :19443   Asian           :  6520   1st Qu.:0.0000  \n",
       " Some college, no degree:18863   Black           : 13913   Median :0.0000  \n",
       " No high school diploma :16095   Multiracial     :  2897   Mean   :0.1393  \n",
       " Associate degree       : 9913   Pacific Islander:   618   3rd Qu.:0.0000  \n",
       " (Other)                :10744   White           :105921   Max.   :1.0000  \n",
       " NA's                   :25338                                             \n",
       " CountryOfBirthCode               Citizenship               EmploymentStatus\n",
       " Min.   : 57.00     Citizen, Native     :116639   Disabled          : 5712  \n",
       " 1st Qu.: 57.00     Citizen, Naturalized:  7073   Employed          :61733  \n",
       " Median : 57.00     Non-Citizen         :  7590   Not in Labor Force:15246  \n",
       " Mean   : 82.68                                   Retired           :18619  \n",
       " 3rd Qu.: 57.00                                   Unemployed        : 4203  \n",
       " Max.   :555.00                                   NA's              :25789  \n",
       "                                                                            \n",
       "                               Industry    \n",
       " Educational and health services   :15017  \n",
       " Trade                             : 8933  \n",
       " Professional and business services: 7519  \n",
       " Manufacturing                     : 6791  \n",
       " Leisure and hospitality           : 6364  \n",
       " (Other)                           :21618  \n",
       " NA's                              :65060  "
      ]
     },
     "metadata": {},
     "output_type": "display_data"
    }
   ],
   "source": [
    "summary(CPS)"
   ]
  },
  {
   "cell_type": "code",
   "execution_count": null,
   "metadata": {},
   "outputs": [],
   "source": []
  }
 ],
 "metadata": {
  "kernelspec": {
   "display_name": "R",
   "language": "R",
   "name": "ir"
  },
  "language_info": {
   "codemirror_mode": "r",
   "file_extension": ".r",
   "mimetype": "text/x-r-source",
   "name": "R",
   "pygments_lexer": "r",
   "version": "3.6.3"
  }
 },
 "nbformat": 4,
 "nbformat_minor": 4
}
