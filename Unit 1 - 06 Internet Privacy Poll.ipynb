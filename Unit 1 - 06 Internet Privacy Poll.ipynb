{
 "cells": [
  {
   "cell_type": "markdown",
   "metadata": {},
   "source": [
    "# Internet Privacy Poll"
   ]
  },
  {
   "cell_type": "markdown",
   "metadata": {},
   "source": [
    "Internet privacy has gained widespread attention in recent years. To measure the degree to which people are concerned about hot-button issues like Internet privacy, social scientists conduct polls in which they interview a large number of people about the topic. In this assignment, we will analyze data from a July 2013 Pew Internet and American Life Project poll on Internet anonymity and privacy, which involved interviews across the United States. While the full polling data can be found here, we will use a more limited version of the results, available in **AnonymityPoll.csv**."
   ]
  },
  {
   "cell_type": "markdown",
   "metadata": {},
   "source": [
    "The dataset has the following fields (all Internet use-related fields were only collected from interviewees who either use the Internet or have a smartphone):\n",
    "\n",
    "    Internet.Use: A binary variable indicating if the interviewee uses the Internet, at least occasionally (equals 1 if the interviewee uses the Internet, and equals 0 if the interviewee does not use the Internet).\n",
    "    \n",
    "    Smartphone: A binary variable indicating if the interviewee has a smartphone (equals 1 if they do have a smartphone, and equals 0 if they don't have a smartphone).\n",
    "    \n",
    "    Sex: Male or Female.\n",
    "    \n",
    "    Age: Age in years.\n",
    "    \n",
    "    State: State of residence of the interviewee.\n",
    "    \n",
    "    Region: Census region of the interviewee (Midwest, Northeast, South, or West).\n",
    "    \n",
    "    Conservativeness: Self-described level of conservativeness of interviewee, from 1 (very liberal) to 5 (very conservative).\n",
    "    \n",
    "    Info.On.Internet: Number of the following items this interviewee believes to be available on the Internet for others to see: (1) Their email address; (2) Their home address; (3) Their home phone number; (4) Their cell phone number; (5) The employer/company they work for; (6) Their political party or political affiliation; (7) Things they've written that have their name on it; (8) A photo of them; (9) A video of them; (10) Which groups or organizations they belong to; and (11) Their birth date.\n",
    "    \n",
    "    Worry.About.Info: A binary variable indicating if the interviewee worries about how much information is available about them on the Internet (equals 1 if they worry, and equals 0 if they don't worry).\n",
    "    \n",
    "    Privacy.Importance: A score from 0 (privacy is not too important) to 100 (privacy is very important), which combines the degree to which they find privacy important in the following: (1) The websites they browse; (2) Knowledge of the place they are located when they use the Internet; (3) The content and files they download; (4) The times of day they are online; (5) The applications or programs they use; (6) The searches they perform; (7) The content of their email; (8) The people they exchange email with; and (9) The content of their online chats or hangouts with others.\n",
    "    \n",
    "    Anonymity.Possible: A binary variable indicating if the interviewee thinks it's possible to use the Internet anonymously, meaning in such a way that online activities can't be traced back to them (equals 1 if he/she believes you can, and equals 0 if he/she believes you can't).\n",
    "    \n",
    "    Tried.Masking.Identity: A binary variable indicating if the interviewee has ever tried to mask his/her identity when using the Internet (equals 1 if he/she has tried to mask his/her identity, and equals 0 if he/she has not tried to mask his/her identity).\n",
    "    \n",
    "    Privacy.Laws.Effective: A binary variable indicating if the interviewee believes United States law provides reasonable privacy protection for Internet users (equals 1 if he/she believes it does, and equals 0 if he/she believes it doesn't)."
   ]
  },
  {
   "cell_type": "markdown",
   "metadata": {},
   "source": [
    "### Problem 1.1 - Loading and Summarizing the Dataset\n",
    "\n",
    "Using read.csv(), load the dataset from AnonymityPoll.csv into a data frame called poll and summarize it with the summary() and str() functions.\n",
    "\n",
    "**How many people participated in the poll?**"
   ]
  },
  {
   "cell_type": "code",
   "execution_count": 1,
   "metadata": {},
   "outputs": [
    {
     "data": {
      "text/html": [
       "<table>\n",
       "<caption>A data.frame: 6 × 13</caption>\n",
       "<thead>\n",
       "\t<tr><th></th><th scope=col>Internet.Use</th><th scope=col>Smartphone</th><th scope=col>Sex</th><th scope=col>Age</th><th scope=col>State</th><th scope=col>Region</th><th scope=col>Conservativeness</th><th scope=col>Info.On.Internet</th><th scope=col>Worry.About.Info</th><th scope=col>Privacy.Importance</th><th scope=col>Anonymity.Possible</th><th scope=col>Tried.Masking.Identity</th><th scope=col>Privacy.Laws.Effective</th></tr>\n",
       "\t<tr><th></th><th scope=col>&lt;int&gt;</th><th scope=col>&lt;int&gt;</th><th scope=col>&lt;fct&gt;</th><th scope=col>&lt;int&gt;</th><th scope=col>&lt;fct&gt;</th><th scope=col>&lt;fct&gt;</th><th scope=col>&lt;int&gt;</th><th scope=col>&lt;int&gt;</th><th scope=col>&lt;int&gt;</th><th scope=col>&lt;dbl&gt;</th><th scope=col>&lt;int&gt;</th><th scope=col>&lt;int&gt;</th><th scope=col>&lt;int&gt;</th></tr>\n",
       "</thead>\n",
       "<tbody>\n",
       "\t<tr><th scope=row>1</th><td>1</td><td> 0</td><td>Male  </td><td>62</td><td>Massachusetts </td><td>Northeast</td><td>4</td><td> 0</td><td> 1</td><td>100.00000</td><td> 0</td><td> 0</td><td> 0</td></tr>\n",
       "\t<tr><th scope=row>2</th><td>1</td><td> 0</td><td>Male  </td><td>45</td><td>South Carolina</td><td>South    </td><td>1</td><td> 1</td><td> 0</td><td>  0.00000</td><td> 1</td><td> 0</td><td> 1</td></tr>\n",
       "\t<tr><th scope=row>3</th><td>0</td><td> 1</td><td>Female</td><td>70</td><td>New Jersey    </td><td>Northeast</td><td>4</td><td> 0</td><td> 0</td><td>       NA</td><td> 0</td><td> 0</td><td>NA</td></tr>\n",
       "\t<tr><th scope=row>4</th><td>1</td><td> 0</td><td>Male  </td><td>70</td><td>Georgia       </td><td>South    </td><td>4</td><td> 3</td><td> 1</td><td> 88.88889</td><td> 1</td><td> 0</td><td> 0</td></tr>\n",
       "\t<tr><th scope=row>5</th><td>0</td><td>NA</td><td>Female</td><td>80</td><td>Georgia       </td><td>South    </td><td>4</td><td>NA</td><td>NA</td><td>       NA</td><td>NA</td><td>NA</td><td>NA</td></tr>\n",
       "\t<tr><th scope=row>6</th><td>1</td><td> 1</td><td>Male  </td><td>49</td><td>Tennessee     </td><td>South    </td><td>4</td><td> 6</td><td> 0</td><td> 88.88889</td><td> 1</td><td> 1</td><td> 0</td></tr>\n",
       "</tbody>\n",
       "</table>\n"
      ],
      "text/latex": [
       "A data.frame: 6 × 13\n",
       "\\begin{tabular}{r|lllllllllllll}\n",
       "  & Internet.Use & Smartphone & Sex & Age & State & Region & Conservativeness & Info.On.Internet & Worry.About.Info & Privacy.Importance & Anonymity.Possible & Tried.Masking.Identity & Privacy.Laws.Effective\\\\\n",
       "  & <int> & <int> & <fct> & <int> & <fct> & <fct> & <int> & <int> & <int> & <dbl> & <int> & <int> & <int>\\\\\n",
       "\\hline\n",
       "\t1 & 1 &  0 & Male   & 62 & Massachusetts  & Northeast & 4 &  0 &  1 & 100.00000 &  0 &  0 &  0\\\\\n",
       "\t2 & 1 &  0 & Male   & 45 & South Carolina & South     & 1 &  1 &  0 &   0.00000 &  1 &  0 &  1\\\\\n",
       "\t3 & 0 &  1 & Female & 70 & New Jersey     & Northeast & 4 &  0 &  0 &        NA &  0 &  0 & NA\\\\\n",
       "\t4 & 1 &  0 & Male   & 70 & Georgia        & South     & 4 &  3 &  1 &  88.88889 &  1 &  0 &  0\\\\\n",
       "\t5 & 0 & NA & Female & 80 & Georgia        & South     & 4 & NA & NA &        NA & NA & NA & NA\\\\\n",
       "\t6 & 1 &  1 & Male   & 49 & Tennessee      & South     & 4 &  6 &  0 &  88.88889 &  1 &  1 &  0\\\\\n",
       "\\end{tabular}\n"
      ],
      "text/markdown": [
       "\n",
       "A data.frame: 6 × 13\n",
       "\n",
       "| <!--/--> | Internet.Use &lt;int&gt; | Smartphone &lt;int&gt; | Sex &lt;fct&gt; | Age &lt;int&gt; | State &lt;fct&gt; | Region &lt;fct&gt; | Conservativeness &lt;int&gt; | Info.On.Internet &lt;int&gt; | Worry.About.Info &lt;int&gt; | Privacy.Importance &lt;dbl&gt; | Anonymity.Possible &lt;int&gt; | Tried.Masking.Identity &lt;int&gt; | Privacy.Laws.Effective &lt;int&gt; |\n",
       "|---|---|---|---|---|---|---|---|---|---|---|---|---|---|\n",
       "| 1 | 1 |  0 | Male   | 62 | Massachusetts  | Northeast | 4 |  0 |  1 | 100.00000 |  0 |  0 |  0 |\n",
       "| 2 | 1 |  0 | Male   | 45 | South Carolina | South     | 1 |  1 |  0 |   0.00000 |  1 |  0 |  1 |\n",
       "| 3 | 0 |  1 | Female | 70 | New Jersey     | Northeast | 4 |  0 |  0 |        NA |  0 |  0 | NA |\n",
       "| 4 | 1 |  0 | Male   | 70 | Georgia        | South     | 4 |  3 |  1 |  88.88889 |  1 |  0 |  0 |\n",
       "| 5 | 0 | NA | Female | 80 | Georgia        | South     | 4 | NA | NA |        NA | NA | NA | NA |\n",
       "| 6 | 1 |  1 | Male   | 49 | Tennessee      | South     | 4 |  6 |  0 |  88.88889 |  1 |  1 |  0 |\n",
       "\n"
      ],
      "text/plain": [
       "  Internet.Use Smartphone Sex    Age State          Region    Conservativeness\n",
       "1 1             0         Male   62  Massachusetts  Northeast 4               \n",
       "2 1             0         Male   45  South Carolina South     1               \n",
       "3 0             1         Female 70  New Jersey     Northeast 4               \n",
       "4 1             0         Male   70  Georgia        South     4               \n",
       "5 0            NA         Female 80  Georgia        South     4               \n",
       "6 1             1         Male   49  Tennessee      South     4               \n",
       "  Info.On.Internet Worry.About.Info Privacy.Importance Anonymity.Possible\n",
       "1  0                1               100.00000           0                \n",
       "2  1                0                 0.00000           1                \n",
       "3  0                0                      NA           0                \n",
       "4  3                1                88.88889           1                \n",
       "5 NA               NA                      NA          NA                \n",
       "6  6                0                88.88889           1                \n",
       "  Tried.Masking.Identity Privacy.Laws.Effective\n",
       "1  0                      0                    \n",
       "2  0                      1                    \n",
       "3  0                     NA                    \n",
       "4  0                      0                    \n",
       "5 NA                     NA                    \n",
       "6  1                      0                    "
      ]
     },
     "metadata": {},
     "output_type": "display_data"
    }
   ],
   "source": [
    "POOL <- read.csv('data/AnonymityPoll.csv')\n",
    "head(POOL)"
   ]
  },
  {
   "cell_type": "code",
   "execution_count": 2,
   "metadata": {},
   "outputs": [
    {
     "name": "stdout",
     "output_type": "stream",
     "text": [
      "'data.frame':\t1002 obs. of  13 variables:\n",
      " $ Internet.Use          : int  1 1 0 1 0 1 1 0 0 1 ...\n",
      " $ Smartphone            : int  0 0 1 0 NA 1 0 0 NA 0 ...\n",
      " $ Sex                   : Factor w/ 2 levels \"Female\",\"Male\": 2 2 1 2 1 2 1 1 2 1 ...\n",
      " $ Age                   : int  62 45 70 70 80 49 52 76 75 76 ...\n",
      " $ State                 : Factor w/ 49 levels \"Alabama\",\"Arizona\",..: 20 39 29 10 10 41 21 31 32 32 ...\n",
      " $ Region                : Factor w/ 4 levels \"Midwest\",\"Northeast\",..: 2 3 2 3 3 3 1 2 3 3 ...\n",
      " $ Conservativeness      : int  4 1 4 4 4 4 3 3 4 4 ...\n",
      " $ Info.On.Internet      : int  0 1 0 3 NA 6 3 NA NA 0 ...\n",
      " $ Worry.About.Info      : int  1 0 0 1 NA 0 1 NA NA 0 ...\n",
      " $ Privacy.Importance    : num  100 0 NA 88.9 NA ...\n",
      " $ Anonymity.Possible    : int  0 1 0 1 NA 1 0 NA NA 1 ...\n",
      " $ Tried.Masking.Identity: int  0 0 0 0 NA 1 0 NA NA 0 ...\n",
      " $ Privacy.Laws.Effective: int  0 1 NA 0 NA 0 1 NA 0 1 ...\n"
     ]
    }
   ],
   "source": [
    "str(POOL)"
   ]
  },
  {
   "cell_type": "code",
   "execution_count": 3,
   "metadata": {},
   "outputs": [
    {
     "data": {
      "text/plain": [
       "  Internet.Use      Smartphone         Sex           Age       \n",
       " Min.   :0.0000   Min.   :0.0000   Female:505   Min.   :18.00  \n",
       " 1st Qu.:1.0000   1st Qu.:0.0000   Male  :497   1st Qu.:37.00  \n",
       " Median :1.0000   Median :1.0000                Median :55.00  \n",
       " Mean   :0.7742   Mean   :0.5078                Mean   :52.37  \n",
       " 3rd Qu.:1.0000   3rd Qu.:1.0000                3rd Qu.:66.00  \n",
       " Max.   :1.0000   Max.   :1.0000                Max.   :96.00  \n",
       " NA's   :1        NA's   :43                    NA's   :27     \n",
       "          State           Region    Conservativeness Info.On.Internet\n",
       " California  :103   Midwest  :239   Min.   :1.000    Min.   : 0.000  \n",
       " Texas       : 72   Northeast:166   1st Qu.:3.000    1st Qu.: 2.000  \n",
       " New York    : 60   South    :359   Median :3.000    Median : 4.000  \n",
       " Pennsylvania: 45   West     :238   Mean   :3.277    Mean   : 3.795  \n",
       " Florida     : 42                   3rd Qu.:4.000    3rd Qu.: 6.000  \n",
       " Ohio        : 38                   Max.   :5.000    Max.   :11.000  \n",
       " (Other)     :642                   NA's   :62       NA's   :210     \n",
       " Worry.About.Info Privacy.Importance Anonymity.Possible Tried.Masking.Identity\n",
       " Min.   :0.0000   Min.   :  0.00     Min.   :0.0000     Min.   :0.0000        \n",
       " 1st Qu.:0.0000   1st Qu.: 41.43     1st Qu.:0.0000     1st Qu.:0.0000        \n",
       " Median :0.0000   Median : 68.75     Median :0.0000     Median :0.0000        \n",
       " Mean   :0.4886   Mean   : 62.85     Mean   :0.3692     Mean   :0.1633        \n",
       " 3rd Qu.:1.0000   3rd Qu.: 88.89     3rd Qu.:1.0000     3rd Qu.:0.0000        \n",
       " Max.   :1.0000   Max.   :100.00     Max.   :1.0000     Max.   :1.0000        \n",
       " NA's   :212      NA's   :215        NA's   :249        NA's   :218           \n",
       " Privacy.Laws.Effective\n",
       " Min.   :0.0000        \n",
       " 1st Qu.:0.0000        \n",
       " Median :0.0000        \n",
       " Mean   :0.2617        \n",
       " 3rd Qu.:1.0000        \n",
       " Max.   :1.0000        \n",
       " NA's   :108           "
      ]
     },
     "metadata": {},
     "output_type": "display_data"
    }
   ],
   "source": [
    "summary(POOL)"
   ]
  },
  {
   "cell_type": "markdown",
   "metadata": {},
   "source": [
    "1002"
   ]
  },
  {
   "cell_type": "markdown",
   "metadata": {},
   "source": [
    "### Problem 1.2 - Loading and Summarizing the Dataset\n",
    "\n",
    "Let's look at the breakdown of the number of people with smartphones using the table() and summary() commands on the Smartphone variable. (HINT: These three numbers should sum to 1002.)\n",
    "\n",
    "**How many interviewees responded that they use a smartphone?**"
   ]
  },
  {
   "cell_type": "code",
   "execution_count": null,
   "metadata": {},
   "outputs": [],
   "source": []
  },
  {
   "cell_type": "code",
   "execution_count": null,
   "metadata": {},
   "outputs": [],
   "source": []
  },
  {
   "cell_type": "code",
   "execution_count": null,
   "metadata": {},
   "outputs": [],
   "source": []
  },
  {
   "cell_type": "code",
   "execution_count": null,
   "metadata": {},
   "outputs": [],
   "source": []
  },
  {
   "cell_type": "code",
   "execution_count": null,
   "metadata": {},
   "outputs": [],
   "source": []
  },
  {
   "cell_type": "code",
   "execution_count": null,
   "metadata": {},
   "outputs": [],
   "source": []
  },
  {
   "cell_type": "code",
   "execution_count": null,
   "metadata": {},
   "outputs": [],
   "source": []
  },
  {
   "cell_type": "code",
   "execution_count": null,
   "metadata": {},
   "outputs": [],
   "source": []
  },
  {
   "cell_type": "code",
   "execution_count": null,
   "metadata": {},
   "outputs": [],
   "source": []
  },
  {
   "cell_type": "code",
   "execution_count": null,
   "metadata": {},
   "outputs": [],
   "source": []
  },
  {
   "cell_type": "code",
   "execution_count": null,
   "metadata": {},
   "outputs": [],
   "source": []
  },
  {
   "cell_type": "code",
   "execution_count": null,
   "metadata": {},
   "outputs": [],
   "source": []
  },
  {
   "cell_type": "code",
   "execution_count": null,
   "metadata": {},
   "outputs": [],
   "source": []
  },
  {
   "cell_type": "code",
   "execution_count": null,
   "metadata": {},
   "outputs": [],
   "source": []
  },
  {
   "cell_type": "code",
   "execution_count": null,
   "metadata": {},
   "outputs": [],
   "source": []
  },
  {
   "cell_type": "code",
   "execution_count": null,
   "metadata": {},
   "outputs": [],
   "source": []
  },
  {
   "cell_type": "code",
   "execution_count": null,
   "metadata": {},
   "outputs": [],
   "source": []
  },
  {
   "cell_type": "code",
   "execution_count": null,
   "metadata": {},
   "outputs": [],
   "source": []
  },
  {
   "cell_type": "code",
   "execution_count": null,
   "metadata": {},
   "outputs": [],
   "source": []
  },
  {
   "cell_type": "code",
   "execution_count": null,
   "metadata": {},
   "outputs": [],
   "source": []
  },
  {
   "cell_type": "code",
   "execution_count": null,
   "metadata": {},
   "outputs": [],
   "source": []
  },
  {
   "cell_type": "code",
   "execution_count": null,
   "metadata": {},
   "outputs": [],
   "source": []
  },
  {
   "cell_type": "code",
   "execution_count": null,
   "metadata": {},
   "outputs": [],
   "source": []
  },
  {
   "cell_type": "code",
   "execution_count": null,
   "metadata": {},
   "outputs": [],
   "source": []
  },
  {
   "cell_type": "code",
   "execution_count": null,
   "metadata": {},
   "outputs": [],
   "source": []
  }
 ],
 "metadata": {
  "kernelspec": {
   "display_name": "R",
   "language": "R",
   "name": "ir"
  },
  "language_info": {
   "codemirror_mode": "r",
   "file_extension": ".r",
   "mimetype": "text/x-r-source",
   "name": "R",
   "pygments_lexer": "r",
   "version": "3.6.3"
  }
 },
 "nbformat": 4,
 "nbformat_minor": 4
}
