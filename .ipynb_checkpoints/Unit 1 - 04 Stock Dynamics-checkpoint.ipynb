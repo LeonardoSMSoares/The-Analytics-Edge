{
 "cells": [
  {
   "cell_type": "markdown",
   "metadata": {},
   "source": [
    "# Stock Dynamics"
   ]
  },
  {
   "cell_type": "markdown",
   "metadata": {},
   "source": [
    "A stock market is where buyers and sellers trade shares of a company, and is one of the most popular ways for individuals and companies to invest money. The size of the world stock market  is now estimated to be in the trillions. The largest stock market in the world is the New York Stock Exchange (NYSE), located in New York City. About 2,800 companies are listed on the NSYE. In this problem, we'll look at the monthly stock prices of five of these companies: **IBM**, **General Electric (GE)**, **Procter and Gamble**, **Coca Cola**, and **Boeing**. The data used in this problem comes from Infochimps."
   ]
  },
  {
   "cell_type": "markdown",
   "metadata": {},
   "source": [
    "Download and read the following files into R, using the read.csv function: IBMStock.csv, GEStock.csv, ProcterGambleStock.csv, CocaColaStock.csv, and BoeingStock.csv."
   ]
  },
  {
   "cell_type": "markdown",
   "metadata": {},
   "source": [
    "Call the data frames \"IBM\", \"GE\", \"ProcterGamble\", \"CocaCola\", and \"Boeing\", respectively. Each data frame has two variables, described as follows:\n",
    "\n",
    "    Date: the date of the stock price, always given as the first of the month.\n",
    "    StockPrice: the average stock price of the company in the given month.\n",
    "\n",
    "In this problem, we'll take a look at how the stock dynamics of these companies have changed over time."
   ]
  },
  {
   "cell_type": "markdown",
   "metadata": {},
   "source": [
    "**Our five datasets all have the same number of observations. How many observations are there in each data set?**"
   ]
  },
  {
   "cell_type": "code",
   "execution_count": 1,
   "metadata": {},
   "outputs": [],
   "source": [
    "IBM  <- read.csv('data/IBMStock.csv')\n",
    "GE  <- read.csv('data/GEStock.csv')\n",
    "CocaCola  <- read.csv('data/CocaColaStock.csv')\n",
    "ProcterGamble  <- read.csv('data/ProcterGambleStock.csv')\n",
    "Boeing  <- read.csv('data/BoeingStock.csv')"
   ]
  },
  {
   "cell_type": "code",
   "execution_count": 2,
   "metadata": {},
   "outputs": [
    {
     "data": {
      "text/html": [
       "<table>\n",
       "<caption>A data.frame: 6 × 2</caption>\n",
       "<thead>\n",
       "\t<tr><th></th><th scope=col>Date</th><th scope=col>StockPrice</th></tr>\n",
       "\t<tr><th></th><th scope=col>&lt;fct&gt;</th><th scope=col>&lt;dbl&gt;</th></tr>\n",
       "</thead>\n",
       "<tbody>\n",
       "\t<tr><th scope=row>1</th><td>1/1/70</td><td>360.3190</td></tr>\n",
       "\t<tr><th scope=row>2</th><td>2/1/70</td><td>346.7237</td></tr>\n",
       "\t<tr><th scope=row>3</th><td>3/1/70</td><td>327.3457</td></tr>\n",
       "\t<tr><th scope=row>4</th><td>4/1/70</td><td>319.8527</td></tr>\n",
       "\t<tr><th scope=row>5</th><td>5/1/70</td><td>270.3752</td></tr>\n",
       "\t<tr><th scope=row>6</th><td>6/1/70</td><td>267.2050</td></tr>\n",
       "</tbody>\n",
       "</table>\n"
      ],
      "text/latex": [
       "A data.frame: 6 × 2\n",
       "\\begin{tabular}{r|ll}\n",
       "  & Date & StockPrice\\\\\n",
       "  & <fct> & <dbl>\\\\\n",
       "\\hline\n",
       "\t1 & 1/1/70 & 360.3190\\\\\n",
       "\t2 & 2/1/70 & 346.7237\\\\\n",
       "\t3 & 3/1/70 & 327.3457\\\\\n",
       "\t4 & 4/1/70 & 319.8527\\\\\n",
       "\t5 & 5/1/70 & 270.3752\\\\\n",
       "\t6 & 6/1/70 & 267.2050\\\\\n",
       "\\end{tabular}\n"
      ],
      "text/markdown": [
       "\n",
       "A data.frame: 6 × 2\n",
       "\n",
       "| <!--/--> | Date &lt;fct&gt; | StockPrice &lt;dbl&gt; |\n",
       "|---|---|---|\n",
       "| 1 | 1/1/70 | 360.3190 |\n",
       "| 2 | 2/1/70 | 346.7237 |\n",
       "| 3 | 3/1/70 | 327.3457 |\n",
       "| 4 | 4/1/70 | 319.8527 |\n",
       "| 5 | 5/1/70 | 270.3752 |\n",
       "| 6 | 6/1/70 | 267.2050 |\n",
       "\n"
      ],
      "text/plain": [
       "  Date   StockPrice\n",
       "1 1/1/70 360.3190  \n",
       "2 2/1/70 346.7237  \n",
       "3 3/1/70 327.3457  \n",
       "4 4/1/70 319.8527  \n",
       "5 5/1/70 270.3752  \n",
       "6 6/1/70 267.2050  "
      ]
     },
     "metadata": {},
     "output_type": "display_data"
    }
   ],
   "source": [
    "head(IBM)"
   ]
  },
  {
   "cell_type": "code",
   "execution_count": 3,
   "metadata": {},
   "outputs": [
    {
     "data": {
      "text/html": [
       "<table>\n",
       "<caption>A data.frame: 6 × 2</caption>\n",
       "<thead>\n",
       "\t<tr><th></th><th scope=col>Date</th><th scope=col>StockPrice</th></tr>\n",
       "\t<tr><th></th><th scope=col>&lt;fct&gt;</th><th scope=col>&lt;dbl&gt;</th></tr>\n",
       "</thead>\n",
       "<tbody>\n",
       "\t<tr><th scope=row>1</th><td>1/1/70</td><td>74.25333</td></tr>\n",
       "\t<tr><th scope=row>2</th><td>2/1/70</td><td>69.97684</td></tr>\n",
       "\t<tr><th scope=row>3</th><td>3/1/70</td><td>72.15857</td></tr>\n",
       "\t<tr><th scope=row>4</th><td>4/1/70</td><td>74.25273</td></tr>\n",
       "\t<tr><th scope=row>5</th><td>5/1/70</td><td>66.66524</td></tr>\n",
       "\t<tr><th scope=row>6</th><td>6/1/70</td><td>67.59318</td></tr>\n",
       "</tbody>\n",
       "</table>\n"
      ],
      "text/latex": [
       "A data.frame: 6 × 2\n",
       "\\begin{tabular}{r|ll}\n",
       "  & Date & StockPrice\\\\\n",
       "  & <fct> & <dbl>\\\\\n",
       "\\hline\n",
       "\t1 & 1/1/70 & 74.25333\\\\\n",
       "\t2 & 2/1/70 & 69.97684\\\\\n",
       "\t3 & 3/1/70 & 72.15857\\\\\n",
       "\t4 & 4/1/70 & 74.25273\\\\\n",
       "\t5 & 5/1/70 & 66.66524\\\\\n",
       "\t6 & 6/1/70 & 67.59318\\\\\n",
       "\\end{tabular}\n"
      ],
      "text/markdown": [
       "\n",
       "A data.frame: 6 × 2\n",
       "\n",
       "| <!--/--> | Date &lt;fct&gt; | StockPrice &lt;dbl&gt; |\n",
       "|---|---|---|\n",
       "| 1 | 1/1/70 | 74.25333 |\n",
       "| 2 | 2/1/70 | 69.97684 |\n",
       "| 3 | 3/1/70 | 72.15857 |\n",
       "| 4 | 4/1/70 | 74.25273 |\n",
       "| 5 | 5/1/70 | 66.66524 |\n",
       "| 6 | 6/1/70 | 67.59318 |\n",
       "\n"
      ],
      "text/plain": [
       "  Date   StockPrice\n",
       "1 1/1/70 74.25333  \n",
       "2 2/1/70 69.97684  \n",
       "3 3/1/70 72.15857  \n",
       "4 4/1/70 74.25273  \n",
       "5 5/1/70 66.66524  \n",
       "6 6/1/70 67.59318  "
      ]
     },
     "metadata": {},
     "output_type": "display_data"
    }
   ],
   "source": [
    "head(GE)"
   ]
  },
  {
   "cell_type": "code",
   "execution_count": 4,
   "metadata": {},
   "outputs": [
    {
     "data": {
      "text/html": [
       "<table>\n",
       "<caption>A data.frame: 6 × 2</caption>\n",
       "<thead>\n",
       "\t<tr><th></th><th scope=col>Date</th><th scope=col>StockPrice</th></tr>\n",
       "\t<tr><th></th><th scope=col>&lt;fct&gt;</th><th scope=col>&lt;dbl&gt;</th></tr>\n",
       "</thead>\n",
       "<tbody>\n",
       "\t<tr><th scope=row>1</th><td>1/1/70</td><td>83.36810</td></tr>\n",
       "\t<tr><th scope=row>2</th><td>2/1/70</td><td>81.59105</td></tr>\n",
       "\t<tr><th scope=row>3</th><td>3/1/70</td><td>81.33810</td></tr>\n",
       "\t<tr><th scope=row>4</th><td>4/1/70</td><td>76.80591</td></tr>\n",
       "\t<tr><th scope=row>5</th><td>5/1/70</td><td>69.27857</td></tr>\n",
       "\t<tr><th scope=row>6</th><td>6/1/70</td><td>72.01545</td></tr>\n",
       "</tbody>\n",
       "</table>\n"
      ],
      "text/latex": [
       "A data.frame: 6 × 2\n",
       "\\begin{tabular}{r|ll}\n",
       "  & Date & StockPrice\\\\\n",
       "  & <fct> & <dbl>\\\\\n",
       "\\hline\n",
       "\t1 & 1/1/70 & 83.36810\\\\\n",
       "\t2 & 2/1/70 & 81.59105\\\\\n",
       "\t3 & 3/1/70 & 81.33810\\\\\n",
       "\t4 & 4/1/70 & 76.80591\\\\\n",
       "\t5 & 5/1/70 & 69.27857\\\\\n",
       "\t6 & 6/1/70 & 72.01545\\\\\n",
       "\\end{tabular}\n"
      ],
      "text/markdown": [
       "\n",
       "A data.frame: 6 × 2\n",
       "\n",
       "| <!--/--> | Date &lt;fct&gt; | StockPrice &lt;dbl&gt; |\n",
       "|---|---|---|\n",
       "| 1 | 1/1/70 | 83.36810 |\n",
       "| 2 | 2/1/70 | 81.59105 |\n",
       "| 3 | 3/1/70 | 81.33810 |\n",
       "| 4 | 4/1/70 | 76.80591 |\n",
       "| 5 | 5/1/70 | 69.27857 |\n",
       "| 6 | 6/1/70 | 72.01545 |\n",
       "\n"
      ],
      "text/plain": [
       "  Date   StockPrice\n",
       "1 1/1/70 83.36810  \n",
       "2 2/1/70 81.59105  \n",
       "3 3/1/70 81.33810  \n",
       "4 4/1/70 76.80591  \n",
       "5 5/1/70 69.27857  \n",
       "6 6/1/70 72.01545  "
      ]
     },
     "metadata": {},
     "output_type": "display_data"
    }
   ],
   "source": [
    "head(CocaCola)"
   ]
  },
  {
   "cell_type": "code",
   "execution_count": 5,
   "metadata": {},
   "outputs": [
    {
     "data": {
      "text/html": [
       "<table>\n",
       "<caption>A data.frame: 6 × 2</caption>\n",
       "<thead>\n",
       "\t<tr><th></th><th scope=col>Date</th><th scope=col>StockPrice</th></tr>\n",
       "\t<tr><th></th><th scope=col>&lt;fct&gt;</th><th scope=col>&lt;dbl&gt;</th></tr>\n",
       "</thead>\n",
       "<tbody>\n",
       "\t<tr><th scope=row>1</th><td>1/1/70</td><td>111.87429</td></tr>\n",
       "\t<tr><th scope=row>2</th><td>2/1/70</td><td>111.45368</td></tr>\n",
       "\t<tr><th scope=row>3</th><td>3/1/70</td><td>108.45143</td></tr>\n",
       "\t<tr><th scope=row>4</th><td>4/1/70</td><td>106.28864</td></tr>\n",
       "\t<tr><th scope=row>5</th><td>5/1/70</td><td> 73.33286</td></tr>\n",
       "\t<tr><th scope=row>6</th><td>6/1/70</td><td> 48.31864</td></tr>\n",
       "</tbody>\n",
       "</table>\n"
      ],
      "text/latex": [
       "A data.frame: 6 × 2\n",
       "\\begin{tabular}{r|ll}\n",
       "  & Date & StockPrice\\\\\n",
       "  & <fct> & <dbl>\\\\\n",
       "\\hline\n",
       "\t1 & 1/1/70 & 111.87429\\\\\n",
       "\t2 & 2/1/70 & 111.45368\\\\\n",
       "\t3 & 3/1/70 & 108.45143\\\\\n",
       "\t4 & 4/1/70 & 106.28864\\\\\n",
       "\t5 & 5/1/70 &  73.33286\\\\\n",
       "\t6 & 6/1/70 &  48.31864\\\\\n",
       "\\end{tabular}\n"
      ],
      "text/markdown": [
       "\n",
       "A data.frame: 6 × 2\n",
       "\n",
       "| <!--/--> | Date &lt;fct&gt; | StockPrice &lt;dbl&gt; |\n",
       "|---|---|---|\n",
       "| 1 | 1/1/70 | 111.87429 |\n",
       "| 2 | 2/1/70 | 111.45368 |\n",
       "| 3 | 3/1/70 | 108.45143 |\n",
       "| 4 | 4/1/70 | 106.28864 |\n",
       "| 5 | 5/1/70 |  73.33286 |\n",
       "| 6 | 6/1/70 |  48.31864 |\n",
       "\n"
      ],
      "text/plain": [
       "  Date   StockPrice\n",
       "1 1/1/70 111.87429 \n",
       "2 2/1/70 111.45368 \n",
       "3 3/1/70 108.45143 \n",
       "4 4/1/70 106.28864 \n",
       "5 5/1/70  73.33286 \n",
       "6 6/1/70  48.31864 "
      ]
     },
     "metadata": {},
     "output_type": "display_data"
    }
   ],
   "source": [
    "head(ProcterGamble)"
   ]
  },
  {
   "cell_type": "code",
   "execution_count": 6,
   "metadata": {},
   "outputs": [
    {
     "data": {
      "text/html": [
       "<table>\n",
       "<caption>A data.frame: 6 × 2</caption>\n",
       "<thead>\n",
       "\t<tr><th></th><th scope=col>Date</th><th scope=col>StockPrice</th></tr>\n",
       "\t<tr><th></th><th scope=col>&lt;fct&gt;</th><th scope=col>&lt;dbl&gt;</th></tr>\n",
       "</thead>\n",
       "<tbody>\n",
       "\t<tr><th scope=row>1</th><td>1/1/70</td><td>27.85381</td></tr>\n",
       "\t<tr><th scope=row>2</th><td>2/1/70</td><td>22.38105</td></tr>\n",
       "\t<tr><th scope=row>3</th><td>3/1/70</td><td>23.10524</td></tr>\n",
       "\t<tr><th scope=row>4</th><td>4/1/70</td><td>21.57136</td></tr>\n",
       "\t<tr><th scope=row>5</th><td>5/1/70</td><td>18.93286</td></tr>\n",
       "\t<tr><th scope=row>6</th><td>6/1/70</td><td>15.44318</td></tr>\n",
       "</tbody>\n",
       "</table>\n"
      ],
      "text/latex": [
       "A data.frame: 6 × 2\n",
       "\\begin{tabular}{r|ll}\n",
       "  & Date & StockPrice\\\\\n",
       "  & <fct> & <dbl>\\\\\n",
       "\\hline\n",
       "\t1 & 1/1/70 & 27.85381\\\\\n",
       "\t2 & 2/1/70 & 22.38105\\\\\n",
       "\t3 & 3/1/70 & 23.10524\\\\\n",
       "\t4 & 4/1/70 & 21.57136\\\\\n",
       "\t5 & 5/1/70 & 18.93286\\\\\n",
       "\t6 & 6/1/70 & 15.44318\\\\\n",
       "\\end{tabular}\n"
      ],
      "text/markdown": [
       "\n",
       "A data.frame: 6 × 2\n",
       "\n",
       "| <!--/--> | Date &lt;fct&gt; | StockPrice &lt;dbl&gt; |\n",
       "|---|---|---|\n",
       "| 1 | 1/1/70 | 27.85381 |\n",
       "| 2 | 2/1/70 | 22.38105 |\n",
       "| 3 | 3/1/70 | 23.10524 |\n",
       "| 4 | 4/1/70 | 21.57136 |\n",
       "| 5 | 5/1/70 | 18.93286 |\n",
       "| 6 | 6/1/70 | 15.44318 |\n",
       "\n"
      ],
      "text/plain": [
       "  Date   StockPrice\n",
       "1 1/1/70 27.85381  \n",
       "2 2/1/70 22.38105  \n",
       "3 3/1/70 23.10524  \n",
       "4 4/1/70 21.57136  \n",
       "5 5/1/70 18.93286  \n",
       "6 6/1/70 15.44318  "
      ]
     },
     "metadata": {},
     "output_type": "display_data"
    }
   ],
   "source": [
    "head(Boeing)"
   ]
  },
  {
   "cell_type": "code",
   "execution_count": 7,
   "metadata": {},
   "outputs": [
    {
     "name": "stdout",
     "output_type": "stream",
     "text": [
      "'data.frame':\t480 obs. of  2 variables:\n",
      " $ Date      : Factor w/ 480 levels \"1/1/00\",\"1/1/01\",..: 11 171 211 251 291 331 371 411 451 51 ...\n",
      " $ StockPrice: num  27.9 22.4 23.1 21.6 18.9 ...\n"
     ]
    }
   ],
   "source": [
    "str(Boeing)"
   ]
  },
  {
   "cell_type": "markdown",
   "metadata": {},
   "source": [
    "We need to convert the dates into a format that R can understand. Take a look at the structure of one of the datasets using the str function. Right now, the date variable is stored as a factor. We can convert this to a \"Date\" object in R by using the following five commands (one for each data set):\n",
    "\n",
    "IBM$Date = as.Date(IBM$Date, \"%m/%d/%y\")\n",
    "\n",
    "GE$Date = as.Date(GE$Date, \"%m/%d/%y\")\n",
    "\n",
    "CocaCola$Date = as.Date(CocaCola$Date, \"%m/%d/%y\")\n",
    "\n",
    "ProcterGamble$Date = as.Date(ProcterGamble$Date, \"%m/%d/%y\")\n",
    "\n",
    "Boeing$Date = as.Date(Boeing$Date, \"%m/%d/%y\")"
   ]
  },
  {
   "cell_type": "code",
   "execution_count": 8,
   "metadata": {},
   "outputs": [],
   "source": [
    "IBM$Date = as.Date(IBM$Date, \"%m/%d/%y\")\n",
    "\n",
    "GE$Date = as.Date(GE$Date, \"%m/%d/%y\")\n",
    "\n",
    "CocaCola$Date = as.Date(CocaCola$Date, \"%m/%d/%y\")\n",
    "\n",
    "ProcterGamble$Date = as.Date(ProcterGamble$Date, \"%m/%d/%y\")\n",
    "\n",
    "Boeing$Date = as.Date(Boeing$Date, \"%m/%d/%y\")"
   ]
  },
  {
   "cell_type": "code",
   "execution_count": 9,
   "metadata": {},
   "outputs": [
    {
     "name": "stdout",
     "output_type": "stream",
     "text": [
      "'data.frame':\t480 obs. of  2 variables:\n",
      " $ Date      : Date, format: \"1970-01-01\" \"1970-02-01\" ...\n",
      " $ StockPrice: num  27.9 22.4 23.1 21.6 18.9 ...\n"
     ]
    }
   ],
   "source": [
    "str(Boeing)"
   ]
  },
  {
   "cell_type": "markdown",
   "metadata": {},
   "source": [
    "**What is the earliest year in our datasets?**"
   ]
  },
  {
   "cell_type": "code",
   "execution_count": 10,
   "metadata": {},
   "outputs": [
    {
     "data": {
      "text/html": [
       "<time datetime=\"1970-01-01\">1970-01-01</time>"
      ],
      "text/latex": [
       "1970-01-01"
      ],
      "text/markdown": [
       "1970-01-01"
      ],
      "text/plain": [
       "[1] \"1970-01-01\""
      ]
     },
     "metadata": {},
     "output_type": "display_data"
    }
   ],
   "source": [
    "min(IBM$Date)"
   ]
  },
  {
   "cell_type": "markdown",
   "metadata": {},
   "source": [
    "**What is the latest year in our datasets?**"
   ]
  },
  {
   "cell_type": "code",
   "execution_count": 12,
   "metadata": {},
   "outputs": [
    {
     "data": {
      "text/html": [
       "<time datetime=\"2009-12-01\">2009-12-01</time>"
      ],
      "text/latex": [
       "2009-12-01"
      ],
      "text/markdown": [
       "2009-12-01"
      ],
      "text/plain": [
       "[1] \"2009-12-01\""
      ]
     },
     "metadata": {},
     "output_type": "display_data"
    }
   ],
   "source": [
    "max(IBM$Date)"
   ]
  },
  {
   "cell_type": "markdown",
   "metadata": {},
   "source": [
    "**What is the mean stock price of IBM over this time period?**"
   ]
  },
  {
   "cell_type": "code",
   "execution_count": 15,
   "metadata": {},
   "outputs": [
    {
     "data": {
      "text/html": [
       "144.375030307667"
      ],
      "text/latex": [
       "144.375030307667"
      ],
      "text/markdown": [
       "144.375030307667"
      ],
      "text/plain": [
       "[1] 144.375"
      ]
     },
     "metadata": {},
     "output_type": "display_data"
    }
   ],
   "source": [
    "mean(IBM$StockPrice)"
   ]
  },
  {
   "cell_type": "markdown",
   "metadata": {},
   "source": [
    "**What is the minimum stock price of General Electric (GE) over this time period?**"
   ]
  },
  {
   "cell_type": "code",
   "execution_count": 17,
   "metadata": {},
   "outputs": [
    {
     "data": {
      "text/html": [
       "9.293636364"
      ],
      "text/latex": [
       "9.293636364"
      ],
      "text/markdown": [
       "9.293636364"
      ],
      "text/plain": [
       "[1] 9.293636"
      ]
     },
     "metadata": {},
     "output_type": "display_data"
    }
   ],
   "source": [
    "min(GE$StockPrice)"
   ]
  },
  {
   "cell_type": "markdown",
   "metadata": {},
   "source": [
    "**What is the maximum stock price of Coca-Cola over this time period?**"
   ]
  },
  {
   "cell_type": "code",
   "execution_count": 18,
   "metadata": {},
   "outputs": [
    {
     "data": {
      "text/html": [
       "146.5842857"
      ],
      "text/latex": [
       "146.5842857"
      ],
      "text/markdown": [
       "146.5842857"
      ],
      "text/plain": [
       "[1] 146.5843"
      ]
     },
     "metadata": {},
     "output_type": "display_data"
    }
   ],
   "source": [
    "max(CocaCola$StockPrice)"
   ]
  },
  {
   "cell_type": "markdown",
   "metadata": {},
   "source": [
    "**What is the median stock price of Boeing over this time period?**"
   ]
  },
  {
   "cell_type": "code",
   "execution_count": 19,
   "metadata": {},
   "outputs": [
    {
     "data": {
      "text/html": [
       "44.88339827"
      ],
      "text/latex": [
       "44.88339827"
      ],
      "text/markdown": [
       "44.88339827"
      ],
      "text/plain": [
       "[1] 44.8834"
      ]
     },
     "metadata": {},
     "output_type": "display_data"
    }
   ],
   "source": [
    "median(Boeing$StockPrice)"
   ]
  },
  {
   "cell_type": "markdown",
   "metadata": {},
   "source": [
    "**What is the standard deviation of the stock price of Procter & Gamble over this time period?**"
   ]
  },
  {
   "cell_type": "code",
   "execution_count": 20,
   "metadata": {},
   "outputs": [
    {
     "data": {
      "text/html": [
       "18.1941403079716"
      ],
      "text/latex": [
       "18.1941403079716"
      ],
      "text/markdown": [
       "18.1941403079716"
      ],
      "text/plain": [
       "[1] 18.19414"
      ]
     },
     "metadata": {},
     "output_type": "display_data"
    }
   ],
   "source": [
    "sd(ProcterGamble$StockPrice)"
   ]
  },
  {
   "cell_type": "markdown",
   "metadata": {},
   "source": [
    "**Around what year did Coca-Cola has its highest stock price in this time period?**"
   ]
  },
  {
   "cell_type": "code",
   "execution_count": null,
   "metadata": {},
   "outputs": [],
   "source": []
  },
  {
   "cell_type": "code",
   "execution_count": null,
   "metadata": {},
   "outputs": [],
   "source": []
  },
  {
   "cell_type": "code",
   "execution_count": null,
   "metadata": {},
   "outputs": [],
   "source": []
  },
  {
   "cell_type": "code",
   "execution_count": null,
   "metadata": {},
   "outputs": [],
   "source": []
  },
  {
   "cell_type": "code",
   "execution_count": null,
   "metadata": {},
   "outputs": [],
   "source": []
  },
  {
   "cell_type": "code",
   "execution_count": null,
   "metadata": {},
   "outputs": [],
   "source": []
  },
  {
   "cell_type": "code",
   "execution_count": null,
   "metadata": {},
   "outputs": [],
   "source": []
  },
  {
   "cell_type": "code",
   "execution_count": null,
   "metadata": {},
   "outputs": [],
   "source": []
  },
  {
   "cell_type": "code",
   "execution_count": null,
   "metadata": {},
   "outputs": [],
   "source": []
  },
  {
   "cell_type": "code",
   "execution_count": null,
   "metadata": {},
   "outputs": [],
   "source": []
  },
  {
   "cell_type": "code",
   "execution_count": null,
   "metadata": {},
   "outputs": [],
   "source": []
  },
  {
   "cell_type": "code",
   "execution_count": null,
   "metadata": {},
   "outputs": [],
   "source": []
  },
  {
   "cell_type": "code",
   "execution_count": null,
   "metadata": {},
   "outputs": [],
   "source": []
  },
  {
   "cell_type": "code",
   "execution_count": null,
   "metadata": {},
   "outputs": [],
   "source": []
  },
  {
   "cell_type": "code",
   "execution_count": null,
   "metadata": {},
   "outputs": [],
   "source": []
  },
  {
   "cell_type": "code",
   "execution_count": null,
   "metadata": {},
   "outputs": [],
   "source": []
  },
  {
   "cell_type": "code",
   "execution_count": null,
   "metadata": {},
   "outputs": [],
   "source": []
  },
  {
   "cell_type": "code",
   "execution_count": null,
   "metadata": {},
   "outputs": [],
   "source": []
  },
  {
   "cell_type": "code",
   "execution_count": null,
   "metadata": {},
   "outputs": [],
   "source": []
  },
  {
   "cell_type": "code",
   "execution_count": null,
   "metadata": {},
   "outputs": [],
   "source": []
  }
 ],
 "metadata": {
  "kernelspec": {
   "display_name": "R",
   "language": "R",
   "name": "ir"
  },
  "language_info": {
   "codemirror_mode": "r",
   "file_extension": ".r",
   "mimetype": "text/x-r-source",
   "name": "R",
   "pygments_lexer": "r",
   "version": "3.6.3"
  }
 },
 "nbformat": 4,
 "nbformat_minor": 4
}
