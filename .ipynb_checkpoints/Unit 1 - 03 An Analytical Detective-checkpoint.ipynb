{
 "cells": [
  {
   "cell_type": "markdown",
   "metadata": {},
   "source": [
    "# An Analytical Detective"
   ]
  },
  {
   "cell_type": "markdown",
   "metadata": {},
   "source": [
    "Crime is an international concern, but it is documented and handled in very different ways in different countries. In the United States, violent crimes and property crimes are recorded by the Federal Bureau of Investigation (FBI).  Additionally, each city documents crime, and some cities release data regarding crime rates. The city of Chicago, Illinois releases crime data from 2001 onward [online](https://data.cityofchicago.org/Public-Safety/Crimes-2001-to-Present/ijzp-q8t2)."
   ]
  },
  {
   "cell_type": "markdown",
   "metadata": {},
   "source": [
    "Chicago is the third most populous city in the United States, with a population of over 2.7 million people. The city of Chicago is shown in the map below, with the state of Illinois highlighted in red. "
   ]
  },
  {
   "cell_type": "markdown",
   "metadata": {},
   "source": [
    "<img src=\"images/ChicagoMap.png\"/>"
   ]
  },
  {
   "cell_type": "markdown",
   "metadata": {},
   "source": [
    "There are two main types of crimes: violent crimes, and property crimes. In this problem, we'll focus on one specific type of property crime, called \"*motor vehicle theft*\" (sometimes referred to as grand theft auto). This is the act of stealing, or attempting to steal, a car. In this problem, we'll use some basic data analysis in R to understand the motor vehicle thefts in Chicago. "
   ]
  },
  {
   "cell_type": "code",
   "execution_count": 6,
   "metadata": {},
   "outputs": [
    {
     "data": {
      "text/html": [
       "<table>\n",
       "<caption>A data.frame: 6 × 11</caption>\n",
       "<thead>\n",
       "\t<tr><th></th><th scope=col>ID</th><th scope=col>Date</th><th scope=col>LocationDescription</th><th scope=col>Arrest</th><th scope=col>Domestic</th><th scope=col>Beat</th><th scope=col>District</th><th scope=col>CommunityArea</th><th scope=col>Year</th><th scope=col>Latitude</th><th scope=col>Longitude</th></tr>\n",
       "\t<tr><th></th><th scope=col>&lt;int&gt;</th><th scope=col>&lt;fct&gt;</th><th scope=col>&lt;fct&gt;</th><th scope=col>&lt;lgl&gt;</th><th scope=col>&lt;lgl&gt;</th><th scope=col>&lt;int&gt;</th><th scope=col>&lt;int&gt;</th><th scope=col>&lt;int&gt;</th><th scope=col>&lt;int&gt;</th><th scope=col>&lt;dbl&gt;</th><th scope=col>&lt;dbl&gt;</th></tr>\n",
       "</thead>\n",
       "<tbody>\n",
       "\t<tr><th scope=row>1</th><td>8951354</td><td>12/31/12 23:15</td><td>STREET                       </td><td>FALSE</td><td>FALSE</td><td> 623</td><td> 6</td><td>69</td><td>2012</td><td>41.75628</td><td>-87.62164</td></tr>\n",
       "\t<tr><th scope=row>2</th><td>8951141</td><td>12/31/12 22:00</td><td>STREET                       </td><td>FALSE</td><td>FALSE</td><td>1213</td><td>12</td><td>24</td><td>2012</td><td>41.89879</td><td>-87.66130</td></tr>\n",
       "\t<tr><th scope=row>3</th><td>8952745</td><td>12/31/12 22:00</td><td>RESIDENTIAL YARD (FRONT/BACK)</td><td>FALSE</td><td>FALSE</td><td>1622</td><td>16</td><td>11</td><td>2012</td><td>41.96919</td><td>-87.76767</td></tr>\n",
       "\t<tr><th scope=row>4</th><td>8952223</td><td>12/31/12 22:00</td><td>STREET                       </td><td>FALSE</td><td>FALSE</td><td> 724</td><td> 7</td><td>67</td><td>2012</td><td>41.76933</td><td>-87.65773</td></tr>\n",
       "\t<tr><th scope=row>5</th><td>8951608</td><td>12/31/12 21:30</td><td>STREET                       </td><td>FALSE</td><td>FALSE</td><td> 211</td><td> 2</td><td>35</td><td>2012</td><td>41.83757</td><td>-87.62176</td></tr>\n",
       "\t<tr><th scope=row>6</th><td>8950793</td><td>12/31/12 20:30</td><td>STREET                       </td><td> TRUE</td><td>FALSE</td><td>2521</td><td>25</td><td>19</td><td>2012</td><td>41.92856</td><td>-87.75400</td></tr>\n",
       "</tbody>\n",
       "</table>\n"
      ],
      "text/latex": [
       "A data.frame: 6 × 11\n",
       "\\begin{tabular}{r|lllllllllll}\n",
       "  & ID & Date & LocationDescription & Arrest & Domestic & Beat & District & CommunityArea & Year & Latitude & Longitude\\\\\n",
       "  & <int> & <fct> & <fct> & <lgl> & <lgl> & <int> & <int> & <int> & <int> & <dbl> & <dbl>\\\\\n",
       "\\hline\n",
       "\t1 & 8951354 & 12/31/12 23:15 & STREET                        & FALSE & FALSE &  623 &  6 & 69 & 2012 & 41.75628 & -87.62164\\\\\n",
       "\t2 & 8951141 & 12/31/12 22:00 & STREET                        & FALSE & FALSE & 1213 & 12 & 24 & 2012 & 41.89879 & -87.66130\\\\\n",
       "\t3 & 8952745 & 12/31/12 22:00 & RESIDENTIAL YARD (FRONT/BACK) & FALSE & FALSE & 1622 & 16 & 11 & 2012 & 41.96919 & -87.76767\\\\\n",
       "\t4 & 8952223 & 12/31/12 22:00 & STREET                        & FALSE & FALSE &  724 &  7 & 67 & 2012 & 41.76933 & -87.65773\\\\\n",
       "\t5 & 8951608 & 12/31/12 21:30 & STREET                        & FALSE & FALSE &  211 &  2 & 35 & 2012 & 41.83757 & -87.62176\\\\\n",
       "\t6 & 8950793 & 12/31/12 20:30 & STREET                        &  TRUE & FALSE & 2521 & 25 & 19 & 2012 & 41.92856 & -87.75400\\\\\n",
       "\\end{tabular}\n"
      ],
      "text/markdown": [
       "\n",
       "A data.frame: 6 × 11\n",
       "\n",
       "| <!--/--> | ID &lt;int&gt; | Date &lt;fct&gt; | LocationDescription &lt;fct&gt; | Arrest &lt;lgl&gt; | Domestic &lt;lgl&gt; | Beat &lt;int&gt; | District &lt;int&gt; | CommunityArea &lt;int&gt; | Year &lt;int&gt; | Latitude &lt;dbl&gt; | Longitude &lt;dbl&gt; |\n",
       "|---|---|---|---|---|---|---|---|---|---|---|---|\n",
       "| 1 | 8951354 | 12/31/12 23:15 | STREET                        | FALSE | FALSE |  623 |  6 | 69 | 2012 | 41.75628 | -87.62164 |\n",
       "| 2 | 8951141 | 12/31/12 22:00 | STREET                        | FALSE | FALSE | 1213 | 12 | 24 | 2012 | 41.89879 | -87.66130 |\n",
       "| 3 | 8952745 | 12/31/12 22:00 | RESIDENTIAL YARD (FRONT/BACK) | FALSE | FALSE | 1622 | 16 | 11 | 2012 | 41.96919 | -87.76767 |\n",
       "| 4 | 8952223 | 12/31/12 22:00 | STREET                        | FALSE | FALSE |  724 |  7 | 67 | 2012 | 41.76933 | -87.65773 |\n",
       "| 5 | 8951608 | 12/31/12 21:30 | STREET                        | FALSE | FALSE |  211 |  2 | 35 | 2012 | 41.83757 | -87.62176 |\n",
       "| 6 | 8950793 | 12/31/12 20:30 | STREET                        |  TRUE | FALSE | 2521 | 25 | 19 | 2012 | 41.92856 | -87.75400 |\n",
       "\n"
      ],
      "text/plain": [
       "  ID      Date           LocationDescription           Arrest Domestic Beat\n",
       "1 8951354 12/31/12 23:15 STREET                        FALSE  FALSE     623\n",
       "2 8951141 12/31/12 22:00 STREET                        FALSE  FALSE    1213\n",
       "3 8952745 12/31/12 22:00 RESIDENTIAL YARD (FRONT/BACK) FALSE  FALSE    1622\n",
       "4 8952223 12/31/12 22:00 STREET                        FALSE  FALSE     724\n",
       "5 8951608 12/31/12 21:30 STREET                        FALSE  FALSE     211\n",
       "6 8950793 12/31/12 20:30 STREET                         TRUE  FALSE    2521\n",
       "  District CommunityArea Year Latitude Longitude\n",
       "1  6       69            2012 41.75628 -87.62164\n",
       "2 12       24            2012 41.89879 -87.66130\n",
       "3 16       11            2012 41.96919 -87.76767\n",
       "4  7       67            2012 41.76933 -87.65773\n",
       "5  2       35            2012 41.83757 -87.62176\n",
       "6 25       19            2012 41.92856 -87.75400"
      ]
     },
     "metadata": {},
     "output_type": "display_data"
    }
   ],
   "source": [
    "MVT = read.csv('data/mvtWeek1.csv')\n",
    "head(MVT)"
   ]
  },
  {
   "cell_type": "markdown",
   "metadata": {},
   "source": [
    "####################################### List of Descriptions of the Variables #################################################\n",
    "\n",
    "**ID:** a unique identifier for each observation\n",
    "\n",
    "**Date:** the date the crime occurred\n",
    "\n",
    "**LocationDescription:** the location where the crime occurred\n",
    "\n",
    "**Arrest:** whether or not an arrest was made for the crime (TRUE if an arrest was made, and FALSE if an arrest was not made)\n",
    "\n",
    "**Domestic:** whether or not the crime was a domestic crime, meaning that it was committed against a family member (TRUE if it was domestic, and FALSE if it was not domestic)\n",
    "\n",
    "**Beat:** the area, or \"beat\" in which the crime occurred. This is the smallest regional division defined by the Chicago police department.\n",
    "\n",
    "**District:** the police district in which the crime occured. Each district is composed of many beats, and are defined by the Chicago Police Department.\n",
    "\n",
    "**CommunityArea:** the community area in which the crime occurred. Since the 1920s, Chicago has been divided into what are called \"community areas\", of which there are now 77. The community areas were devised in an attempt to create socially homogeneous regions.\n",
    "\n",
    "**Year:** the year in which the crime occurred.\n",
    "\n",
    "**Latitude:** the latitude of the location at which the crime occurred.\n",
    "\n",
    "**Longitude:** the longitude of the location at which the crime occurred.\n",
    "\n",
    "###############################################################################################################################"
   ]
  },
  {
   "cell_type": "markdown",
   "metadata": {},
   "source": [
    "How many rows of data (observations) are in this dataset?\n",
    "\n",
    "How many variables are in this dataset?"
   ]
  },
  {
   "cell_type": "code",
   "execution_count": 21,
   "metadata": {},
   "outputs": [
    {
     "name": "stdout",
     "output_type": "stream",
     "text": [
      "'data.frame':\t191641 obs. of  11 variables:\n",
      " $ ID                 : int  8951354 8951141 8952745 8952223 8951608 8950793 8950760 8951611 8951802 8950706 ...\n",
      " $ Date               : Factor w/ 131680 levels \"1/1/01 0:01\",..: 42824 42823 42823 42823 42822 42821 42820 42819 42817 42816 ...\n",
      " $ LocationDescription: Factor w/ 78 levels \"ABANDONED BUILDING\",..: 72 72 62 72 72 72 72 72 72 72 ...\n",
      " $ Arrest             : logi  FALSE FALSE FALSE FALSE FALSE TRUE ...\n",
      " $ Domestic           : logi  FALSE FALSE FALSE FALSE FALSE FALSE ...\n",
      " $ Beat               : int  623 1213 1622 724 211 2521 423 231 1021 1215 ...\n",
      " $ District           : int  6 12 16 7 2 25 4 2 10 12 ...\n",
      " $ CommunityArea      : int  69 24 11 67 35 19 48 40 29 24 ...\n",
      " $ Year               : int  2012 2012 2012 2012 2012 2012 2012 2012 2012 2012 ...\n",
      " $ Latitude           : num  41.8 41.9 42 41.8 41.8 ...\n",
      " $ Longitude          : num  -87.6 -87.7 -87.8 -87.7 -87.6 ...\n"
     ]
    }
   ],
   "source": [
    "str(MVT)"
   ]
  },
  {
   "cell_type": "markdown",
   "metadata": {},
   "source": [
    "Using the \"max\" function, what is the maximum value of the variable \"ID\"?"
   ]
  },
  {
   "cell_type": "code",
   "execution_count": 7,
   "metadata": {},
   "outputs": [
    {
     "data": {
      "text/html": [
       "9181151"
      ],
      "text/latex": [
       "9181151"
      ],
      "text/markdown": [
       "9181151"
      ],
      "text/plain": [
       "[1] 9181151"
      ]
     },
     "metadata": {},
     "output_type": "display_data"
    }
   ],
   "source": [
    "max(MVT$ID)"
   ]
  },
  {
   "cell_type": "markdown",
   "metadata": {},
   "source": [
    "What is the minimum value of the variable \"Beat\"?"
   ]
  },
  {
   "cell_type": "code",
   "execution_count": 8,
   "metadata": {},
   "outputs": [
    {
     "data": {
      "text/html": [
       "111"
      ],
      "text/latex": [
       "111"
      ],
      "text/markdown": [
       "111"
      ],
      "text/plain": [
       "[1] 111"
      ]
     },
     "metadata": {},
     "output_type": "display_data"
    }
   ],
   "source": [
    "min(MVT$Beat)"
   ]
  },
  {
   "cell_type": "markdown",
   "metadata": {},
   "source": [
    "How many observations have value TRUE in the Arrest variable (this is the number of crimes for which an arrest was made)?"
   ]
  },
  {
   "cell_type": "code",
   "execution_count": 11,
   "metadata": {},
   "outputs": [
    {
     "data": {
      "text/plain": [
       "\n",
       " FALSE   TRUE \n",
       "176105  15536 "
      ]
     },
     "metadata": {},
     "output_type": "display_data"
    }
   ],
   "source": [
    "table(MVT$Arrest)"
   ]
  },
  {
   "cell_type": "code",
   "execution_count": 22,
   "metadata": {},
   "outputs": [
    {
     "data": {
      "text/html": [
       "<table>\n",
       "<caption>A data.frame: 6 × 11</caption>\n",
       "<thead>\n",
       "\t<tr><th></th><th scope=col>ID</th><th scope=col>Date</th><th scope=col>LocationDescription</th><th scope=col>Arrest</th><th scope=col>Domestic</th><th scope=col>Beat</th><th scope=col>District</th><th scope=col>CommunityArea</th><th scope=col>Year</th><th scope=col>Latitude</th><th scope=col>Longitude</th></tr>\n",
       "\t<tr><th></th><th scope=col>&lt;int&gt;</th><th scope=col>&lt;fct&gt;</th><th scope=col>&lt;fct&gt;</th><th scope=col>&lt;lgl&gt;</th><th scope=col>&lt;lgl&gt;</th><th scope=col>&lt;int&gt;</th><th scope=col>&lt;int&gt;</th><th scope=col>&lt;int&gt;</th><th scope=col>&lt;int&gt;</th><th scope=col>&lt;dbl&gt;</th><th scope=col>&lt;dbl&gt;</th></tr>\n",
       "</thead>\n",
       "<tbody>\n",
       "\t<tr><th scope=row>6</th><td>8950793</td><td>12/31/12 20:30</td><td>STREET     </td><td>TRUE</td><td>FALSE</td><td>2521</td><td>25</td><td>19</td><td>2012</td><td>41.92856</td><td>-87.75400</td></tr>\n",
       "\t<tr><th scope=row>9</th><td>8951802</td><td>12/31/12 19:00</td><td>STREET     </td><td>TRUE</td><td>FALSE</td><td>1021</td><td>10</td><td>29</td><td>2012</td><td>41.86362</td><td>-87.70910</td></tr>\n",
       "\t<tr><th scope=row>14</th><td>8950570</td><td>12/31/12 16:20</td><td>GAS STATION</td><td>TRUE</td><td>FALSE</td><td> 825</td><td> 8</td><td>66</td><td>2012</td><td>41.78455</td><td>-87.68393</td></tr>\n",
       "\t<tr><th scope=row>48</th><td>8949895</td><td>12/30/12 19:46</td><td>ALLEY      </td><td>TRUE</td><td>FALSE</td><td>2512</td><td>25</td><td>18</td><td>2012</td><td>41.92875</td><td>-87.80289</td></tr>\n",
       "\t<tr><th scope=row>60</th><td>8949557</td><td>12/30/12 15:00</td><td>STREET     </td><td>TRUE</td><td>FALSE</td><td>2535</td><td>25</td><td>23</td><td>2012</td><td>41.90881</td><td>-87.72057</td></tr>\n",
       "\t<tr><th scope=row>70</th><td>8949844</td><td>12/30/12 7:15 </td><td>STREET     </td><td>TRUE</td><td>FALSE</td><td> 414</td><td> 4</td><td>46</td><td>2012</td><td>41.74795</td><td>-87.56849</td></tr>\n",
       "</tbody>\n",
       "</table>\n"
      ],
      "text/latex": [
       "A data.frame: 6 × 11\n",
       "\\begin{tabular}{r|lllllllllll}\n",
       "  & ID & Date & LocationDescription & Arrest & Domestic & Beat & District & CommunityArea & Year & Latitude & Longitude\\\\\n",
       "  & <int> & <fct> & <fct> & <lgl> & <lgl> & <int> & <int> & <int> & <int> & <dbl> & <dbl>\\\\\n",
       "\\hline\n",
       "\t6 & 8950793 & 12/31/12 20:30 & STREET      & TRUE & FALSE & 2521 & 25 & 19 & 2012 & 41.92856 & -87.75400\\\\\n",
       "\t9 & 8951802 & 12/31/12 19:00 & STREET      & TRUE & FALSE & 1021 & 10 & 29 & 2012 & 41.86362 & -87.70910\\\\\n",
       "\t14 & 8950570 & 12/31/12 16:20 & GAS STATION & TRUE & FALSE &  825 &  8 & 66 & 2012 & 41.78455 & -87.68393\\\\\n",
       "\t48 & 8949895 & 12/30/12 19:46 & ALLEY       & TRUE & FALSE & 2512 & 25 & 18 & 2012 & 41.92875 & -87.80289\\\\\n",
       "\t60 & 8949557 & 12/30/12 15:00 & STREET      & TRUE & FALSE & 2535 & 25 & 23 & 2012 & 41.90881 & -87.72057\\\\\n",
       "\t70 & 8949844 & 12/30/12 7:15  & STREET      & TRUE & FALSE &  414 &  4 & 46 & 2012 & 41.74795 & -87.56849\\\\\n",
       "\\end{tabular}\n"
      ],
      "text/markdown": [
       "\n",
       "A data.frame: 6 × 11\n",
       "\n",
       "| <!--/--> | ID &lt;int&gt; | Date &lt;fct&gt; | LocationDescription &lt;fct&gt; | Arrest &lt;lgl&gt; | Domestic &lt;lgl&gt; | Beat &lt;int&gt; | District &lt;int&gt; | CommunityArea &lt;int&gt; | Year &lt;int&gt; | Latitude &lt;dbl&gt; | Longitude &lt;dbl&gt; |\n",
       "|---|---|---|---|---|---|---|---|---|---|---|---|\n",
       "| 6 | 8950793 | 12/31/12 20:30 | STREET      | TRUE | FALSE | 2521 | 25 | 19 | 2012 | 41.92856 | -87.75400 |\n",
       "| 9 | 8951802 | 12/31/12 19:00 | STREET      | TRUE | FALSE | 1021 | 10 | 29 | 2012 | 41.86362 | -87.70910 |\n",
       "| 14 | 8950570 | 12/31/12 16:20 | GAS STATION | TRUE | FALSE |  825 |  8 | 66 | 2012 | 41.78455 | -87.68393 |\n",
       "| 48 | 8949895 | 12/30/12 19:46 | ALLEY       | TRUE | FALSE | 2512 | 25 | 18 | 2012 | 41.92875 | -87.80289 |\n",
       "| 60 | 8949557 | 12/30/12 15:00 | STREET      | TRUE | FALSE | 2535 | 25 | 23 | 2012 | 41.90881 | -87.72057 |\n",
       "| 70 | 8949844 | 12/30/12 7:15  | STREET      | TRUE | FALSE |  414 |  4 | 46 | 2012 | 41.74795 | -87.56849 |\n",
       "\n"
      ],
      "text/plain": [
       "   ID      Date           LocationDescription Arrest Domestic Beat District\n",
       "6  8950793 12/31/12 20:30 STREET              TRUE   FALSE    2521 25      \n",
       "9  8951802 12/31/12 19:00 STREET              TRUE   FALSE    1021 10      \n",
       "14 8950570 12/31/12 16:20 GAS STATION         TRUE   FALSE     825  8      \n",
       "48 8949895 12/30/12 19:46 ALLEY               TRUE   FALSE    2512 25      \n",
       "60 8949557 12/30/12 15:00 STREET              TRUE   FALSE    2535 25      \n",
       "70 8949844 12/30/12 7:15  STREET              TRUE   FALSE     414  4      \n",
       "   CommunityArea Year Latitude Longitude\n",
       "6  19            2012 41.92856 -87.75400\n",
       "9  29            2012 41.86362 -87.70910\n",
       "14 66            2012 41.78455 -87.68393\n",
       "48 18            2012 41.92875 -87.80289\n",
       "60 23            2012 41.90881 -87.72057\n",
       "70 46            2012 41.74795 -87.56849"
      ]
     },
     "metadata": {},
     "output_type": "display_data"
    }
   ],
   "source": [
    "arrest <- MVT[MVT$Arrest == \"TRUE\",]\n",
    "head(arrest)"
   ]
  },
  {
   "cell_type": "markdown",
   "metadata": {},
   "source": [
    "How many observations have a LocationDescription value of ALLEY?"
   ]
  },
  {
   "cell_type": "code",
   "execution_count": 24,
   "metadata": {},
   "outputs": [
    {
     "data": {
      "text/plain": [
       "\n",
       "                             ABANDONED BUILDING \n",
       "                                              4 \n",
       "AIRPORT BUILDING NON-TERMINAL - NON-SECURE AREA \n",
       "                                              4 \n",
       "    AIRPORT BUILDING NON-TERMINAL - SECURE AREA \n",
       "                                              1 \n",
       "             AIRPORT EXTERIOR - NON-SECURE AREA \n",
       "                                             24 \n",
       "                 AIRPORT EXTERIOR - SECURE AREA \n",
       "                                              1 \n",
       "                            AIRPORT PARKING LOT \n",
       "                                             11 \n",
       " AIRPORT TERMINAL UPPER LEVEL - NON-SECURE AREA \n",
       "                                              5 \n",
       "                  AIRPORT VENDING ESTABLISHMENT \n",
       "                                             10 \n",
       "                               AIRPORT/AIRCRAFT \n",
       "                                            363 \n",
       "                                          ALLEY \n",
       "                                           2308 \n",
       "                                ANIMAL HOSPITAL \n",
       "                                              1 \n",
       "                                      APARTMENT \n",
       "                                            184 \n",
       "                                APPLIANCE STORE \n",
       "                                              1 \n",
       "                                  ATHLETIC CLUB \n",
       "                                              9 \n",
       "                                           BANK \n",
       "                                              7 \n",
       "                                  BAR OR TAVERN \n",
       "                                             17 \n",
       "                                     BARBERSHOP \n",
       "                                              4 \n",
       "                                  BOWLING ALLEY \n",
       "                                              3 \n",
       "                                         BRIDGE \n",
       "                                              2 \n",
       "                                       CAR WASH \n",
       "                                             44 \n",
       "                                  CHA APARTMENT \n",
       "                                              5 \n",
       "                        CHA PARKING LOT/GROUNDS \n",
       "                                            405 \n",
       "              CHURCH/SYNAGOGUE/PLACE OF WORSHIP \n",
       "                                             56 \n",
       "                                 CLEANING STORE \n",
       "                                              3 \n",
       "                     COLLEGE/UNIVERSITY GROUNDS \n",
       "                                             47 \n",
       "              COLLEGE/UNIVERSITY RESIDENCE HALL \n",
       "                                              2 \n",
       "                   COMMERCIAL / BUSINESS OFFICE \n",
       "                                            126 \n",
       "                              CONSTRUCTION SITE \n",
       "                                             35 \n",
       "                              CONVENIENCE STORE \n",
       "                                              7 \n",
       "                    CTA GARAGE / OTHER PROPERTY \n",
       "                                            148 \n",
       "                                      CTA TRAIN \n",
       "                                              1 \n",
       "                              CURRENCY EXCHANGE \n",
       "                                              2 \n",
       "                                DAY CARE CENTER \n",
       "                                              5 \n",
       "                               DEPARTMENT STORE \n",
       "                                             22 \n",
       "                         DRIVEWAY - RESIDENTIAL \n",
       "                                           1675 \n",
       "                                     DRUG STORE \n",
       "                                              8 \n",
       "                 FACTORY/MANUFACTURING BUILDING \n",
       "                                             16 \n",
       "                                   FIRE STATION \n",
       "                                              5 \n",
       "                                FOREST PRESERVE \n",
       "                                              6 \n",
       "                                    GAS STATION \n",
       "                                           2111 \n",
       "                   GOVERNMENT BUILDING/PROPERTY \n",
       "                                             48 \n",
       "                             GROCERY FOOD STORE \n",
       "                                             80 \n",
       "                             HIGHWAY/EXPRESSWAY \n",
       "                                             22 \n",
       "                      HOSPITAL BUILDING/GROUNDS \n",
       "                                            101 \n",
       "                                    HOTEL/MOTEL \n",
       "                                            124 \n",
       "                        JAIL / LOCK-UP FACILITY \n",
       "                                              1 \n",
       "                 LAKEFRONT/WATERFRONT/RIVERBANK \n",
       "                                              4 \n",
       "                                        LIBRARY \n",
       "                                              4 \n",
       "                          MEDICAL/DENTAL OFFICE \n",
       "                                              3 \n",
       "                            MOVIE HOUSE/THEATER \n",
       "                                             18 \n",
       "                                      NEWSSTAND \n",
       "                                              1 \n",
       "                   NURSING HOME/RETIREMENT HOME \n",
       "                                             21 \n",
       "                                          OTHER \n",
       "                                           4573 \n",
       "                OTHER COMMERCIAL TRANSPORTATION \n",
       "                                              8 \n",
       "              OTHER RAILROAD PROP / TRAIN DEPOT \n",
       "                                             28 \n",
       "                                  PARK PROPERTY \n",
       "                                            255 \n",
       "                 PARKING LOT/GARAGE(NON.RESID.) \n",
       "                                          14852 \n",
       "                POLICE FACILITY/VEH PARKING LOT \n",
       "                                            266 \n",
       "                                      RESIDENCE \n",
       "                                           1302 \n",
       "                               RESIDENCE-GARAGE \n",
       "                                           1176 \n",
       "                        RESIDENCE PORCH/HALLWAY \n",
       "                                             18 \n",
       "                  RESIDENTIAL YARD (FRONT/BACK) \n",
       "                                           1536 \n",
       "                                     RESTAURANT \n",
       "                                             49 \n",
       "                               SAVINGS AND LOAN \n",
       "                                              4 \n",
       "                      SCHOOL, PRIVATE, BUILDING \n",
       "                                             14 \n",
       "                       SCHOOL, PRIVATE, GROUNDS \n",
       "                                             23 \n",
       "                       SCHOOL, PUBLIC, BUILDING \n",
       "                                            114 \n",
       "                        SCHOOL, PUBLIC, GROUNDS \n",
       "                                            206 \n",
       "                                       SIDEWALK \n",
       "                                            462 \n",
       "                             SMALL RETAIL STORE \n",
       "                                             33 \n",
       "                           SPORTS ARENA/STADIUM \n",
       "                                            166 \n",
       "                                         STREET \n",
       "                                         156564 \n",
       "                            TAVERN/LIQUOR STORE \n",
       "                                             14 \n",
       "                                        TAXICAB \n",
       "                                             21 \n",
       "                                VACANT LOT/LAND \n",
       "                                            985 \n",
       "                             VEHICLE-COMMERCIAL \n",
       "                                             23 \n",
       "                         VEHICLE NON-COMMERCIAL \n",
       "                                            817 \n",
       "                                      WAREHOUSE \n",
       "                                             17 "
      ]
     },
     "metadata": {},
     "output_type": "display_data"
    }
   ],
   "source": [
    "table(MVT$LocationDescription)"
   ]
  },
  {
   "cell_type": "markdown",
   "metadata": {},
   "source": [
    "In what format are the entries in the variable Date?"
   ]
  },
  {
   "cell_type": "code",
   "execution_count": 25,
   "metadata": {},
   "outputs": [
    {
     "data": {
      "text/html": [
       "<table>\n",
       "<caption>A data.frame: 6 × 11</caption>\n",
       "<thead>\n",
       "\t<tr><th></th><th scope=col>ID</th><th scope=col>Date</th><th scope=col>LocationDescription</th><th scope=col>Arrest</th><th scope=col>Domestic</th><th scope=col>Beat</th><th scope=col>District</th><th scope=col>CommunityArea</th><th scope=col>Year</th><th scope=col>Latitude</th><th scope=col>Longitude</th></tr>\n",
       "\t<tr><th></th><th scope=col>&lt;int&gt;</th><th scope=col>&lt;fct&gt;</th><th scope=col>&lt;fct&gt;</th><th scope=col>&lt;lgl&gt;</th><th scope=col>&lt;lgl&gt;</th><th scope=col>&lt;int&gt;</th><th scope=col>&lt;int&gt;</th><th scope=col>&lt;int&gt;</th><th scope=col>&lt;int&gt;</th><th scope=col>&lt;dbl&gt;</th><th scope=col>&lt;dbl&gt;</th></tr>\n",
       "</thead>\n",
       "<tbody>\n",
       "\t<tr><th scope=row>1</th><td>8951354</td><td>12/31/12 23:15</td><td>STREET                       </td><td>FALSE</td><td>FALSE</td><td> 623</td><td> 6</td><td>69</td><td>2012</td><td>41.75628</td><td>-87.62164</td></tr>\n",
       "\t<tr><th scope=row>2</th><td>8951141</td><td>12/31/12 22:00</td><td>STREET                       </td><td>FALSE</td><td>FALSE</td><td>1213</td><td>12</td><td>24</td><td>2012</td><td>41.89879</td><td>-87.66130</td></tr>\n",
       "\t<tr><th scope=row>3</th><td>8952745</td><td>12/31/12 22:00</td><td>RESIDENTIAL YARD (FRONT/BACK)</td><td>FALSE</td><td>FALSE</td><td>1622</td><td>16</td><td>11</td><td>2012</td><td>41.96919</td><td>-87.76767</td></tr>\n",
       "\t<tr><th scope=row>4</th><td>8952223</td><td>12/31/12 22:00</td><td>STREET                       </td><td>FALSE</td><td>FALSE</td><td> 724</td><td> 7</td><td>67</td><td>2012</td><td>41.76933</td><td>-87.65773</td></tr>\n",
       "\t<tr><th scope=row>5</th><td>8951608</td><td>12/31/12 21:30</td><td>STREET                       </td><td>FALSE</td><td>FALSE</td><td> 211</td><td> 2</td><td>35</td><td>2012</td><td>41.83757</td><td>-87.62176</td></tr>\n",
       "\t<tr><th scope=row>6</th><td>8950793</td><td>12/31/12 20:30</td><td>STREET                       </td><td> TRUE</td><td>FALSE</td><td>2521</td><td>25</td><td>19</td><td>2012</td><td>41.92856</td><td>-87.75400</td></tr>\n",
       "</tbody>\n",
       "</table>\n"
      ],
      "text/latex": [
       "A data.frame: 6 × 11\n",
       "\\begin{tabular}{r|lllllllllll}\n",
       "  & ID & Date & LocationDescription & Arrest & Domestic & Beat & District & CommunityArea & Year & Latitude & Longitude\\\\\n",
       "  & <int> & <fct> & <fct> & <lgl> & <lgl> & <int> & <int> & <int> & <int> & <dbl> & <dbl>\\\\\n",
       "\\hline\n",
       "\t1 & 8951354 & 12/31/12 23:15 & STREET                        & FALSE & FALSE &  623 &  6 & 69 & 2012 & 41.75628 & -87.62164\\\\\n",
       "\t2 & 8951141 & 12/31/12 22:00 & STREET                        & FALSE & FALSE & 1213 & 12 & 24 & 2012 & 41.89879 & -87.66130\\\\\n",
       "\t3 & 8952745 & 12/31/12 22:00 & RESIDENTIAL YARD (FRONT/BACK) & FALSE & FALSE & 1622 & 16 & 11 & 2012 & 41.96919 & -87.76767\\\\\n",
       "\t4 & 8952223 & 12/31/12 22:00 & STREET                        & FALSE & FALSE &  724 &  7 & 67 & 2012 & 41.76933 & -87.65773\\\\\n",
       "\t5 & 8951608 & 12/31/12 21:30 & STREET                        & FALSE & FALSE &  211 &  2 & 35 & 2012 & 41.83757 & -87.62176\\\\\n",
       "\t6 & 8950793 & 12/31/12 20:30 & STREET                        &  TRUE & FALSE & 2521 & 25 & 19 & 2012 & 41.92856 & -87.75400\\\\\n",
       "\\end{tabular}\n"
      ],
      "text/markdown": [
       "\n",
       "A data.frame: 6 × 11\n",
       "\n",
       "| <!--/--> | ID &lt;int&gt; | Date &lt;fct&gt; | LocationDescription &lt;fct&gt; | Arrest &lt;lgl&gt; | Domestic &lt;lgl&gt; | Beat &lt;int&gt; | District &lt;int&gt; | CommunityArea &lt;int&gt; | Year &lt;int&gt; | Latitude &lt;dbl&gt; | Longitude &lt;dbl&gt; |\n",
       "|---|---|---|---|---|---|---|---|---|---|---|---|\n",
       "| 1 | 8951354 | 12/31/12 23:15 | STREET                        | FALSE | FALSE |  623 |  6 | 69 | 2012 | 41.75628 | -87.62164 |\n",
       "| 2 | 8951141 | 12/31/12 22:00 | STREET                        | FALSE | FALSE | 1213 | 12 | 24 | 2012 | 41.89879 | -87.66130 |\n",
       "| 3 | 8952745 | 12/31/12 22:00 | RESIDENTIAL YARD (FRONT/BACK) | FALSE | FALSE | 1622 | 16 | 11 | 2012 | 41.96919 | -87.76767 |\n",
       "| 4 | 8952223 | 12/31/12 22:00 | STREET                        | FALSE | FALSE |  724 |  7 | 67 | 2012 | 41.76933 | -87.65773 |\n",
       "| 5 | 8951608 | 12/31/12 21:30 | STREET                        | FALSE | FALSE |  211 |  2 | 35 | 2012 | 41.83757 | -87.62176 |\n",
       "| 6 | 8950793 | 12/31/12 20:30 | STREET                        |  TRUE | FALSE | 2521 | 25 | 19 | 2012 | 41.92856 | -87.75400 |\n",
       "\n"
      ],
      "text/plain": [
       "  ID      Date           LocationDescription           Arrest Domestic Beat\n",
       "1 8951354 12/31/12 23:15 STREET                        FALSE  FALSE     623\n",
       "2 8951141 12/31/12 22:00 STREET                        FALSE  FALSE    1213\n",
       "3 8952745 12/31/12 22:00 RESIDENTIAL YARD (FRONT/BACK) FALSE  FALSE    1622\n",
       "4 8952223 12/31/12 22:00 STREET                        FALSE  FALSE     724\n",
       "5 8951608 12/31/12 21:30 STREET                        FALSE  FALSE     211\n",
       "6 8950793 12/31/12 20:30 STREET                         TRUE  FALSE    2521\n",
       "  District CommunityArea Year Latitude Longitude\n",
       "1  6       69            2012 41.75628 -87.62164\n",
       "2 12       24            2012 41.89879 -87.66130\n",
       "3 16       11            2012 41.96919 -87.76767\n",
       "4  7       67            2012 41.76933 -87.65773\n",
       "5  2       35            2012 41.83757 -87.62176\n",
       "6 25       19            2012 41.92856 -87.75400"
      ]
     },
     "metadata": {},
     "output_type": "display_data"
    }
   ],
   "source": [
    "head(MVT)"
   ]
  },
  {
   "cell_type": "markdown",
   "metadata": {},
   "source": [
    "What is the month and year of the median date in our dataset?"
   ]
  },
  {
   "cell_type": "code",
   "execution_count": 31,
   "metadata": {},
   "outputs": [
    {
     "data": {
      "text/html": [
       "<style>\n",
       ".list-inline {list-style: none; margin:0; padding: 0}\n",
       ".list-inline>li {display: inline-block}\n",
       ".list-inline>li:not(:last-child)::after {content: \"\\00b7\"; padding: 0 .5ex}\n",
       "</style>\n",
       "<ol class=list-inline><li><time datetime=\"2012-12-31\">2012-12-31</time></li><li><time datetime=\"2012-12-31\">2012-12-31</time></li><li><time datetime=\"2012-12-31\">2012-12-31</time></li><li><time datetime=\"2012-12-31\">2012-12-31</time></li><li><time datetime=\"2012-12-31\">2012-12-31</time></li><li><time datetime=\"2012-12-31\">2012-12-31</time></li></ol>\n"
      ],
      "text/latex": [
       "\\begin{enumerate*}\n",
       "\\item 2012-12-31\n",
       "\\item 2012-12-31\n",
       "\\item 2012-12-31\n",
       "\\item 2012-12-31\n",
       "\\item 2012-12-31\n",
       "\\item 2012-12-31\n",
       "\\end{enumerate*}\n"
      ],
      "text/markdown": [
       "1. 2012-12-31\n",
       "2. 2012-12-31\n",
       "3. 2012-12-31\n",
       "4. 2012-12-31\n",
       "5. 2012-12-31\n",
       "6. 2012-12-31\n",
       "\n",
       "\n"
      ],
      "text/plain": [
       "[1] \"2012-12-31\" \"2012-12-31\" \"2012-12-31\" \"2012-12-31\" \"2012-12-31\"\n",
       "[6] \"2012-12-31\""
      ]
     },
     "metadata": {},
     "output_type": "display_data"
    }
   ],
   "source": [
    "DateConvert = as.Date(strptime(MVT$Date, \"%m/%d/%y %H:%M\"))\n",
    "head(DateConvert)"
   ]
  },
  {
   "cell_type": "code",
   "execution_count": 32,
   "metadata": {},
   "outputs": [
    {
     "data": {
      "text/html": [
       "<style>\n",
       ".dl-inline {width: auto; margin:0; padding: 0}\n",
       ".dl-inline>dt, .dl-inline>dd {float: none; width: auto; display: inline-block}\n",
       ".dl-inline>dt::after {content: \":\\0020\"; padding-right: .5ex}\n",
       ".dl-inline>dt:not(:first-of-type) {padding-left: .5ex}\n",
       "</style><dl class=dl-inline><dt>Min.</dt><dd><time datetime=\"2001-01-01\">2001-01-01</time></dd><dt>1st Qu.</dt><dd><time datetime=\"2003-07-10\">2003-07-10</time></dd><dt>Median</dt><dd><time datetime=\"2006-05-21\">2006-05-21</time></dd><dt>Mean</dt><dd><time datetime=\"2006-08-23\">2006-08-23</time></dd><dt>3rd Qu.</dt><dd><time datetime=\"2009-10-24\">2009-10-24</time></dd><dt>Max.</dt><dd><time datetime=\"2012-12-31\">2012-12-31</time></dd></dl>\n"
      ],
      "text/latex": [
       "\\begin{description*}\n",
       "\\item[Min.] 2001-01-01\n",
       "\\item[1st Qu.] 2003-07-10\n",
       "\\item[Median] 2006-05-21\n",
       "\\item[Mean] 2006-08-23\n",
       "\\item[3rd Qu.] 2009-10-24\n",
       "\\item[Max.] 2012-12-31\n",
       "\\end{description*}\n"
      ],
      "text/markdown": [
       "Min.\n",
       ":   2001-01-011st Qu.\n",
       ":   2003-07-10Median\n",
       ":   2006-05-21Mean\n",
       ":   2006-08-233rd Qu.\n",
       ":   2009-10-24Max.\n",
       ":   2012-12-31\n",
       "\n"
      ],
      "text/plain": [
       "        Min.      1st Qu.       Median         Mean      3rd Qu.         Max. \n",
       "\"2001-01-01\" \"2003-07-10\" \"2006-05-21\" \"2006-08-23\" \"2009-10-24\" \"2012-12-31\" "
      ]
     },
     "metadata": {},
     "output_type": "display_data"
    }
   ],
   "source": [
    "summary(DateConvert)"
   ]
  },
  {
   "cell_type": "markdown",
   "metadata": {},
   "source": [
    "In which month did the fewest motor vehicle thefts occur?"
   ]
  },
  {
   "cell_type": "code",
   "execution_count": 33,
   "metadata": {},
   "outputs": [
    {
     "data": {
      "text/html": [
       "<table>\n",
       "<caption>A data.frame: 6 × 12</caption>\n",
       "<thead>\n",
       "\t<tr><th></th><th scope=col>ID</th><th scope=col>Date</th><th scope=col>LocationDescription</th><th scope=col>Arrest</th><th scope=col>Domestic</th><th scope=col>Beat</th><th scope=col>District</th><th scope=col>CommunityArea</th><th scope=col>Year</th><th scope=col>Latitude</th><th scope=col>Longitude</th><th scope=col>Month</th></tr>\n",
       "\t<tr><th></th><th scope=col>&lt;int&gt;</th><th scope=col>&lt;fct&gt;</th><th scope=col>&lt;fct&gt;</th><th scope=col>&lt;lgl&gt;</th><th scope=col>&lt;lgl&gt;</th><th scope=col>&lt;int&gt;</th><th scope=col>&lt;int&gt;</th><th scope=col>&lt;int&gt;</th><th scope=col>&lt;int&gt;</th><th scope=col>&lt;dbl&gt;</th><th scope=col>&lt;dbl&gt;</th><th scope=col>&lt;chr&gt;</th></tr>\n",
       "</thead>\n",
       "<tbody>\n",
       "\t<tr><th scope=row>1</th><td>8951354</td><td>12/31/12 23:15</td><td>STREET                       </td><td>FALSE</td><td>FALSE</td><td> 623</td><td> 6</td><td>69</td><td>2012</td><td>41.75628</td><td>-87.62164</td><td>December</td></tr>\n",
       "\t<tr><th scope=row>2</th><td>8951141</td><td>12/31/12 22:00</td><td>STREET                       </td><td>FALSE</td><td>FALSE</td><td>1213</td><td>12</td><td>24</td><td>2012</td><td>41.89879</td><td>-87.66130</td><td>December</td></tr>\n",
       "\t<tr><th scope=row>3</th><td>8952745</td><td>12/31/12 22:00</td><td>RESIDENTIAL YARD (FRONT/BACK)</td><td>FALSE</td><td>FALSE</td><td>1622</td><td>16</td><td>11</td><td>2012</td><td>41.96919</td><td>-87.76767</td><td>December</td></tr>\n",
       "\t<tr><th scope=row>4</th><td>8952223</td><td>12/31/12 22:00</td><td>STREET                       </td><td>FALSE</td><td>FALSE</td><td> 724</td><td> 7</td><td>67</td><td>2012</td><td>41.76933</td><td>-87.65773</td><td>December</td></tr>\n",
       "\t<tr><th scope=row>5</th><td>8951608</td><td>12/31/12 21:30</td><td>STREET                       </td><td>FALSE</td><td>FALSE</td><td> 211</td><td> 2</td><td>35</td><td>2012</td><td>41.83757</td><td>-87.62176</td><td>December</td></tr>\n",
       "\t<tr><th scope=row>6</th><td>8950793</td><td>12/31/12 20:30</td><td>STREET                       </td><td> TRUE</td><td>FALSE</td><td>2521</td><td>25</td><td>19</td><td>2012</td><td>41.92856</td><td>-87.75400</td><td>December</td></tr>\n",
       "</tbody>\n",
       "</table>\n"
      ],
      "text/latex": [
       "A data.frame: 6 × 12\n",
       "\\begin{tabular}{r|llllllllllll}\n",
       "  & ID & Date & LocationDescription & Arrest & Domestic & Beat & District & CommunityArea & Year & Latitude & Longitude & Month\\\\\n",
       "  & <int> & <fct> & <fct> & <lgl> & <lgl> & <int> & <int> & <int> & <int> & <dbl> & <dbl> & <chr>\\\\\n",
       "\\hline\n",
       "\t1 & 8951354 & 12/31/12 23:15 & STREET                        & FALSE & FALSE &  623 &  6 & 69 & 2012 & 41.75628 & -87.62164 & December\\\\\n",
       "\t2 & 8951141 & 12/31/12 22:00 & STREET                        & FALSE & FALSE & 1213 & 12 & 24 & 2012 & 41.89879 & -87.66130 & December\\\\\n",
       "\t3 & 8952745 & 12/31/12 22:00 & RESIDENTIAL YARD (FRONT/BACK) & FALSE & FALSE & 1622 & 16 & 11 & 2012 & 41.96919 & -87.76767 & December\\\\\n",
       "\t4 & 8952223 & 12/31/12 22:00 & STREET                        & FALSE & FALSE &  724 &  7 & 67 & 2012 & 41.76933 & -87.65773 & December\\\\\n",
       "\t5 & 8951608 & 12/31/12 21:30 & STREET                        & FALSE & FALSE &  211 &  2 & 35 & 2012 & 41.83757 & -87.62176 & December\\\\\n",
       "\t6 & 8950793 & 12/31/12 20:30 & STREET                        &  TRUE & FALSE & 2521 & 25 & 19 & 2012 & 41.92856 & -87.75400 & December\\\\\n",
       "\\end{tabular}\n"
      ],
      "text/markdown": [
       "\n",
       "A data.frame: 6 × 12\n",
       "\n",
       "| <!--/--> | ID &lt;int&gt; | Date &lt;fct&gt; | LocationDescription &lt;fct&gt; | Arrest &lt;lgl&gt; | Domestic &lt;lgl&gt; | Beat &lt;int&gt; | District &lt;int&gt; | CommunityArea &lt;int&gt; | Year &lt;int&gt; | Latitude &lt;dbl&gt; | Longitude &lt;dbl&gt; | Month &lt;chr&gt; |\n",
       "|---|---|---|---|---|---|---|---|---|---|---|---|---|\n",
       "| 1 | 8951354 | 12/31/12 23:15 | STREET                        | FALSE | FALSE |  623 |  6 | 69 | 2012 | 41.75628 | -87.62164 | December |\n",
       "| 2 | 8951141 | 12/31/12 22:00 | STREET                        | FALSE | FALSE | 1213 | 12 | 24 | 2012 | 41.89879 | -87.66130 | December |\n",
       "| 3 | 8952745 | 12/31/12 22:00 | RESIDENTIAL YARD (FRONT/BACK) | FALSE | FALSE | 1622 | 16 | 11 | 2012 | 41.96919 | -87.76767 | December |\n",
       "| 4 | 8952223 | 12/31/12 22:00 | STREET                        | FALSE | FALSE |  724 |  7 | 67 | 2012 | 41.76933 | -87.65773 | December |\n",
       "| 5 | 8951608 | 12/31/12 21:30 | STREET                        | FALSE | FALSE |  211 |  2 | 35 | 2012 | 41.83757 | -87.62176 | December |\n",
       "| 6 | 8950793 | 12/31/12 20:30 | STREET                        |  TRUE | FALSE | 2521 | 25 | 19 | 2012 | 41.92856 | -87.75400 | December |\n",
       "\n"
      ],
      "text/plain": [
       "  ID      Date           LocationDescription           Arrest Domestic Beat\n",
       "1 8951354 12/31/12 23:15 STREET                        FALSE  FALSE     623\n",
       "2 8951141 12/31/12 22:00 STREET                        FALSE  FALSE    1213\n",
       "3 8952745 12/31/12 22:00 RESIDENTIAL YARD (FRONT/BACK) FALSE  FALSE    1622\n",
       "4 8952223 12/31/12 22:00 STREET                        FALSE  FALSE     724\n",
       "5 8951608 12/31/12 21:30 STREET                        FALSE  FALSE     211\n",
       "6 8950793 12/31/12 20:30 STREET                         TRUE  FALSE    2521\n",
       "  District CommunityArea Year Latitude Longitude Month   \n",
       "1  6       69            2012 41.75628 -87.62164 December\n",
       "2 12       24            2012 41.89879 -87.66130 December\n",
       "3 16       11            2012 41.96919 -87.76767 December\n",
       "4  7       67            2012 41.76933 -87.65773 December\n",
       "5  2       35            2012 41.83757 -87.62176 December\n",
       "6 25       19            2012 41.92856 -87.75400 December"
      ]
     },
     "metadata": {},
     "output_type": "display_data"
    }
   ],
   "source": [
    "MVT$Month = months(DateConvert)\n",
    "head(MVT)"
   ]
  },
  {
   "cell_type": "code",
   "execution_count": null,
   "metadata": {},
   "outputs": [],
   "source": [
    "table(MVT$LocationDescription)"
   ]
  },
  {
   "cell_type": "code",
   "execution_count": 34,
   "metadata": {},
   "outputs": [
    {
     "data": {
      "text/plain": [
       "\n",
       "    April    August  December  February   January      July      June     March \n",
       "    15280     16572     16426     13511     16047     16801     16002     15758 \n",
       "      May  November   October September \n",
       "    16035     16063     17086     16060 "
      ]
     },
     "metadata": {},
     "output_type": "display_data"
    }
   ],
   "source": [
    "table(MVT$Month)"
   ]
  },
  {
   "cell_type": "markdown",
   "metadata": {},
   "source": [
    "On which weekday did the most motor vehicle thefts occur?"
   ]
  },
  {
   "cell_type": "code",
   "execution_count": 35,
   "metadata": {
    "scrolled": true
   },
   "outputs": [
    {
     "data": {
      "text/html": [
       "<table>\n",
       "<caption>A data.frame: 6 × 13</caption>\n",
       "<thead>\n",
       "\t<tr><th></th><th scope=col>ID</th><th scope=col>Date</th><th scope=col>LocationDescription</th><th scope=col>Arrest</th><th scope=col>Domestic</th><th scope=col>Beat</th><th scope=col>District</th><th scope=col>CommunityArea</th><th scope=col>Year</th><th scope=col>Latitude</th><th scope=col>Longitude</th><th scope=col>Month</th><th scope=col>Weekday</th></tr>\n",
       "\t<tr><th></th><th scope=col>&lt;int&gt;</th><th scope=col>&lt;fct&gt;</th><th scope=col>&lt;fct&gt;</th><th scope=col>&lt;lgl&gt;</th><th scope=col>&lt;lgl&gt;</th><th scope=col>&lt;int&gt;</th><th scope=col>&lt;int&gt;</th><th scope=col>&lt;int&gt;</th><th scope=col>&lt;int&gt;</th><th scope=col>&lt;dbl&gt;</th><th scope=col>&lt;dbl&gt;</th><th scope=col>&lt;chr&gt;</th><th scope=col>&lt;chr&gt;</th></tr>\n",
       "</thead>\n",
       "<tbody>\n",
       "\t<tr><th scope=row>1</th><td>8951354</td><td>12/31/12 23:15</td><td>STREET                       </td><td>FALSE</td><td>FALSE</td><td> 623</td><td> 6</td><td>69</td><td>2012</td><td>41.75628</td><td>-87.62164</td><td>December</td><td>Monday</td></tr>\n",
       "\t<tr><th scope=row>2</th><td>8951141</td><td>12/31/12 22:00</td><td>STREET                       </td><td>FALSE</td><td>FALSE</td><td>1213</td><td>12</td><td>24</td><td>2012</td><td>41.89879</td><td>-87.66130</td><td>December</td><td>Monday</td></tr>\n",
       "\t<tr><th scope=row>3</th><td>8952745</td><td>12/31/12 22:00</td><td>RESIDENTIAL YARD (FRONT/BACK)</td><td>FALSE</td><td>FALSE</td><td>1622</td><td>16</td><td>11</td><td>2012</td><td>41.96919</td><td>-87.76767</td><td>December</td><td>Monday</td></tr>\n",
       "\t<tr><th scope=row>4</th><td>8952223</td><td>12/31/12 22:00</td><td>STREET                       </td><td>FALSE</td><td>FALSE</td><td> 724</td><td> 7</td><td>67</td><td>2012</td><td>41.76933</td><td>-87.65773</td><td>December</td><td>Monday</td></tr>\n",
       "\t<tr><th scope=row>5</th><td>8951608</td><td>12/31/12 21:30</td><td>STREET                       </td><td>FALSE</td><td>FALSE</td><td> 211</td><td> 2</td><td>35</td><td>2012</td><td>41.83757</td><td>-87.62176</td><td>December</td><td>Monday</td></tr>\n",
       "\t<tr><th scope=row>6</th><td>8950793</td><td>12/31/12 20:30</td><td>STREET                       </td><td> TRUE</td><td>FALSE</td><td>2521</td><td>25</td><td>19</td><td>2012</td><td>41.92856</td><td>-87.75400</td><td>December</td><td>Monday</td></tr>\n",
       "</tbody>\n",
       "</table>\n"
      ],
      "text/latex": [
       "A data.frame: 6 × 13\n",
       "\\begin{tabular}{r|lllllllllllll}\n",
       "  & ID & Date & LocationDescription & Arrest & Domestic & Beat & District & CommunityArea & Year & Latitude & Longitude & Month & Weekday\\\\\n",
       "  & <int> & <fct> & <fct> & <lgl> & <lgl> & <int> & <int> & <int> & <int> & <dbl> & <dbl> & <chr> & <chr>\\\\\n",
       "\\hline\n",
       "\t1 & 8951354 & 12/31/12 23:15 & STREET                        & FALSE & FALSE &  623 &  6 & 69 & 2012 & 41.75628 & -87.62164 & December & Monday\\\\\n",
       "\t2 & 8951141 & 12/31/12 22:00 & STREET                        & FALSE & FALSE & 1213 & 12 & 24 & 2012 & 41.89879 & -87.66130 & December & Monday\\\\\n",
       "\t3 & 8952745 & 12/31/12 22:00 & RESIDENTIAL YARD (FRONT/BACK) & FALSE & FALSE & 1622 & 16 & 11 & 2012 & 41.96919 & -87.76767 & December & Monday\\\\\n",
       "\t4 & 8952223 & 12/31/12 22:00 & STREET                        & FALSE & FALSE &  724 &  7 & 67 & 2012 & 41.76933 & -87.65773 & December & Monday\\\\\n",
       "\t5 & 8951608 & 12/31/12 21:30 & STREET                        & FALSE & FALSE &  211 &  2 & 35 & 2012 & 41.83757 & -87.62176 & December & Monday\\\\\n",
       "\t6 & 8950793 & 12/31/12 20:30 & STREET                        &  TRUE & FALSE & 2521 & 25 & 19 & 2012 & 41.92856 & -87.75400 & December & Monday\\\\\n",
       "\\end{tabular}\n"
      ],
      "text/markdown": [
       "\n",
       "A data.frame: 6 × 13\n",
       "\n",
       "| <!--/--> | ID &lt;int&gt; | Date &lt;fct&gt; | LocationDescription &lt;fct&gt; | Arrest &lt;lgl&gt; | Domestic &lt;lgl&gt; | Beat &lt;int&gt; | District &lt;int&gt; | CommunityArea &lt;int&gt; | Year &lt;int&gt; | Latitude &lt;dbl&gt; | Longitude &lt;dbl&gt; | Month &lt;chr&gt; | Weekday &lt;chr&gt; |\n",
       "|---|---|---|---|---|---|---|---|---|---|---|---|---|---|\n",
       "| 1 | 8951354 | 12/31/12 23:15 | STREET                        | FALSE | FALSE |  623 |  6 | 69 | 2012 | 41.75628 | -87.62164 | December | Monday |\n",
       "| 2 | 8951141 | 12/31/12 22:00 | STREET                        | FALSE | FALSE | 1213 | 12 | 24 | 2012 | 41.89879 | -87.66130 | December | Monday |\n",
       "| 3 | 8952745 | 12/31/12 22:00 | RESIDENTIAL YARD (FRONT/BACK) | FALSE | FALSE | 1622 | 16 | 11 | 2012 | 41.96919 | -87.76767 | December | Monday |\n",
       "| 4 | 8952223 | 12/31/12 22:00 | STREET                        | FALSE | FALSE |  724 |  7 | 67 | 2012 | 41.76933 | -87.65773 | December | Monday |\n",
       "| 5 | 8951608 | 12/31/12 21:30 | STREET                        | FALSE | FALSE |  211 |  2 | 35 | 2012 | 41.83757 | -87.62176 | December | Monday |\n",
       "| 6 | 8950793 | 12/31/12 20:30 | STREET                        |  TRUE | FALSE | 2521 | 25 | 19 | 2012 | 41.92856 | -87.75400 | December | Monday |\n",
       "\n"
      ],
      "text/plain": [
       "  ID      Date           LocationDescription           Arrest Domestic Beat\n",
       "1 8951354 12/31/12 23:15 STREET                        FALSE  FALSE     623\n",
       "2 8951141 12/31/12 22:00 STREET                        FALSE  FALSE    1213\n",
       "3 8952745 12/31/12 22:00 RESIDENTIAL YARD (FRONT/BACK) FALSE  FALSE    1622\n",
       "4 8952223 12/31/12 22:00 STREET                        FALSE  FALSE     724\n",
       "5 8951608 12/31/12 21:30 STREET                        FALSE  FALSE     211\n",
       "6 8950793 12/31/12 20:30 STREET                         TRUE  FALSE    2521\n",
       "  District CommunityArea Year Latitude Longitude Month    Weekday\n",
       "1  6       69            2012 41.75628 -87.62164 December Monday \n",
       "2 12       24            2012 41.89879 -87.66130 December Monday \n",
       "3 16       11            2012 41.96919 -87.76767 December Monday \n",
       "4  7       67            2012 41.76933 -87.65773 December Monday \n",
       "5  2       35            2012 41.83757 -87.62176 December Monday \n",
       "6 25       19            2012 41.92856 -87.75400 December Monday "
      ]
     },
     "metadata": {},
     "output_type": "display_data"
    }
   ],
   "source": [
    "MVT$Weekday = weekdays(DateConvert)\n",
    "head(MVT)"
   ]
  },
  {
   "cell_type": "code",
   "execution_count": 36,
   "metadata": {},
   "outputs": [
    {
     "data": {
      "text/plain": [
       "\n",
       "   Friday    Monday  Saturday    Sunday  Thursday   Tuesday Wednesday \n",
       "    29284     27397     27118     26316     27319     26791     27416 "
      ]
     },
     "metadata": {},
     "output_type": "display_data"
    }
   ],
   "source": [
    "table(MVT$Weekday)"
   ]
  },
  {
   "cell_type": "code",
   "execution_count": 38,
   "metadata": {},
   "outputs": [
    {
     "data": {
      "text/html": [
       "<table>\n",
       "<caption>A data.frame: 6 × 13</caption>\n",
       "<thead>\n",
       "\t<tr><th></th><th scope=col>ID</th><th scope=col>Date</th><th scope=col>LocationDescription</th><th scope=col>Arrest</th><th scope=col>Domestic</th><th scope=col>Beat</th><th scope=col>District</th><th scope=col>CommunityArea</th><th scope=col>Year</th><th scope=col>Latitude</th><th scope=col>Longitude</th><th scope=col>Month</th><th scope=col>Weekday</th></tr>\n",
       "\t<tr><th></th><th scope=col>&lt;int&gt;</th><th scope=col>&lt;date&gt;</th><th scope=col>&lt;fct&gt;</th><th scope=col>&lt;lgl&gt;</th><th scope=col>&lt;lgl&gt;</th><th scope=col>&lt;int&gt;</th><th scope=col>&lt;int&gt;</th><th scope=col>&lt;int&gt;</th><th scope=col>&lt;int&gt;</th><th scope=col>&lt;dbl&gt;</th><th scope=col>&lt;dbl&gt;</th><th scope=col>&lt;chr&gt;</th><th scope=col>&lt;chr&gt;</th></tr>\n",
       "</thead>\n",
       "<tbody>\n",
       "\t<tr><th scope=row>1</th><td>8951354</td><td>2012-12-31</td><td>STREET                       </td><td>FALSE</td><td>FALSE</td><td> 623</td><td> 6</td><td>69</td><td>2012</td><td>41.75628</td><td>-87.62164</td><td>December</td><td>Monday</td></tr>\n",
       "\t<tr><th scope=row>2</th><td>8951141</td><td>2012-12-31</td><td>STREET                       </td><td>FALSE</td><td>FALSE</td><td>1213</td><td>12</td><td>24</td><td>2012</td><td>41.89879</td><td>-87.66130</td><td>December</td><td>Monday</td></tr>\n",
       "\t<tr><th scope=row>3</th><td>8952745</td><td>2012-12-31</td><td>RESIDENTIAL YARD (FRONT/BACK)</td><td>FALSE</td><td>FALSE</td><td>1622</td><td>16</td><td>11</td><td>2012</td><td>41.96919</td><td>-87.76767</td><td>December</td><td>Monday</td></tr>\n",
       "\t<tr><th scope=row>4</th><td>8952223</td><td>2012-12-31</td><td>STREET                       </td><td>FALSE</td><td>FALSE</td><td> 724</td><td> 7</td><td>67</td><td>2012</td><td>41.76933</td><td>-87.65773</td><td>December</td><td>Monday</td></tr>\n",
       "\t<tr><th scope=row>5</th><td>8951608</td><td>2012-12-31</td><td>STREET                       </td><td>FALSE</td><td>FALSE</td><td> 211</td><td> 2</td><td>35</td><td>2012</td><td>41.83757</td><td>-87.62176</td><td>December</td><td>Monday</td></tr>\n",
       "\t<tr><th scope=row>6</th><td>8950793</td><td>2012-12-31</td><td>STREET                       </td><td> TRUE</td><td>FALSE</td><td>2521</td><td>25</td><td>19</td><td>2012</td><td>41.92856</td><td>-87.75400</td><td>December</td><td>Monday</td></tr>\n",
       "</tbody>\n",
       "</table>\n"
      ],
      "text/latex": [
       "A data.frame: 6 × 13\n",
       "\\begin{tabular}{r|lllllllllllll}\n",
       "  & ID & Date & LocationDescription & Arrest & Domestic & Beat & District & CommunityArea & Year & Latitude & Longitude & Month & Weekday\\\\\n",
       "  & <int> & <date> & <fct> & <lgl> & <lgl> & <int> & <int> & <int> & <int> & <dbl> & <dbl> & <chr> & <chr>\\\\\n",
       "\\hline\n",
       "\t1 & 8951354 & 2012-12-31 & STREET                        & FALSE & FALSE &  623 &  6 & 69 & 2012 & 41.75628 & -87.62164 & December & Monday\\\\\n",
       "\t2 & 8951141 & 2012-12-31 & STREET                        & FALSE & FALSE & 1213 & 12 & 24 & 2012 & 41.89879 & -87.66130 & December & Monday\\\\\n",
       "\t3 & 8952745 & 2012-12-31 & RESIDENTIAL YARD (FRONT/BACK) & FALSE & FALSE & 1622 & 16 & 11 & 2012 & 41.96919 & -87.76767 & December & Monday\\\\\n",
       "\t4 & 8952223 & 2012-12-31 & STREET                        & FALSE & FALSE &  724 &  7 & 67 & 2012 & 41.76933 & -87.65773 & December & Monday\\\\\n",
       "\t5 & 8951608 & 2012-12-31 & STREET                        & FALSE & FALSE &  211 &  2 & 35 & 2012 & 41.83757 & -87.62176 & December & Monday\\\\\n",
       "\t6 & 8950793 & 2012-12-31 & STREET                        &  TRUE & FALSE & 2521 & 25 & 19 & 2012 & 41.92856 & -87.75400 & December & Monday\\\\\n",
       "\\end{tabular}\n"
      ],
      "text/markdown": [
       "\n",
       "A data.frame: 6 × 13\n",
       "\n",
       "| <!--/--> | ID &lt;int&gt; | Date &lt;date&gt; | LocationDescription &lt;fct&gt; | Arrest &lt;lgl&gt; | Domestic &lt;lgl&gt; | Beat &lt;int&gt; | District &lt;int&gt; | CommunityArea &lt;int&gt; | Year &lt;int&gt; | Latitude &lt;dbl&gt; | Longitude &lt;dbl&gt; | Month &lt;chr&gt; | Weekday &lt;chr&gt; |\n",
       "|---|---|---|---|---|---|---|---|---|---|---|---|---|---|\n",
       "| 1 | 8951354 | 2012-12-31 | STREET                        | FALSE | FALSE |  623 |  6 | 69 | 2012 | 41.75628 | -87.62164 | December | Monday |\n",
       "| 2 | 8951141 | 2012-12-31 | STREET                        | FALSE | FALSE | 1213 | 12 | 24 | 2012 | 41.89879 | -87.66130 | December | Monday |\n",
       "| 3 | 8952745 | 2012-12-31 | RESIDENTIAL YARD (FRONT/BACK) | FALSE | FALSE | 1622 | 16 | 11 | 2012 | 41.96919 | -87.76767 | December | Monday |\n",
       "| 4 | 8952223 | 2012-12-31 | STREET                        | FALSE | FALSE |  724 |  7 | 67 | 2012 | 41.76933 | -87.65773 | December | Monday |\n",
       "| 5 | 8951608 | 2012-12-31 | STREET                        | FALSE | FALSE |  211 |  2 | 35 | 2012 | 41.83757 | -87.62176 | December | Monday |\n",
       "| 6 | 8950793 | 2012-12-31 | STREET                        |  TRUE | FALSE | 2521 | 25 | 19 | 2012 | 41.92856 | -87.75400 | December | Monday |\n",
       "\n"
      ],
      "text/plain": [
       "  ID      Date       LocationDescription           Arrest Domestic Beat\n",
       "1 8951354 2012-12-31 STREET                        FALSE  FALSE     623\n",
       "2 8951141 2012-12-31 STREET                        FALSE  FALSE    1213\n",
       "3 8952745 2012-12-31 RESIDENTIAL YARD (FRONT/BACK) FALSE  FALSE    1622\n",
       "4 8952223 2012-12-31 STREET                        FALSE  FALSE     724\n",
       "5 8951608 2012-12-31 STREET                        FALSE  FALSE     211\n",
       "6 8950793 2012-12-31 STREET                         TRUE  FALSE    2521\n",
       "  District CommunityArea Year Latitude Longitude Month    Weekday\n",
       "1  6       69            2012 41.75628 -87.62164 December Monday \n",
       "2 12       24            2012 41.89879 -87.66130 December Monday \n",
       "3 16       11            2012 41.96919 -87.76767 December Monday \n",
       "4  7       67            2012 41.76933 -87.65773 December Monday \n",
       "5  2       35            2012 41.83757 -87.62176 December Monday \n",
       "6 25       19            2012 41.92856 -87.75400 December Monday "
      ]
     },
     "metadata": {},
     "output_type": "display_data"
    }
   ],
   "source": [
    "MVT$Date = DateConvert\n",
    "head(MVT)"
   ]
  },
  {
   "cell_type": "markdown",
   "metadata": {},
   "source": [
    "Which month has the largest number of motor vehicle thefts for which an arrest was made?"
   ]
  },
  {
   "cell_type": "code",
   "execution_count": 39,
   "metadata": {},
   "outputs": [
    {
     "data": {
      "text/plain": [
       "       \n",
       "        April August December February January  July  June March   May November\n",
       "  FALSE 14028  15243    15029    12273   14612 15477 14772 14460 14848    14807\n",
       "  TRUE   1252   1329     1397     1238    1435  1324  1230  1298  1187     1256\n",
       "       \n",
       "        October September\n",
       "  FALSE   15744     14812\n",
       "  TRUE     1342      1248"
      ]
     },
     "metadata": {},
     "output_type": "display_data"
    }
   ],
   "source": [
    "table(MVT$Arrest,MVT$Month)"
   ]
  },
  {
   "cell_type": "markdown",
   "metadata": {},
   "source": [
    "**Visualizing Crime Trends**"
   ]
  },
  {
   "cell_type": "markdown",
   "metadata": {},
   "source": [
    "In general, does it look like crime increases or decreases from 2002 - 2012?\n",
    "\n",
    "In general, does it look like crime increases or decreases from 2005 - 2008?\n",
    "\n",
    "In general, does it look like crime increases or decreases from 2009 - 2011?"
   ]
  },
  {
   "cell_type": "code",
   "execution_count": 42,
   "metadata": {},
   "outputs": [
    {
     "data": {
      "image/png": "[encoded data removed]",
      "text/plain": [
       "Plot with title \"Motor Vehicle Theft\""
      ]
     },
     "metadata": {
      "image/png": {
       "height": 420,
       "width": 420
      },
      "text/plain": {
       "height": 420,
       "width": 420
      }
     },
     "output_type": "display_data"
    }
   ],
   "source": [
    "hist(MVT$Date, xlab = \"Ano\", main = \"Motor Vehicle Theft\", breaks=100)"
   ]
  },
  {
   "cell_type": "code",
   "execution_count": null,
   "metadata": {},
   "outputs": [],
   "source": []
  },
  {
   "cell_type": "code",
   "execution_count": null,
   "metadata": {},
   "outputs": [],
   "source": []
  },
  {
   "cell_type": "code",
   "execution_count": null,
   "metadata": {},
   "outputs": [],
   "source": []
  },
  {
   "cell_type": "code",
   "execution_count": null,
   "metadata": {},
   "outputs": [],
   "source": []
  },
  {
   "cell_type": "code",
   "execution_count": null,
   "metadata": {},
   "outputs": [],
   "source": []
  },
  {
   "cell_type": "code",
   "execution_count": null,
   "metadata": {},
   "outputs": [],
   "source": []
  },
  {
   "cell_type": "code",
   "execution_count": null,
   "metadata": {},
   "outputs": [],
   "source": []
  }
 ],
 "metadata": {
  "kernelspec": {
   "display_name": "R",
   "language": "R",
   "name": "ir"
  },
  "language_info": {
   "codemirror_mode": "r",
   "file_extension": ".r",
   "mimetype": "text/x-r-source",
   "name": "R",
   "pygments_lexer": "r",
   "version": "3.6.3"
  }
 },
 "nbformat": 4,
 "nbformat_minor": 4
}
