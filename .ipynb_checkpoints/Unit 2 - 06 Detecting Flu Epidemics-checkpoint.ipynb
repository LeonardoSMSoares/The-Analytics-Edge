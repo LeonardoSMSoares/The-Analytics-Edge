{
 "cells": [
  {
   "cell_type": "markdown",
   "metadata": {},
   "source": [
    "# Detecting Flu Epidemics via Search Engine Query Data"
   ]
  },
  {
   "cell_type": "markdown",
   "metadata": {},
   "source": [
    "Flu epidemics constitute a major public health concern causing respiratory illnesses, hospitalizations, and deaths. According to the National Vital Statistics Reports published in October 2012, influenza ranked as the eighth leading cause of death in 2011 in the United States. Each year, 250,000 to 500,000 deaths are attributed to influenza related diseases throughout the world.\n",
    "\n",
    "The U.S. Centers for Disease Control and Prevention (CDC) and the European Influenza Surveillance Scheme (EISS) detect influenza activity through virologic and clinical data, including Influenza-like Illness (ILI) physician visits. Reporting national and regional data, however, are published with a 1-2 week lag.\n",
    "\n",
    "The *Google Flu Trends* project was initiated to see if faster reporting can be made possible by considering flu-related online search queries -- data that is available almost immediately."
   ]
  },
  {
   "cell_type": "markdown",
   "metadata": {},
   "source": [
    "<img src=\"images/flu.png\"/>"
   ]
  },
  {
   "cell_type": "markdown",
   "metadata": {},
   "source": [
    "### Problem 1.1 - Understanding the Data\n",
    "\n",
    "We would like to estimate influenza-like illness (ILI) activity using Google web search logs. Fortunately, one can easily access this data online:\n",
    "\n",
    "ILI Data - The CDC publishes on its website the official regional and state-level percentage of patient visits to healthcare providers for ILI purposes on a weekly basis.\n",
    "\n",
    "Google Search Queries - Google Trends allows public retrieval of weekly counts for every query searched by users around the world. For each location, the counts are normalized by dividing the count for each query in a particular week by the total number of online search queries submitted in that location during the week. Then, the values are adjusted to be between 0 and 1.\n",
    "\n",
    "The csv file FluTrain.csv aggregates this data from January 1, 2004 until December 31, 2011 as follows:\n",
    "\n",
    "\"Week\" - The range of dates represented by this observation, in year/month/day format.\n",
    "\n",
    "\"ILI\" - This column lists the percentage of ILI-related physician visits for the corresponding week.\n",
    "\n",
    "\"Queries\" - This column lists the fraction of queries that are ILI-related for the corresponding week, adjusted to be between 0 and 1 (higher values correspond to more ILI-related search queries).\n",
    "\n",
    "Before applying analytics tools on the training set, we first need to understand the data at hand. Load \"FluTrain.csv\" into a data frame called FluTrain."
   ]
  },
  {
   "cell_type": "code",
   "execution_count": 1,
   "metadata": {},
   "outputs": [
    {
     "data": {
      "text/html": [
       "<table>\n",
       "<caption>A data.frame: 6 × 3</caption>\n",
       "<thead>\n",
       "\t<tr><th></th><th scope=col>Week</th><th scope=col>ILI</th><th scope=col>Queries</th></tr>\n",
       "\t<tr><th></th><th scope=col>&lt;fct&gt;</th><th scope=col>&lt;dbl&gt;</th><th scope=col>&lt;dbl&gt;</th></tr>\n",
       "</thead>\n",
       "<tbody>\n",
       "\t<tr><th scope=row>1</th><td>2004-01-04 - 2004-01-10</td><td>2.418331</td><td>0.2377158</td></tr>\n",
       "\t<tr><th scope=row>2</th><td>2004-01-11 - 2004-01-17</td><td>1.809056</td><td>0.2204515</td></tr>\n",
       "\t<tr><th scope=row>3</th><td>2004-01-18 - 2004-01-24</td><td>1.712024</td><td>0.2257636</td></tr>\n",
       "\t<tr><th scope=row>4</th><td>2004-01-25 - 2004-01-31</td><td>1.542495</td><td>0.2377158</td></tr>\n",
       "\t<tr><th scope=row>5</th><td>2004-02-01 - 2004-02-07</td><td>1.437868</td><td>0.2244356</td></tr>\n",
       "\t<tr><th scope=row>6</th><td>2004-02-08 - 2004-02-14</td><td>1.324274</td><td>0.2071713</td></tr>\n",
       "</tbody>\n",
       "</table>\n"
      ],
      "text/latex": [
       "A data.frame: 6 × 3\n",
       "\\begin{tabular}{r|lll}\n",
       "  & Week & ILI & Queries\\\\\n",
       "  & <fct> & <dbl> & <dbl>\\\\\n",
       "\\hline\n",
       "\t1 & 2004-01-04 - 2004-01-10 & 2.418331 & 0.2377158\\\\\n",
       "\t2 & 2004-01-11 - 2004-01-17 & 1.809056 & 0.2204515\\\\\n",
       "\t3 & 2004-01-18 - 2004-01-24 & 1.712024 & 0.2257636\\\\\n",
       "\t4 & 2004-01-25 - 2004-01-31 & 1.542495 & 0.2377158\\\\\n",
       "\t5 & 2004-02-01 - 2004-02-07 & 1.437868 & 0.2244356\\\\\n",
       "\t6 & 2004-02-08 - 2004-02-14 & 1.324274 & 0.2071713\\\\\n",
       "\\end{tabular}\n"
      ],
      "text/markdown": [
       "\n",
       "A data.frame: 6 × 3\n",
       "\n",
       "| <!--/--> | Week &lt;fct&gt; | ILI &lt;dbl&gt; | Queries &lt;dbl&gt; |\n",
       "|---|---|---|---|\n",
       "| 1 | 2004-01-04 - 2004-01-10 | 2.418331 | 0.2377158 |\n",
       "| 2 | 2004-01-11 - 2004-01-17 | 1.809056 | 0.2204515 |\n",
       "| 3 | 2004-01-18 - 2004-01-24 | 1.712024 | 0.2257636 |\n",
       "| 4 | 2004-01-25 - 2004-01-31 | 1.542495 | 0.2377158 |\n",
       "| 5 | 2004-02-01 - 2004-02-07 | 1.437868 | 0.2244356 |\n",
       "| 6 | 2004-02-08 - 2004-02-14 | 1.324274 | 0.2071713 |\n",
       "\n"
      ],
      "text/plain": [
       "  Week                    ILI      Queries  \n",
       "1 2004-01-04 - 2004-01-10 2.418331 0.2377158\n",
       "2 2004-01-11 - 2004-01-17 1.809056 0.2204515\n",
       "3 2004-01-18 - 2004-01-24 1.712024 0.2257636\n",
       "4 2004-01-25 - 2004-01-31 1.542495 0.2377158\n",
       "5 2004-02-01 - 2004-02-07 1.437868 0.2244356\n",
       "6 2004-02-08 - 2004-02-14 1.324274 0.2071713"
      ]
     },
     "metadata": {},
     "output_type": "display_data"
    }
   ],
   "source": [
    "FluTrain <- read.csv('data/FluTrain.csv')\n",
    "head(FluTrain)"
   ]
  },
  {
   "cell_type": "code",
   "execution_count": 2,
   "metadata": {},
   "outputs": [
    {
     "name": "stdout",
     "output_type": "stream",
     "text": [
      "'data.frame':\t417 obs. of  3 variables:\n",
      " $ Week   : Factor w/ 417 levels \"2004-01-04 - 2004-01-10\",..: 1 2 3 4 5 6 7 8 9 10 ...\n",
      " $ ILI    : num  2.42 1.81 1.71 1.54 1.44 ...\n",
      " $ Queries: num  0.238 0.22 0.226 0.238 0.224 ...\n"
     ]
    }
   ],
   "source": [
    "str(FluTrain)"
   ]
  },
  {
   "cell_type": "code",
   "execution_count": 3,
   "metadata": {},
   "outputs": [
    {
     "data": {
      "text/plain": [
       "                      Week          ILI            Queries       \n",
       " 2004-01-04 - 2004-01-10:  1   Min.   :0.5341   Min.   :0.04117  \n",
       " 2004-01-11 - 2004-01-17:  1   1st Qu.:0.9025   1st Qu.:0.15671  \n",
       " 2004-01-18 - 2004-01-24:  1   Median :1.2526   Median :0.28154  \n",
       " 2004-01-25 - 2004-01-31:  1   Mean   :1.6769   Mean   :0.28603  \n",
       " 2004-02-01 - 2004-02-07:  1   3rd Qu.:2.0587   3rd Qu.:0.37849  \n",
       " 2004-02-08 - 2004-02-14:  1   Max.   :7.6189   Max.   :1.00000  \n",
       " (Other)                :411                                     "
      ]
     },
     "metadata": {},
     "output_type": "display_data"
    }
   ],
   "source": [
    "summary(FluTrain)"
   ]
  },
  {
   "cell_type": "code",
   "execution_count": 10,
   "metadata": {},
   "outputs": [
    {
     "data": {
      "image/png": "[encoded data removed]",
      "text/plain": [
       "Plot with title \"Week x Influenza-Like Illness\""
      ]
     },
     "metadata": {
      "image/png": {
       "height": 360,
       "width": 720
      },
      "text/plain": {
       "height": 360,
       "width": 720
      }
     },
     "output_type": "display_data"
    }
   ],
   "source": [
    "options(repr.plot.width=12, repr.plot.height=6)\n",
    "plot(FluTrain$Week, FluTrain$ILI, main = \"Week x Influenza-Like Illness\",xlab='Week',ylab='ILI')"
   ]
  },
  {
   "cell_type": "markdown",
   "metadata": {},
   "source": [
    "Looking at the time period 2004-2011, **which week corresponds to the highest percentage of ILI-related physician visits?** Select the day of the month corresponding to the start of this week."
   ]
  },
  {
   "cell_type": "code",
   "execution_count": 11,
   "metadata": {},
   "outputs": [
    {
     "data": {
      "text/html": [
       "<table>\n",
       "<caption>A data.frame: 1 × 3</caption>\n",
       "<thead>\n",
       "\t<tr><th></th><th scope=col>Week</th><th scope=col>ILI</th><th scope=col>Queries</th></tr>\n",
       "\t<tr><th></th><th scope=col>&lt;fct&gt;</th><th scope=col>&lt;dbl&gt;</th><th scope=col>&lt;dbl&gt;</th></tr>\n",
       "</thead>\n",
       "<tbody>\n",
       "\t<tr><th scope=row>303</th><td>2009-10-18 - 2009-10-24</td><td>7.618892</td><td>1</td></tr>\n",
       "</tbody>\n",
       "</table>\n"
      ],
      "text/latex": [
       "A data.frame: 1 × 3\n",
       "\\begin{tabular}{r|lll}\n",
       "  & Week & ILI & Queries\\\\\n",
       "  & <fct> & <dbl> & <dbl>\\\\\n",
       "\\hline\n",
       "\t303 & 2009-10-18 - 2009-10-24 & 7.618892 & 1\\\\\n",
       "\\end{tabular}\n"
      ],
      "text/markdown": [
       "\n",
       "A data.frame: 1 × 3\n",
       "\n",
       "| <!--/--> | Week &lt;fct&gt; | ILI &lt;dbl&gt; | Queries &lt;dbl&gt; |\n",
       "|---|---|---|---|\n",
       "| 303 | 2009-10-18 - 2009-10-24 | 7.618892 | 1 |\n",
       "\n"
      ],
      "text/plain": [
       "    Week                    ILI      Queries\n",
       "303 2009-10-18 - 2009-10-24 7.618892 1      "
      ]
     },
     "metadata": {},
     "output_type": "display_data"
    }
   ],
   "source": [
    "FluTrain[which(FluTrain$ILI==max(FluTrain$ILI)),]"
   ]
  },
  {
   "cell_type": "markdown",
   "metadata": {},
   "source": [
    "**Which week corresponds to the highest percentage of ILI-related query fraction?**"
   ]
  },
  {
   "cell_type": "code",
   "execution_count": 12,
   "metadata": {},
   "outputs": [
    {
     "data": {
      "text/html": [
       "<table>\n",
       "<caption>A data.frame: 1 × 3</caption>\n",
       "<thead>\n",
       "\t<tr><th></th><th scope=col>Week</th><th scope=col>ILI</th><th scope=col>Queries</th></tr>\n",
       "\t<tr><th></th><th scope=col>&lt;fct&gt;</th><th scope=col>&lt;dbl&gt;</th><th scope=col>&lt;dbl&gt;</th></tr>\n",
       "</thead>\n",
       "<tbody>\n",
       "\t<tr><th scope=row>303</th><td>2009-10-18 - 2009-10-24</td><td>7.618892</td><td>1</td></tr>\n",
       "</tbody>\n",
       "</table>\n"
      ],
      "text/latex": [
       "A data.frame: 1 × 3\n",
       "\\begin{tabular}{r|lll}\n",
       "  & Week & ILI & Queries\\\\\n",
       "  & <fct> & <dbl> & <dbl>\\\\\n",
       "\\hline\n",
       "\t303 & 2009-10-18 - 2009-10-24 & 7.618892 & 1\\\\\n",
       "\\end{tabular}\n"
      ],
      "text/markdown": [
       "\n",
       "A data.frame: 1 × 3\n",
       "\n",
       "| <!--/--> | Week &lt;fct&gt; | ILI &lt;dbl&gt; | Queries &lt;dbl&gt; |\n",
       "|---|---|---|---|\n",
       "| 303 | 2009-10-18 - 2009-10-24 | 7.618892 | 1 |\n",
       "\n"
      ],
      "text/plain": [
       "    Week                    ILI      Queries\n",
       "303 2009-10-18 - 2009-10-24 7.618892 1      "
      ]
     },
     "metadata": {},
     "output_type": "display_data"
    }
   ],
   "source": [
    "FluTrain[which(FluTrain$Queries==max(FluTrain$Queries)),]"
   ]
  },
  {
   "cell_type": "markdown",
   "metadata": {},
   "source": [
    "### Problem 1.2 - Understanding the Data\n",
    "\n",
    "Let us now understand the data at an aggregate level. Plot the histogram of the dependent variable, ILI. "
   ]
  },
  {
   "cell_type": "code",
   "execution_count": null,
   "metadata": {},
   "outputs": [],
   "source": [
    "hist(FluTrain$ILI, main = \"Week x Influenza-Like Illness\",xlab='Week',ylab='ILI')"
   ]
  },
  {
   "cell_type": "markdown",
   "metadata": {},
   "source": [
    "**What best describes the distribution of values of ILI?**"
   ]
  },
  {
   "cell_type": "code",
   "execution_count": null,
   "metadata": {},
   "outputs": [],
   "source": []
  },
  {
   "cell_type": "code",
   "execution_count": null,
   "metadata": {},
   "outputs": [],
   "source": []
  },
  {
   "cell_type": "code",
   "execution_count": null,
   "metadata": {},
   "outputs": [],
   "source": []
  },
  {
   "cell_type": "code",
   "execution_count": null,
   "metadata": {},
   "outputs": [],
   "source": []
  },
  {
   "cell_type": "code",
   "execution_count": null,
   "metadata": {},
   "outputs": [],
   "source": []
  },
  {
   "cell_type": "code",
   "execution_count": null,
   "metadata": {},
   "outputs": [],
   "source": []
  },
  {
   "cell_type": "code",
   "execution_count": null,
   "metadata": {},
   "outputs": [],
   "source": []
  },
  {
   "cell_type": "code",
   "execution_count": null,
   "metadata": {},
   "outputs": [],
   "source": []
  },
  {
   "cell_type": "code",
   "execution_count": null,
   "metadata": {},
   "outputs": [],
   "source": []
  },
  {
   "cell_type": "code",
   "execution_count": null,
   "metadata": {},
   "outputs": [],
   "source": []
  },
  {
   "cell_type": "code",
   "execution_count": null,
   "metadata": {},
   "outputs": [],
   "source": []
  },
  {
   "cell_type": "code",
   "execution_count": null,
   "metadata": {},
   "outputs": [],
   "source": []
  },
  {
   "cell_type": "code",
   "execution_count": null,
   "metadata": {},
   "outputs": [],
   "source": []
  },
  {
   "cell_type": "code",
   "execution_count": null,
   "metadata": {},
   "outputs": [],
   "source": []
  },
  {
   "cell_type": "code",
   "execution_count": null,
   "metadata": {},
   "outputs": [],
   "source": []
  },
  {
   "cell_type": "code",
   "execution_count": null,
   "metadata": {},
   "outputs": [],
   "source": []
  },
  {
   "cell_type": "code",
   "execution_count": null,
   "metadata": {},
   "outputs": [],
   "source": []
  },
  {
   "cell_type": "code",
   "execution_count": null,
   "metadata": {},
   "outputs": [],
   "source": []
  },
  {
   "cell_type": "code",
   "execution_count": null,
   "metadata": {},
   "outputs": [],
   "source": []
  },
  {
   "cell_type": "code",
   "execution_count": null,
   "metadata": {},
   "outputs": [],
   "source": []
  },
  {
   "cell_type": "code",
   "execution_count": null,
   "metadata": {},
   "outputs": [],
   "source": []
  },
  {
   "cell_type": "code",
   "execution_count": null,
   "metadata": {},
   "outputs": [],
   "source": []
  },
  {
   "cell_type": "code",
   "execution_count": null,
   "metadata": {},
   "outputs": [],
   "source": []
  },
  {
   "cell_type": "code",
   "execution_count": null,
   "metadata": {},
   "outputs": [],
   "source": []
  },
  {
   "cell_type": "code",
   "execution_count": null,
   "metadata": {},
   "outputs": [],
   "source": []
  },
  {
   "cell_type": "code",
   "execution_count": null,
   "metadata": {},
   "outputs": [],
   "source": []
  },
  {
   "cell_type": "code",
   "execution_count": null,
   "metadata": {},
   "outputs": [],
   "source": []
  },
  {
   "cell_type": "code",
   "execution_count": null,
   "metadata": {},
   "outputs": [],
   "source": []
  },
  {
   "cell_type": "code",
   "execution_count": null,
   "metadata": {},
   "outputs": [],
   "source": []
  },
  {
   "cell_type": "code",
   "execution_count": null,
   "metadata": {},
   "outputs": [],
   "source": []
  },
  {
   "cell_type": "code",
   "execution_count": null,
   "metadata": {},
   "outputs": [],
   "source": []
  },
  {
   "cell_type": "code",
   "execution_count": null,
   "metadata": {},
   "outputs": [],
   "source": []
  },
  {
   "cell_type": "code",
   "execution_count": null,
   "metadata": {},
   "outputs": [],
   "source": []
  },
  {
   "cell_type": "code",
   "execution_count": null,
   "metadata": {},
   "outputs": [],
   "source": []
  }
 ],
 "metadata": {
  "kernelspec": {
   "display_name": "R",
   "language": "R",
   "name": "ir"
  },
  "language_info": {
   "codemirror_mode": "r",
   "file_extension": ".r",
   "mimetype": "text/x-r-source",
   "name": "R",
   "pygments_lexer": "r",
   "version": "3.6.3"
  }
 },
 "nbformat": 4,
 "nbformat_minor": 4
}
