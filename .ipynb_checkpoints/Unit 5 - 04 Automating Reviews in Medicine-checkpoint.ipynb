{
 "cells": [
  {
   "cell_type": "markdown",
   "metadata": {},
   "source": [
    "# Automating Reviews in Medicine"
   ]
  },
  {
   "cell_type": "markdown",
   "metadata": {},
   "source": [
    "<img src=\"images/medical.jpg\"/>"
   ]
  },
  {
   "cell_type": "markdown",
   "metadata": {},
   "source": [
    "The medical literature is enormous. Pubmed, a database of medical publications maintained by the U.S. National Library of Medicine, has indexed over 23 million medical publications. Further, the rate of medical publication has increased over time, and now there are nearly 1 million new publications in the field each year, or more than one per minute.\n",
    "\n",
    "The large size and fast-changing nature of the medical literature has increased the need for reviews, which search databases like Pubmed for papers on a particular topic and then report results from the papers found. While such reviews are often performed manually, with multiple people reviewing each search result, this is tedious and time consuming. In this problem, we will see how text analytics can be used to automate the process of information retrieval.\n",
    "\n",
    "The dataset consists of the titles (variable title) and abstracts (variable abstract) of papers retrieved in a Pubmed search. Each search result is labeled with whether the paper is a clinical trial testing a drug therapy for cancer (variable trial). These labels were obtained by two people reviewing each search result and accessing the actual paper if necessary, as part of a literature review of clinical trials testing drug therapies for advanced and metastatic breast cancer."
   ]
  },
  {
   "cell_type": "markdown",
   "metadata": {},
   "source": [
    "<img src=\"images/papers.png\"/>"
   ]
  },
  {
   "cell_type": "markdown",
   "metadata": {},
   "source": [
    "## Problem 1.1 - Loading the Data\n",
    "Load clinical_trial.csv into a data frame called trials (remembering to add the argument stringsAsFactors=FALSE), and investigate the data frame with summary() and str().\n",
    "\n",
    "IMPORTANT NOTE: Some students have been getting errors like \"invalid multibyte string\" when performing certain parts of this homework question. If this is happening to you, use the argument fileEncoding=\"latin1\" when reading in the file with read.csv. This should cause those errors to go away.\n",
    "\n",
    "We can use R's string functions to learn more about the titles and abstracts of the located papers. The nchar() function counts the number of characters in a piece of text. Using the nchar() function on the variables in the data frame, answer the following questions:\n",
    "\n",
    "**How many characters are there in the longest abstract?** (Longest here is defined as the abstract with the largest number of characters.)"
   ]
  },
  {
   "cell_type": "code",
   "execution_count": 1,
   "metadata": {},
   "outputs": [
    {
     "data": {
      "text/html": [
       "<table>\n",
       "<caption>A data.frame: 3 × 3</caption>\n",
       "<thead>\n",
       "\t<tr><th></th><th scope=col>title</th><th scope=col>abstract</th><th scope=col>trial</th></tr>\n",
       "\t<tr><th></th><th scope=col>&lt;chr&gt;</th><th scope=col>&lt;chr&gt;</th><th scope=col>&lt;int&gt;</th></tr>\n",
       "</thead>\n",
       "<tbody>\n",
       "\t<tr><th scope=row>1</th><td>Treatment of Hodgkin's disease and other cancers with 1,3-bis(2-chloroethyl)-1-nitrosourea (BCNU; NSC-409962).                                                </td><td>                                                                                                                                                                                                                                                                                                                                                                                                                                                                                                                                                                                                                                                                                                                                                                                                                                                                                                                                                                                                                                                                                                                                                                                                                                                                                                                                                                                                                                                                                                                                                                                                                                                                                                                                                                                                                                                                                                                                                                                                                                                                                                                                                                                                                                       </td><td>1</td></tr>\n",
       "\t<tr><th scope=row>2</th><td>Cell mediated immune status in malignancy--pretherapy and post-therapy assessment.                                                                            </td><td>Twenty-eight cases of malignancies of different kinds were studied to assess T-cell activity and population before and after institution of therapy. Fifteen cases were diagnosed as non-metastasising squamous cell carcinoma of larynx, pharynx, laryngopharynx, hypopharynx and tonsils. Seven cases were non-metastasising infiltrating duct carcinoma of breast and 6 cases were non-Hodgkin's lymphoma (NHL). It was observed that 3 out of 15 cases (20%) of squamous cell carcinoma cases were Mantoux test (MT) negative with a T-cell population of less than 40%, 2 out of 7 cases (28.6%) of infiltrating duct carcinoma of breast were MT negative with a T-cell population of less than 40% and 3 out of 6 cases (50%) of NHL were MT negative with a T-cell population of less than 40%. The normal controls, consisting of apparently normal healthy adults, had a T-cell population of more than 40% and were all MT positive. The patients who showed a negative skin test and a T-cell population less than 40% were further subjected to assessment of T-cell population and activity after appropriate therapy, and clinical cure of the disease. It was observed that 2 out of 3 cases (66.66%) of squamous cell carcinomas, 2 out of 2 cases (100%) of adenocarcinomas and one out of 3 cases (33.33%) of NHL showed positive conversion with a T-cell population of more than 40%.                                                                                                                                                                                                                                                                                                                                                                                                                                                                                                                                                                                                                                                                                                                                                                                                                             </td><td>0</td></tr>\n",
       "\t<tr><th scope=row>3</th><td>Neoadjuvant vinorelbine-capecitabine versus docetaxel-doxorubicin-cyclophosphamide in early nonresponsive breast cancer: phase III randomized GeparTrio trial.</td><td>BACKGROUND: Among breast cancer patients, nonresponse to initial neoadjuvant chemotherapy is associated with unfavorable outcome. We compared the response of nonresponding patients who continued the same treatment with that of patients who switched to a well-tolerated non-cross-resistant regimen. METHODS: Previously untreated breast cancer patients received two 3-week cycles of docetaxel at 75 mg/m(2), doxorubicin at 50 mg/m(2), and cyclophosphamide at 500 mg/m(2) per day (TAC). Patients whose tumors did not decrease in size by at least 50% were randomly assigned to four additional cycles of TAC or to four cycles of vinorelbine at 25 mg/m(2) and capecitabine at 2000 mg/m(2) (NX). The outcome was sonographic response, defined as a reduction in the product of the two largest perpendicular diameters by at least 50%. A difference of 10% or less in the sonographic response qualified as noninferiority of the NX treatment. Pathological complete response was defined as no invasive or in situ residual tumor masses in the breast and lymph nodes. Toxic effects were assessed. All statistical tests were two-sided. RESULTS: Of 2090 patients enrolled in the GeparTrio study, 622 (29.8%) who did not respond to two initial cycles of TAC were randomly assigned to an additional four cycles of TAC (n = 321) or to four cycles of NX (n = 301). Sonographic response rate was 50.5% for the TAC arm and 51.2% for the NX arm. The difference of 0.7% (95% confidence interval = -7.1% to 8.5%) demonstrated noninferiority of NX (P = .008). Similar numbers of patients in both arms received breast-conserving surgery (184 [57.3%] in the TAC arm vs 180 [59.8%] in the NX arm) and had a pathological complete response (5.3% vs 6.0%). Fewer patients in the NX arm than in the TAC arm had hematologic toxic effects, mucositis, infections, and nail changes, but more had hand-foot syndrome and sensory neuropathy. CONCLUSION: Pathological complete responses to both regimens were marginal. Among patients who did not respond to the initial neoadjuvant TAC treatment, similar efficacy but better tolerability was observed by switching to NX than continuing with TAC.</td><td>1</td></tr>\n",
       "</tbody>\n",
       "</table>\n"
      ],
      "text/latex": [
       "A data.frame: 3 × 3\n",
       "\\begin{tabular}{r|lll}\n",
       "  & title & abstract & trial\\\\\n",
       "  & <chr> & <chr> & <int>\\\\\n",
       "\\hline\n",
       "\t1 & Treatment of Hodgkin's disease and other cancers with 1,3-bis(2-chloroethyl)-1-nitrosourea (BCNU; NSC-409962).                                                 &                                                                                                                                                                                                                                                                                                                                                                                                                                                                                                                                                                                                                                                                                                                                                                                                                                                                                                                                                                                                                                                                                                                                                                                                                                                                                                                                                                                                                                                                                                                                                                                                                                                                                                                                                                                                                                                                                                                                                                                                                                                                                                                                                                                                                                         & 1\\\\\n",
       "\t2 & Cell mediated immune status in malignancy--pretherapy and post-therapy assessment.                                                                             & Twenty-eight cases of malignancies of different kinds were studied to assess T-cell activity and population before and after institution of therapy. Fifteen cases were diagnosed as non-metastasising squamous cell carcinoma of larynx, pharynx, laryngopharynx, hypopharynx and tonsils. Seven cases were non-metastasising infiltrating duct carcinoma of breast and 6 cases were non-Hodgkin's lymphoma (NHL). It was observed that 3 out of 15 cases (20\\%) of squamous cell carcinoma cases were Mantoux test (MT) negative with a T-cell population of less than 40\\%, 2 out of 7 cases (28.6\\%) of infiltrating duct carcinoma of breast were MT negative with a T-cell population of less than 40\\% and 3 out of 6 cases (50\\%) of NHL were MT negative with a T-cell population of less than 40\\%. The normal controls, consisting of apparently normal healthy adults, had a T-cell population of more than 40\\% and were all MT positive. The patients who showed a negative skin test and a T-cell population less than 40\\% were further subjected to assessment of T-cell population and activity after appropriate therapy, and clinical cure of the disease. It was observed that 2 out of 3 cases (66.66\\%) of squamous cell carcinomas, 2 out of 2 cases (100\\%) of adenocarcinomas and one out of 3 cases (33.33\\%) of NHL showed positive conversion with a T-cell population of more than 40\\%.                                                                                                                                                                                                                                                                                                                                                                                                                                                                                                                                                                                                                                                                                                                                                                                                                              & 0\\\\\n",
       "\t3 & Neoadjuvant vinorelbine-capecitabine versus docetaxel-doxorubicin-cyclophosphamide in early nonresponsive breast cancer: phase III randomized GeparTrio trial. & BACKGROUND: Among breast cancer patients, nonresponse to initial neoadjuvant chemotherapy is associated with unfavorable outcome. We compared the response of nonresponding patients who continued the same treatment with that of patients who switched to a well-tolerated non-cross-resistant regimen. METHODS: Previously untreated breast cancer patients received two 3-week cycles of docetaxel at 75 mg/m(2), doxorubicin at 50 mg/m(2), and cyclophosphamide at 500 mg/m(2) per day (TAC). Patients whose tumors did not decrease in size by at least 50\\% were randomly assigned to four additional cycles of TAC or to four cycles of vinorelbine at 25 mg/m(2) and capecitabine at 2000 mg/m(2) (NX). The outcome was sonographic response, defined as a reduction in the product of the two largest perpendicular diameters by at least 50\\%. A difference of 10\\% or less in the sonographic response qualified as noninferiority of the NX treatment. Pathological complete response was defined as no invasive or in situ residual tumor masses in the breast and lymph nodes. Toxic effects were assessed. All statistical tests were two-sided. RESULTS: Of 2090 patients enrolled in the GeparTrio study, 622 (29.8\\%) who did not respond to two initial cycles of TAC were randomly assigned to an additional four cycles of TAC (n = 321) or to four cycles of NX (n = 301). Sonographic response rate was 50.5\\% for the TAC arm and 51.2\\% for the NX arm. The difference of 0.7\\% (95\\% confidence interval = -7.1\\% to 8.5\\%) demonstrated noninferiority of NX (P = .008). Similar numbers of patients in both arms received breast-conserving surgery (184 {[}57.3\\%{]} in the TAC arm vs 180 {[}59.8\\%{]} in the NX arm) and had a pathological complete response (5.3\\% vs 6.0\\%). Fewer patients in the NX arm than in the TAC arm had hematologic toxic effects, mucositis, infections, and nail changes, but more had hand-foot syndrome and sensory neuropathy. CONCLUSION: Pathological complete responses to both regimens were marginal. Among patients who did not respond to the initial neoadjuvant TAC treatment, similar efficacy but better tolerability was observed by switching to NX than continuing with TAC. & 1\\\\\n",
       "\\end{tabular}\n"
      ],
      "text/markdown": [
       "\n",
       "A data.frame: 3 × 3\n",
       "\n",
       "| <!--/--> | title &lt;chr&gt; | abstract &lt;chr&gt; | trial &lt;int&gt; |\n",
       "|---|---|---|---|\n",
       "| 1 | Treatment of Hodgkin's disease and other cancers with 1,3-bis(2-chloroethyl)-1-nitrosourea (BCNU; NSC-409962).                                                 | <!----> | 1 |\n",
       "| 2 | Cell mediated immune status in malignancy--pretherapy and post-therapy assessment.                                                                             | Twenty-eight cases of malignancies of different kinds were studied to assess T-cell activity and population before and after institution of therapy. Fifteen cases were diagnosed as non-metastasising squamous cell carcinoma of larynx, pharynx, laryngopharynx, hypopharynx and tonsils. Seven cases were non-metastasising infiltrating duct carcinoma of breast and 6 cases were non-Hodgkin's lymphoma (NHL). It was observed that 3 out of 15 cases (20%) of squamous cell carcinoma cases were Mantoux test (MT) negative with a T-cell population of less than 40%, 2 out of 7 cases (28.6%) of infiltrating duct carcinoma of breast were MT negative with a T-cell population of less than 40% and 3 out of 6 cases (50%) of NHL were MT negative with a T-cell population of less than 40%. The normal controls, consisting of apparently normal healthy adults, had a T-cell population of more than 40% and were all MT positive. The patients who showed a negative skin test and a T-cell population less than 40% were further subjected to assessment of T-cell population and activity after appropriate therapy, and clinical cure of the disease. It was observed that 2 out of 3 cases (66.66%) of squamous cell carcinomas, 2 out of 2 cases (100%) of adenocarcinomas and one out of 3 cases (33.33%) of NHL showed positive conversion with a T-cell population of more than 40%.                                                                                                                                                                                                                                                                                                                                                                                                                                                                                                                                                                                                                                                                                                                                                                                                                              | 0 |\n",
       "| 3 | Neoadjuvant vinorelbine-capecitabine versus docetaxel-doxorubicin-cyclophosphamide in early nonresponsive breast cancer: phase III randomized GeparTrio trial. | BACKGROUND: Among breast cancer patients, nonresponse to initial neoadjuvant chemotherapy is associated with unfavorable outcome. We compared the response of nonresponding patients who continued the same treatment with that of patients who switched to a well-tolerated non-cross-resistant regimen. METHODS: Previously untreated breast cancer patients received two 3-week cycles of docetaxel at 75 mg/m(2), doxorubicin at 50 mg/m(2), and cyclophosphamide at 500 mg/m(2) per day (TAC). Patients whose tumors did not decrease in size by at least 50% were randomly assigned to four additional cycles of TAC or to four cycles of vinorelbine at 25 mg/m(2) and capecitabine at 2000 mg/m(2) (NX). The outcome was sonographic response, defined as a reduction in the product of the two largest perpendicular diameters by at least 50%. A difference of 10% or less in the sonographic response qualified as noninferiority of the NX treatment. Pathological complete response was defined as no invasive or in situ residual tumor masses in the breast and lymph nodes. Toxic effects were assessed. All statistical tests were two-sided. RESULTS: Of 2090 patients enrolled in the GeparTrio study, 622 (29.8%) who did not respond to two initial cycles of TAC were randomly assigned to an additional four cycles of TAC (n = 321) or to four cycles of NX (n = 301). Sonographic response rate was 50.5% for the TAC arm and 51.2% for the NX arm. The difference of 0.7% (95% confidence interval = -7.1% to 8.5%) demonstrated noninferiority of NX (P = .008). Similar numbers of patients in both arms received breast-conserving surgery (184 [57.3%] in the TAC arm vs 180 [59.8%] in the NX arm) and had a pathological complete response (5.3% vs 6.0%). Fewer patients in the NX arm than in the TAC arm had hematologic toxic effects, mucositis, infections, and nail changes, but more had hand-foot syndrome and sensory neuropathy. CONCLUSION: Pathological complete responses to both regimens were marginal. Among patients who did not respond to the initial neoadjuvant TAC treatment, similar efficacy but better tolerability was observed by switching to NX than continuing with TAC. | 1 |\n",
       "\n"
      ],
      "text/plain": [
       "  title                                                                                                                                                         \n",
       "1 Treatment of Hodgkin's disease and other cancers with 1,3-bis(2-chloroethyl)-1-nitrosourea (BCNU; NSC-409962).                                                \n",
       "2 Cell mediated immune status in malignancy--pretherapy and post-therapy assessment.                                                                            \n",
       "3 Neoadjuvant vinorelbine-capecitabine versus docetaxel-doxorubicin-cyclophosphamide in early nonresponsive breast cancer: phase III randomized GeparTrio trial.\n",
       "  abstract                                                                                                                                                                                                                                                                                                                                                                                                                                                                                                                                                                                                                                                                                                                                                                                                                                                                                                                                                                                                                                                                                                                                                                                                                                                                                                                                                                                                                                                                                                                                                                                                                                                                                                                                                                                                                                                                                                                                                                                                                                                                                                                                                                                                                               \n",
       "1                                                                                                                                                                                                                                                                                                                                                                                                                                                                                                                                                                                                                                                                                                                                                                                                                                                                                                                                                                                                                                                                                                                                                                                                                                                                                                                                                                                                                                                                                                                                                                                                                                                                                                                                                                                                                                                                                                                                                                                                                                                                                                                                                                                                                                        \n",
       "2 Twenty-eight cases of malignancies of different kinds were studied to assess T-cell activity and population before and after institution of therapy. Fifteen cases were diagnosed as non-metastasising squamous cell carcinoma of larynx, pharynx, laryngopharynx, hypopharynx and tonsils. Seven cases were non-metastasising infiltrating duct carcinoma of breast and 6 cases were non-Hodgkin's lymphoma (NHL). It was observed that 3 out of 15 cases (20%) of squamous cell carcinoma cases were Mantoux test (MT) negative with a T-cell population of less than 40%, 2 out of 7 cases (28.6%) of infiltrating duct carcinoma of breast were MT negative with a T-cell population of less than 40% and 3 out of 6 cases (50%) of NHL were MT negative with a T-cell population of less than 40%. The normal controls, consisting of apparently normal healthy adults, had a T-cell population of more than 40% and were all MT positive. The patients who showed a negative skin test and a T-cell population less than 40% were further subjected to assessment of T-cell population and activity after appropriate therapy, and clinical cure of the disease. It was observed that 2 out of 3 cases (66.66%) of squamous cell carcinomas, 2 out of 2 cases (100%) of adenocarcinomas and one out of 3 cases (33.33%) of NHL showed positive conversion with a T-cell population of more than 40%.                                                                                                                                                                                                                                                                                                                                                                                                                                                                                                                                                                                                                                                                                                                                                                                                                             \n",
       "3 BACKGROUND: Among breast cancer patients, nonresponse to initial neoadjuvant chemotherapy is associated with unfavorable outcome. We compared the response of nonresponding patients who continued the same treatment with that of patients who switched to a well-tolerated non-cross-resistant regimen. METHODS: Previously untreated breast cancer patients received two 3-week cycles of docetaxel at 75 mg/m(2), doxorubicin at 50 mg/m(2), and cyclophosphamide at 500 mg/m(2) per day (TAC). Patients whose tumors did not decrease in size by at least 50% were randomly assigned to four additional cycles of TAC or to four cycles of vinorelbine at 25 mg/m(2) and capecitabine at 2000 mg/m(2) (NX). The outcome was sonographic response, defined as a reduction in the product of the two largest perpendicular diameters by at least 50%. A difference of 10% or less in the sonographic response qualified as noninferiority of the NX treatment. Pathological complete response was defined as no invasive or in situ residual tumor masses in the breast and lymph nodes. Toxic effects were assessed. All statistical tests were two-sided. RESULTS: Of 2090 patients enrolled in the GeparTrio study, 622 (29.8%) who did not respond to two initial cycles of TAC were randomly assigned to an additional four cycles of TAC (n = 321) or to four cycles of NX (n = 301). Sonographic response rate was 50.5% for the TAC arm and 51.2% for the NX arm. The difference of 0.7% (95% confidence interval = -7.1% to 8.5%) demonstrated noninferiority of NX (P = .008). Similar numbers of patients in both arms received breast-conserving surgery (184 [57.3%] in the TAC arm vs 180 [59.8%] in the NX arm) and had a pathological complete response (5.3% vs 6.0%). Fewer patients in the NX arm than in the TAC arm had hematologic toxic effects, mucositis, infections, and nail changes, but more had hand-foot syndrome and sensory neuropathy. CONCLUSION: Pathological complete responses to both regimens were marginal. Among patients who did not respond to the initial neoadjuvant TAC treatment, similar efficacy but better tolerability was observed by switching to NX than continuing with TAC.\n",
       "  trial\n",
       "1 1    \n",
       "2 0    \n",
       "3 1    "
      ]
     },
     "metadata": {},
     "output_type": "display_data"
    }
   ],
   "source": [
    "# Load the dataset\n",
    "trials = read.csv(\"data/clinical_trial.csv\", stringsAsFactors=FALSE)\n",
    "\n",
    "head(trials,3)"
   ]
  },
  {
   "cell_type": "code",
   "execution_count": 2,
   "metadata": {},
   "outputs": [
    {
     "data": {
      "text/html": [
       "3708"
      ],
      "text/latex": [
       "3708"
      ],
      "text/markdown": [
       "3708"
      ],
      "text/plain": [
       "[1] 3708"
      ]
     },
     "metadata": {},
     "output_type": "display_data"
    }
   ],
   "source": [
    "# Outputs the longest abstract\n",
    "max(nchar(trials$abstract))"
   ]
  },
  {
   "cell_type": "markdown",
   "metadata": {},
   "source": [
    "### Problem 1.2 - Loading the Data\n",
    "**How many search results provided no abstract?** (HINT: A search result provided no abstract if the number of characters in the abstract field is zero.)"
   ]
  },
  {
   "cell_type": "code",
   "execution_count": 3,
   "metadata": {},
   "outputs": [
    {
     "data": {
      "text/plain": [
       "\n",
       "FALSE  TRUE \n",
       " 1748   112 "
      ]
     },
     "metadata": {},
     "output_type": "display_data"
    }
   ],
   "source": [
    "# Tabulates the amount of results with no abstracts\n",
    "abs = table(nchar(trials$abstract)==0)\n",
    "abs"
   ]
  },
  {
   "cell_type": "markdown",
   "metadata": {},
   "source": [
    "Answer: 112 search results have no abstract."
   ]
  },
  {
   "cell_type": "markdown",
   "metadata": {},
   "source": [
    "### Problem 1.3 - Loading the Data\n",
    "Find the observation with the minimum number of characters in the title (the variable \"title\") out of all of the observations in this dataset. **What is the text of the title of this article?** Include capitalization and punctuation in your response, but don't include the quotes."
   ]
  },
  {
   "cell_type": "code",
   "execution_count": 4,
   "metadata": {},
   "outputs": [
    {
     "data": {
      "text/html": [
       "1258"
      ],
      "text/latex": [
       "1258"
      ],
      "text/markdown": [
       "1258"
      ],
      "text/plain": [
       "[1] 1258"
      ]
     },
     "metadata": {},
     "output_type": "display_data"
    }
   ],
   "source": [
    "# Find the observation with the minimum number of characters\n",
    "which.min(nchar(trials$title))"
   ]
  },
  {
   "cell_type": "code",
   "execution_count": 5,
   "metadata": {},
   "outputs": [
    {
     "data": {
      "text/html": [
       "'A decade of letrozole: FACE.'"
      ],
      "text/latex": [
       "'A decade of letrozole: FACE.'"
      ],
      "text/markdown": [
       "'A decade of letrozole: FACE.'"
      ],
      "text/plain": [
       "[1] \"A decade of letrozole: FACE.\""
      ]
     },
     "metadata": {},
     "output_type": "display_data"
    }
   ],
   "source": [
    "num = which.min(nchar(trials$title))\n",
    "\n",
    "pos = trials$title[num]\n",
    "pos"
   ]
  },
  {
   "cell_type": "markdown",
   "metadata": {},
   "source": [
    "### Problem 2.1 - Preparing the Corpus\n",
    "Because we have both title and abstract information for trials, we need to build two corpera instead of one. Name them corpusTitle and corpusAbstract.\n",
    "\n",
    "Following the commands from lecture, perform the following tasks (you might need to load the \"tm\" package first if it isn't already loaded). Make sure to perform them in this order.\n",
    "\n",
    "1) Convert the title variable to corpusTitle and the abstract variable to corpusAbstract.\n",
    "\n",
    "2) Convert corpusTitle and corpusAbstract to lowercase. After performing this step, remember to run the lines:\n",
    "\n",
    "corpusTitle = tm_map(corpusTitle, PlainTextDocument)\n",
    "\n",
    "corpusAbstract = tm_map(corpusAbstract, PlainTextDocument)\n",
    "\n",
    "3) Remove the punctuation in corpusTitle and corpusAbstract.\n",
    "\n",
    "4) Remove the English language stop words from corpusTitle and corpusAbstract.\n",
    "\n",
    "5) Stem the words in corpusTitle and corpusAbstract (each stemming might take a few minutes).\n",
    "\n",
    "6) Build a document term matrix called dtmTitle from corpusTitle and dtmAbstract from corpusAbstract.\n",
    "\n",
    "7) Limit dtmTitle and dtmAbstract to terms with sparseness of at most 95% (aka terms that appear in at least 5% of documents).\n",
    "\n",
    "8) Convert dtmTitle and dtmAbstract to data frames (keep the names dtmTitle and dtmAbstract).\n",
    "\n",
    "If the code length(stopwords(\"english\")) does not return 174 for you, then please run the line of code in this file, which will store the standard stop words in a variable called sw. When removing stop words, use tm_map(corpusTitle, removeWords, sw) and tm_map(corpusAbstract, removeWords, sw) instead of tm_map(corpusTitle, removeWords, stopwords(\"english\")) and tm_map(corpusAbstract, removeWords, stopwords(\"english\")).\n",
    "\n",
    "**How many terms remain in dtmTitle after removing sparse terms (aka how many columns does it have)?**"
   ]
  },
  {
   "cell_type": "code",
   "execution_count": null,
   "metadata": {},
   "outputs": [],
   "source": []
  },
  {
   "cell_type": "code",
   "execution_count": null,
   "metadata": {},
   "outputs": [],
   "source": []
  },
  {
   "cell_type": "code",
   "execution_count": null,
   "metadata": {},
   "outputs": [],
   "source": []
  },
  {
   "cell_type": "code",
   "execution_count": null,
   "metadata": {},
   "outputs": [],
   "source": []
  },
  {
   "cell_type": "code",
   "execution_count": null,
   "metadata": {},
   "outputs": [],
   "source": []
  },
  {
   "cell_type": "code",
   "execution_count": null,
   "metadata": {},
   "outputs": [],
   "source": []
  },
  {
   "cell_type": "code",
   "execution_count": null,
   "metadata": {},
   "outputs": [],
   "source": []
  },
  {
   "cell_type": "code",
   "execution_count": null,
   "metadata": {},
   "outputs": [],
   "source": []
  },
  {
   "cell_type": "markdown",
   "metadata": {},
   "source": [
    "How many terms remain in dtmAbstract?\n",
    "\n",
    "In [ ]:\n",
    "\n",
    "Problem 2.2 - Preparing the Corpus\n",
    "What is the most likely reason why dtmAbstract has so many more terms than dtmTitle?\n",
    "\n",
    "In [ ]:\n",
    "\n",
    "Problem 2.3 - Preparing the Corpus\n",
    "What is the most frequent word stem across all the abstracts? Hint: you can use colSums() to compute the frequency of a word across all the abstracts.\n",
    "\n",
    "In [ ]:\n",
    "\n",
    "Problem 3.1 - Building a model\n",
    "We want to combine dtmTitle and dtmAbstract into a single data frame to make predictions. However, some of the variables in these data frames have the same names. To fix this issue, run the following commands:\n",
    "\n",
    "colnames(dtmTitle) = paste0(\"T\", colnames(dtmTitle))\n",
    "\n",
    "colnames(dtmAbstract) = paste0(\"A\", colnames(dtmAbstract))\n",
    "\n",
    "What was the effect of these functions?\n",
    "\n",
    "In [ ]:\n",
    "\n",
    "Problem 3.2 - Building a Model\n",
    "Using cbind(), combine dtmTitle and dtmAbstract into a single data frame called dtm:\n",
    "\n",
    "dtm = cbind(dtmTitle, dtmAbstract)\n",
    "\n",
    "As we did in class, add the dependent variable \"trial\" to dtm, copying it from the original data frame called trials. How many columns are in this combined data frame?\n",
    "\n",
    "In [ ]:\n",
    "\n",
    "Problem 3.3 - Building a Model\n",
    "Now that we have prepared our data frame, it's time to split it into a training and testing set and to build regression models. Set the random seed to 144 and use the sample.split function from the caTools package to split dtm into data frames named \"train\" and \"test\", putting 70% of the data in the training set.\n",
    "\n",
    "What is the accuracy of the baseline model on the training set? (Remember that the baseline model predicts the most frequent outcome in the training set for all observations.)\n",
    "\n",
    "In [ ]:\n",
    "\n",
    "Problem 3.4 - Building a Model\n",
    "Build a CART model called trialCART, using all the independent variables in the training set to train the model, and then plot the CART model. Just use the default parameters to build the model (don't add a minbucket or cp value). Remember to add the method=\"class\" argument, since this is a classification problem.\n",
    "\n",
    "What is the name of the first variable the model split on?\n",
    "\n",
    "In [ ]:\n",
    "\n",
    "Problem 3.5 - Building a Model\n",
    "Obtain the training set predictions for the model (do not yet predict on the test set). Extract the predicted probability of a result being a trial (recall that this involves not setting a type argument, and keeping only the second column of the predict output). What is the maximum predicted probability for any result?\n",
    "\n",
    "In [ ]:\n",
    "\n",
    "Problem 3.6 - Building a Model\n",
    "Without running the analysis, how do you expect the maximum predicted probability to differ in the testing set?\n",
    "\n",
    "In [ ]:\n",
    "\n",
    "Problem 3.7 - Building a Model\n",
    "For these questions, use a threshold probability of 0.5 to predict that an observation is a clinical trial.\n",
    "\n",
    "What is the training set accuracy of the CART model?\n",
    "\n",
    "In [ ]:\n",
    "\n",
    "What is the training set sensitivity of the CART model?\n",
    "\n",
    "In [ ]:\n",
    "\n",
    "What is the training set specificity of the CART model?\n",
    "\n",
    "In [ ]:\n",
    "\n",
    "roblem 4.1 - Evaluating the model on the testing set\n",
    "Evaluate the CART model on the testing set using the predict function and creating a vector of predicted probabilities predTest.\n",
    "\n",
    "What is the testing set accuracy, assuming a probability threshold of 0.5 for predicting that a result is a clinical trial?\n",
    "\n",
    "In [ ]:\n",
    "\n",
    "Problem 4.2 - Evaluating the Model on the Testing Set\n",
    "Using the ROCR package, what is the testing set AUC of the prediction model?\n",
    "\n",
    "In [ ]:\n",
    "\n",
    "part 5: decision-maker tradeoffs\n",
    "The decision maker for this problem, a researcher performing a review of the medical literature, would use a model (like the CART one we built here) in the following workflow:\n",
    "\n",
    "1) For all of the papers retreived in the PubMed Search, predict which papers are clinical trials using the model. This yields some initial Set A of papers predicted to be trials, and some Set B of papers predicted not to be trials. (See the figure below.)\n",
    "\n",
    "2) Then, the decision maker manually reviews all papers in Set A, verifying that each paper meets the study's detailed inclusion criteria (for the purposes of this analysis, we assume this manual review is 100% accurate at identifying whether a paper in Set A is relevant to the study). This yields a more limited set of papers to be included in the study, which would ideally be all papers in the medical literature meeting the detailed inclusion criteria for the study.\n",
    "\n",
    "3) Perform the study-specific analysis, using data extracted from the limited set of papers identified in step 2.\n",
    "\n",
    "This process is shown in the figure below."
   ]
  },
  {
   "cell_type": "markdown",
   "metadata": {},
   "source": [
    "Problem 5.1 - Decision-Maker Tradeoffs\n",
    "What is the cost associated with the model in Step 1 making a false negative prediction?\n",
    "\n",
    "In [ ]:\n",
    "\n",
    "Problem 5.2 - Decision-Maker Tradeoffs\n",
    "What is the cost associated with the model in Step 1 making a false positive prediction?\n",
    "\n",
    "In [ ]:\n",
    "\n",
    "Problem 5.3 - Decision-Maker Tradeoffs\n",
    "Given the costs associated with false positives and false negatives, which of the following is most accurate?"
   ]
  }
 ],
 "metadata": {
  "kernelspec": {
   "display_name": "R",
   "language": "R",
   "name": "ir"
  },
  "language_info": {
   "codemirror_mode": "r",
   "file_extension": ".r",
   "mimetype": "text/x-r-source",
   "name": "R",
   "pygments_lexer": "r",
   "version": "3.6.3"
  }
 },
 "nbformat": 4,
 "nbformat_minor": 4
}
