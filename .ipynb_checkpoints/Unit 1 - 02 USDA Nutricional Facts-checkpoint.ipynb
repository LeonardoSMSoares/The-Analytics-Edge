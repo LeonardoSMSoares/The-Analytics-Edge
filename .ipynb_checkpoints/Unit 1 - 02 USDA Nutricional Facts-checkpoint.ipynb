{
 "cells": [
  {
   "cell_type": "markdown",
   "metadata": {},
   "source": [
    "# Understanding Food: Nutritional Education with Data (Recitation)"
   ]
  },
  {
   "cell_type": "code",
   "execution_count": 2,
   "metadata": {},
   "outputs": [
    {
     "data": {
      "text/html": [
       "<table>\n",
       "<caption>A data.frame: 6 × 16</caption>\n",
       "<thead>\n",
       "\t<tr><th></th><th scope=col>ID</th><th scope=col>Description</th><th scope=col>Calories</th><th scope=col>Protein</th><th scope=col>TotalFat</th><th scope=col>Carbohydrate</th><th scope=col>Sodium</th><th scope=col>SaturatedFat</th><th scope=col>Cholesterol</th><th scope=col>Sugar</th><th scope=col>Calcium</th><th scope=col>Iron</th><th scope=col>Potassium</th><th scope=col>VitaminC</th><th scope=col>VitaminE</th><th scope=col>VitaminD</th></tr>\n",
       "\t<tr><th></th><th scope=col>&lt;int&gt;</th><th scope=col>&lt;fct&gt;</th><th scope=col>&lt;int&gt;</th><th scope=col>&lt;dbl&gt;</th><th scope=col>&lt;dbl&gt;</th><th scope=col>&lt;dbl&gt;</th><th scope=col>&lt;int&gt;</th><th scope=col>&lt;dbl&gt;</th><th scope=col>&lt;int&gt;</th><th scope=col>&lt;dbl&gt;</th><th scope=col>&lt;int&gt;</th><th scope=col>&lt;dbl&gt;</th><th scope=col>&lt;int&gt;</th><th scope=col>&lt;dbl&gt;</th><th scope=col>&lt;dbl&gt;</th><th scope=col>&lt;dbl&gt;</th></tr>\n",
       "</thead>\n",
       "<tbody>\n",
       "\t<tr><th scope=row>1</th><td>1001</td><td>BUTTER,WITH SALT        </td><td>717</td><td> 0.85</td><td>81.11</td><td>0.06</td><td> 714</td><td>51.368</td><td>215</td><td>0.06</td><td> 24</td><td>0.02</td><td> 24</td><td>0</td><td>2.32</td><td>1.5</td></tr>\n",
       "\t<tr><th scope=row>2</th><td>1002</td><td>BUTTER,WHIPPED,WITH SALT</td><td>717</td><td> 0.85</td><td>81.11</td><td>0.06</td><td> 827</td><td>50.489</td><td>219</td><td>0.06</td><td> 24</td><td>0.16</td><td> 26</td><td>0</td><td>2.32</td><td>1.5</td></tr>\n",
       "\t<tr><th scope=row>3</th><td>1003</td><td>BUTTER OIL,ANHYDROUS    </td><td>876</td><td> 0.28</td><td>99.48</td><td>0.00</td><td>   2</td><td>61.924</td><td>256</td><td>0.00</td><td>  4</td><td>0.00</td><td>  5</td><td>0</td><td>2.80</td><td>1.8</td></tr>\n",
       "\t<tr><th scope=row>4</th><td>1004</td><td>CHEESE,BLUE             </td><td>353</td><td>21.40</td><td>28.74</td><td>2.34</td><td>1395</td><td>18.669</td><td> 75</td><td>0.50</td><td>528</td><td>0.31</td><td>256</td><td>0</td><td>0.25</td><td>0.5</td></tr>\n",
       "\t<tr><th scope=row>5</th><td>1005</td><td>CHEESE,BRICK            </td><td>371</td><td>23.24</td><td>29.68</td><td>2.79</td><td> 560</td><td>18.764</td><td> 94</td><td>0.51</td><td>674</td><td>0.43</td><td>136</td><td>0</td><td>0.26</td><td>0.5</td></tr>\n",
       "\t<tr><th scope=row>6</th><td>1006</td><td>CHEESE,BRIE             </td><td>334</td><td>20.75</td><td>27.68</td><td>0.45</td><td> 629</td><td>17.410</td><td>100</td><td>0.45</td><td>184</td><td>0.50</td><td>152</td><td>0</td><td>0.24</td><td>0.5</td></tr>\n",
       "</tbody>\n",
       "</table>\n"
      ],
      "text/latex": [
       "A data.frame: 6 × 16\n",
       "\\begin{tabular}{r|llllllllllllllll}\n",
       "  & ID & Description & Calories & Protein & TotalFat & Carbohydrate & Sodium & SaturatedFat & Cholesterol & Sugar & Calcium & Iron & Potassium & VitaminC & VitaminE & VitaminD\\\\\n",
       "  & <int> & <fct> & <int> & <dbl> & <dbl> & <dbl> & <int> & <dbl> & <int> & <dbl> & <int> & <dbl> & <int> & <dbl> & <dbl> & <dbl>\\\\\n",
       "\\hline\n",
       "\t1 & 1001 & BUTTER,WITH SALT         & 717 &  0.85 & 81.11 & 0.06 &  714 & 51.368 & 215 & 0.06 &  24 & 0.02 &  24 & 0 & 2.32 & 1.5\\\\\n",
       "\t2 & 1002 & BUTTER,WHIPPED,WITH SALT & 717 &  0.85 & 81.11 & 0.06 &  827 & 50.489 & 219 & 0.06 &  24 & 0.16 &  26 & 0 & 2.32 & 1.5\\\\\n",
       "\t3 & 1003 & BUTTER OIL,ANHYDROUS     & 876 &  0.28 & 99.48 & 0.00 &    2 & 61.924 & 256 & 0.00 &   4 & 0.00 &   5 & 0 & 2.80 & 1.8\\\\\n",
       "\t4 & 1004 & CHEESE,BLUE              & 353 & 21.40 & 28.74 & 2.34 & 1395 & 18.669 &  75 & 0.50 & 528 & 0.31 & 256 & 0 & 0.25 & 0.5\\\\\n",
       "\t5 & 1005 & CHEESE,BRICK             & 371 & 23.24 & 29.68 & 2.79 &  560 & 18.764 &  94 & 0.51 & 674 & 0.43 & 136 & 0 & 0.26 & 0.5\\\\\n",
       "\t6 & 1006 & CHEESE,BRIE              & 334 & 20.75 & 27.68 & 0.45 &  629 & 17.410 & 100 & 0.45 & 184 & 0.50 & 152 & 0 & 0.24 & 0.5\\\\\n",
       "\\end{tabular}\n"
      ],
      "text/markdown": [
       "\n",
       "A data.frame: 6 × 16\n",
       "\n",
       "| <!--/--> | ID &lt;int&gt; | Description &lt;fct&gt; | Calories &lt;int&gt; | Protein &lt;dbl&gt; | TotalFat &lt;dbl&gt; | Carbohydrate &lt;dbl&gt; | Sodium &lt;int&gt; | SaturatedFat &lt;dbl&gt; | Cholesterol &lt;int&gt; | Sugar &lt;dbl&gt; | Calcium &lt;int&gt; | Iron &lt;dbl&gt; | Potassium &lt;int&gt; | VitaminC &lt;dbl&gt; | VitaminE &lt;dbl&gt; | VitaminD &lt;dbl&gt; |\n",
       "|---|---|---|---|---|---|---|---|---|---|---|---|---|---|---|---|---|\n",
       "| 1 | 1001 | BUTTER,WITH SALT         | 717 |  0.85 | 81.11 | 0.06 |  714 | 51.368 | 215 | 0.06 |  24 | 0.02 |  24 | 0 | 2.32 | 1.5 |\n",
       "| 2 | 1002 | BUTTER,WHIPPED,WITH SALT | 717 |  0.85 | 81.11 | 0.06 |  827 | 50.489 | 219 | 0.06 |  24 | 0.16 |  26 | 0 | 2.32 | 1.5 |\n",
       "| 3 | 1003 | BUTTER OIL,ANHYDROUS     | 876 |  0.28 | 99.48 | 0.00 |    2 | 61.924 | 256 | 0.00 |   4 | 0.00 |   5 | 0 | 2.80 | 1.8 |\n",
       "| 4 | 1004 | CHEESE,BLUE              | 353 | 21.40 | 28.74 | 2.34 | 1395 | 18.669 |  75 | 0.50 | 528 | 0.31 | 256 | 0 | 0.25 | 0.5 |\n",
       "| 5 | 1005 | CHEESE,BRICK             | 371 | 23.24 | 29.68 | 2.79 |  560 | 18.764 |  94 | 0.51 | 674 | 0.43 | 136 | 0 | 0.26 | 0.5 |\n",
       "| 6 | 1006 | CHEESE,BRIE              | 334 | 20.75 | 27.68 | 0.45 |  629 | 17.410 | 100 | 0.45 | 184 | 0.50 | 152 | 0 | 0.24 | 0.5 |\n",
       "\n"
      ],
      "text/plain": [
       "  ID   Description              Calories Protein TotalFat Carbohydrate Sodium\n",
       "1 1001 BUTTER,WITH SALT         717       0.85   81.11    0.06          714  \n",
       "2 1002 BUTTER,WHIPPED,WITH SALT 717       0.85   81.11    0.06          827  \n",
       "3 1003 BUTTER OIL,ANHYDROUS     876       0.28   99.48    0.00            2  \n",
       "4 1004 CHEESE,BLUE              353      21.40   28.74    2.34         1395  \n",
       "5 1005 CHEESE,BRICK             371      23.24   29.68    2.79          560  \n",
       "6 1006 CHEESE,BRIE              334      20.75   27.68    0.45          629  \n",
       "  SaturatedFat Cholesterol Sugar Calcium Iron Potassium VitaminC VitaminE\n",
       "1 51.368       215         0.06   24     0.02  24       0        2.32    \n",
       "2 50.489       219         0.06   24     0.16  26       0        2.32    \n",
       "3 61.924       256         0.00    4     0.00   5       0        2.80    \n",
       "4 18.669        75         0.50  528     0.31 256       0        0.25    \n",
       "5 18.764        94         0.51  674     0.43 136       0        0.26    \n",
       "6 17.410       100         0.45  184     0.50 152       0        0.24    \n",
       "  VitaminD\n",
       "1 1.5     \n",
       "2 1.5     \n",
       "3 1.8     \n",
       "4 0.5     \n",
       "5 0.5     \n",
       "6 0.5     "
      ]
     },
     "metadata": {},
     "output_type": "display_data"
    }
   ],
   "source": [
    "USDA = read.csv(\"data/USDA.csv\")\n",
    "head(USDA)"
   ]
  },
  {
   "cell_type": "code",
   "execution_count": 3,
   "metadata": {},
   "outputs": [
    {
     "name": "stdout",
     "output_type": "stream",
     "text": [
      "'data.frame':\t7058 obs. of  16 variables:\n",
      " $ ID          : int  1001 1002 1003 1004 1005 1006 1007 1008 1009 1010 ...\n",
      " $ Description : Factor w/ 7054 levels \"ABALONE,MIXED SPECIES,RAW\",..: 1303 1302 1298 2303 2304 2305 2306 2307 2308 2309 ...\n",
      " $ Calories    : int  717 717 876 353 371 334 300 376 403 387 ...\n",
      " $ Protein     : num  0.85 0.85 0.28 21.4 23.24 ...\n",
      " $ TotalFat    : num  81.1 81.1 99.5 28.7 29.7 ...\n",
      " $ Carbohydrate: num  0.06 0.06 0 2.34 2.79 0.45 0.46 3.06 1.28 4.78 ...\n",
      " $ Sodium      : int  714 827 2 1395 560 629 842 690 621 700 ...\n",
      " $ SaturatedFat: num  51.4 50.5 61.9 18.7 18.8 ...\n",
      " $ Cholesterol : int  215 219 256 75 94 100 72 93 105 103 ...\n",
      " $ Sugar       : num  0.06 0.06 0 0.5 0.51 0.45 0.46 NA 0.52 NA ...\n",
      " $ Calcium     : int  24 24 4 528 674 184 388 673 721 643 ...\n",
      " $ Iron        : num  0.02 0.16 0 0.31 0.43 0.5 0.33 0.64 0.68 0.21 ...\n",
      " $ Potassium   : int  24 26 5 256 136 152 187 93 98 95 ...\n",
      " $ VitaminC    : num  0 0 0 0 0 0 0 0 0 0 ...\n",
      " $ VitaminE    : num  2.32 2.32 2.8 0.25 0.26 0.24 0.21 NA 0.29 NA ...\n",
      " $ VitaminD    : num  1.5 1.5 1.8 0.5 0.5 0.5 0.4 NA 0.6 NA ...\n"
     ]
    }
   ],
   "source": [
    "str(USDA)"
   ]
  },
  {
   "cell_type": "code",
   "execution_count": 4,
   "metadata": {},
   "outputs": [
    {
     "data": {
      "text/plain": [
       "       ID       \n",
       " Min.   : 1001  \n",
       " 1st Qu.: 8387  \n",
       " Median :13294  \n",
       " Mean   :14260  \n",
       " 3rd Qu.:18337  \n",
       " Max.   :93600  \n",
       "                \n",
       "                                                       Description  \n",
       " BEEF,CHUCK,UNDER BLADE CNTR STEAK,BNLESS,DENVER CUT,LN,0\" FA:   2  \n",
       " CAMPBELL,CAMPBELL'S SEL MICROWAVEABLE BOWLS,HEA             :   2  \n",
       " OIL,INDUSTRIAL,PALM KERNEL (HYDROGENATED),CONFECTION FAT    :   2  \n",
       " POPCORN,OIL-POPPED,LOFAT                                    :   2  \n",
       " ABALONE,MIXED SPECIES,RAW                                   :   1  \n",
       " ABALONE,MXD SP,CKD,FRIED                                    :   1  \n",
       " (Other)                                                     :7048  \n",
       "    Calories        Protein         TotalFat       Carbohydrate   \n",
       " Min.   :  0.0   Min.   : 0.00   Min.   :  0.00   Min.   :  0.00  \n",
       " 1st Qu.: 85.0   1st Qu.: 2.29   1st Qu.:  0.72   1st Qu.:  0.00  \n",
       " Median :181.0   Median : 8.20   Median :  4.37   Median :  7.13  \n",
       " Mean   :219.7   Mean   :11.71   Mean   : 10.32   Mean   : 20.70  \n",
       " 3rd Qu.:331.0   3rd Qu.:20.43   3rd Qu.: 12.70   3rd Qu.: 28.17  \n",
       " Max.   :902.0   Max.   :88.32   Max.   :100.00   Max.   :100.00  \n",
       " NA's   :1       NA's   :1       NA's   :1        NA's   :1       \n",
       "     Sodium         SaturatedFat     Cholesterol          Sugar       \n",
       " Min.   :    0.0   Min.   : 0.000   Min.   :   0.00   Min.   : 0.000  \n",
       " 1st Qu.:   37.0   1st Qu.: 0.172   1st Qu.:   0.00   1st Qu.: 0.000  \n",
       " Median :   79.0   Median : 1.256   Median :   3.00   Median : 1.395  \n",
       " Mean   :  322.1   Mean   : 3.452   Mean   :  41.55   Mean   : 8.257  \n",
       " 3rd Qu.:  386.0   3rd Qu.: 4.028   3rd Qu.:  69.00   3rd Qu.: 7.875  \n",
       " Max.   :38758.0   Max.   :95.600   Max.   :3100.00   Max.   :99.800  \n",
       " NA's   :84        NA's   :301      NA's   :288       NA's   :1910    \n",
       "    Calcium             Iron           Potassium          VitaminC       \n",
       " Min.   :   0.00   Min.   :  0.000   Min.   :    0.0   Min.   :   0.000  \n",
       " 1st Qu.:   9.00   1st Qu.:  0.520   1st Qu.:  135.0   1st Qu.:   0.000  \n",
       " Median :  19.00   Median :  1.330   Median :  250.0   Median :   0.000  \n",
       " Mean   :  73.53   Mean   :  2.828   Mean   :  301.4   Mean   :   9.436  \n",
       " 3rd Qu.:  56.00   3rd Qu.:  2.620   3rd Qu.:  348.0   3rd Qu.:   3.100  \n",
       " Max.   :7364.00   Max.   :123.600   Max.   :16500.0   Max.   :2400.000  \n",
       " NA's   :136       NA's   :123       NA's   :409       NA's   :332       \n",
       "    VitaminE          VitaminD       \n",
       " Min.   :  0.000   Min.   :  0.0000  \n",
       " 1st Qu.:  0.120   1st Qu.:  0.0000  \n",
       " Median :  0.270   Median :  0.0000  \n",
       " Mean   :  1.488   Mean   :  0.5769  \n",
       " 3rd Qu.:  0.710   3rd Qu.:  0.1000  \n",
       " Max.   :149.400   Max.   :250.0000  \n",
       " NA's   :2720      NA's   :2834      "
      ]
     },
     "metadata": {},
     "output_type": "display_data"
    }
   ],
   "source": [
    "summary(USDA)"
   ]
  },
  {
   "cell_type": "code",
   "execution_count": null,
   "metadata": {},
   "outputs": [],
   "source": []
  },
  {
   "cell_type": "code",
   "execution_count": null,
   "metadata": {},
   "outputs": [],
   "source": []
  },
  {
   "cell_type": "code",
   "execution_count": null,
   "metadata": {},
   "outputs": [],
   "source": []
  },
  {
   "cell_type": "code",
   "execution_count": null,
   "metadata": {},
   "outputs": [],
   "source": []
  },
  {
   "cell_type": "code",
   "execution_count": null,
   "metadata": {},
   "outputs": [],
   "source": []
  },
  {
   "cell_type": "code",
   "execution_count": null,
   "metadata": {},
   "outputs": [],
   "source": []
  },
  {
   "cell_type": "code",
   "execution_count": null,
   "metadata": {},
   "outputs": [],
   "source": []
  },
  {
   "cell_type": "code",
   "execution_count": null,
   "metadata": {},
   "outputs": [],
   "source": []
  },
  {
   "cell_type": "code",
   "execution_count": null,
   "metadata": {},
   "outputs": [],
   "source": []
  },
  {
   "cell_type": "code",
   "execution_count": null,
   "metadata": {},
   "outputs": [],
   "source": []
  },
  {
   "cell_type": "code",
   "execution_count": null,
   "metadata": {},
   "outputs": [],
   "source": []
  },
  {
   "cell_type": "code",
   "execution_count": null,
   "metadata": {},
   "outputs": [],
   "source": []
  },
  {
   "cell_type": "code",
   "execution_count": null,
   "metadata": {},
   "outputs": [],
   "source": []
  },
  {
   "cell_type": "code",
   "execution_count": null,
   "metadata": {},
   "outputs": [],
   "source": []
  },
  {
   "cell_type": "code",
   "execution_count": null,
   "metadata": {},
   "outputs": [],
   "source": []
  },
  {
   "cell_type": "code",
   "execution_count": null,
   "metadata": {},
   "outputs": [],
   "source": []
  },
  {
   "cell_type": "code",
   "execution_count": null,
   "metadata": {},
   "outputs": [],
   "source": []
  },
  {
   "cell_type": "code",
   "execution_count": null,
   "metadata": {},
   "outputs": [],
   "source": []
  },
  {
   "cell_type": "code",
   "execution_count": null,
   "metadata": {},
   "outputs": [],
   "source": []
  },
  {
   "cell_type": "code",
   "execution_count": null,
   "metadata": {},
   "outputs": [],
   "source": []
  },
  {
   "cell_type": "code",
   "execution_count": null,
   "metadata": {},
   "outputs": [],
   "source": []
  }
 ],
 "metadata": {
  "kernelspec": {
   "display_name": "R",
   "language": "R",
   "name": "ir"
  },
  "language_info": {
   "codemirror_mode": "r",
   "file_extension": ".r",
   "mimetype": "text/x-r-source",
   "name": "R",
   "pygments_lexer": "r",
   "version": "3.6.3"
  }
 },
 "nbformat": 4,
 "nbformat_minor": 4
}
