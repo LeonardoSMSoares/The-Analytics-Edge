{
 "cells": [
  {
   "cell_type": "markdown",
   "metadata": {},
   "source": [
    "# Popularity of Music Records"
   ]
  },
  {
   "cell_type": "markdown",
   "metadata": {},
   "source": [
    "<img src=\"images/music.jpg\"/>"
   ]
  },
  {
   "cell_type": "markdown",
   "metadata": {},
   "source": [
    "The music industry has a well-developed market with a global annual revenue around $15 billion. The recording industry is highly competitive and is dominated by three big production companies which make up nearly 82% of the total annual album sales.\n",
    "\n",
    "Artists are at the core of the music industry and record labels provide them with the necessary resources to sell their music on a large scale. A record label incurs numerous costs (studio recording, marketing, distribution, and touring) in exchange for a percentage of the profits from album sales, singles and concert tickets.\n",
    "\n",
    "Unfortunately, the success of an artist's release is highly uncertain: a single may be extremely popular, resulting in widespread radio play and digital downloads, while another single may turn out quite unpopular, and therefore unprofitable.\n",
    "\n",
    "Knowing the competitive nature of the recording industry, record labels face the fundamental decision problem of which musical releases to support to maximize their financial success.\n",
    "\n",
    "How can we use analytics to predict the popularity of a song? In this assignment, we challenge ourselves to predict whether a song will reach a spot in the Top 10 of the Billboard Hot 100 Chart."
   ]
  },
  {
   "cell_type": "markdown",
   "metadata": {},
   "source": [
    "Taking an analytics approach, we aim to use information about a song's properties to predict its popularity. The dataset songs.csv consists of all songs which made it to the Top 10 of the Billboard Hot 100 Chart from 1990-2010 plus a sample of additional songs that didn't make the Top 10. This data comes from three sources: Wikipedia, Billboard.com, and EchoNest.\n",
    "\n",
    "The variables included in the dataset either describe the artist or the song, or they are associated with the following song attributes: time signature, loudness, key, pitch, tempo, and timbre.\n",
    "\n",
    "Here's a detailed description of the variables:\n",
    "\n",
    "    year = the year the song was released\n",
    "\n",
    "    songtitle = the title of the song\n",
    "\n",
    "    artistname = the name of the artist of the song\n",
    "\n",
    "    songID and artistID = identifying variables for the song and artist\n",
    "\n",
    "    timesignature and timesignature_confidence = a variable estimating the time signature of the song, and the confidence in the estimate\n",
    "\n",
    "    loudness = a continuous variable indicating the average amplitude of the audio in decibels\n",
    "\n",
    "    tempo and tempo_confidence = a variable indicating the estimated beats per minute of the song, and the confidence in the estimate\n",
    "\n",
    "    key and key_confidence = a variable with twelve levels indicating the estimated key of the song (C, C#, . . ., B), and the confidence in the estimate\n",
    "\n",
    "    energy = a variable that represents the overall acoustic energy of the song, using a mix of features such as loudness\n",
    "\n",
    "    pitch = a continuous variable that indicates the pitch of the song\n",
    "\n",
    "    timbre_0_min, timbre_0_max, timbre_1_min, timbre_1_max, . . . , timbre_11_min, and timbre_11_max = variables that indicate the minimum/maximum values over all segments for each of the twelve values in the timbre vector (resulting in 24 continuous variables)\n",
    "\n",
    "    Top10 = a binary variable indicating whether or not the song made it to the Top 10 of the Billboard Hot 100 Chart (1 if it was in the top 10, and 0 if it was not)"
   ]
  },
  {
   "cell_type": "markdown",
   "metadata": {},
   "source": [
    "### Problem 1.1 - Understanding the Data\n",
    "\n",
    "Use the read.csv function to load the dataset \"songs.csv\" into R."
   ]
  },
  {
   "cell_type": "code",
   "execution_count": 1,
   "metadata": {},
   "outputs": [
    {
     "data": {
      "text/html": [
       "<table>\n",
       "<caption>A data.frame: 6 × 39</caption>\n",
       "<thead>\n",
       "\t<tr><th></th><th scope=col>year</th><th scope=col>songtitle</th><th scope=col>artistname</th><th scope=col>songID</th><th scope=col>artistID</th><th scope=col>timesignature</th><th scope=col>timesignature_confidence</th><th scope=col>loudness</th><th scope=col>tempo</th><th scope=col>tempo_confidence</th><th scope=col>⋯</th><th scope=col>timbre_7_max</th><th scope=col>timbre_8_min</th><th scope=col>timbre_8_max</th><th scope=col>timbre_9_min</th><th scope=col>timbre_9_max</th><th scope=col>timbre_10_min</th><th scope=col>timbre_10_max</th><th scope=col>timbre_11_min</th><th scope=col>timbre_11_max</th><th scope=col>Top10</th></tr>\n",
       "\t<tr><th></th><th scope=col>&lt;int&gt;</th><th scope=col>&lt;fct&gt;</th><th scope=col>&lt;fct&gt;</th><th scope=col>&lt;fct&gt;</th><th scope=col>&lt;fct&gt;</th><th scope=col>&lt;int&gt;</th><th scope=col>&lt;dbl&gt;</th><th scope=col>&lt;dbl&gt;</th><th scope=col>&lt;dbl&gt;</th><th scope=col>&lt;dbl&gt;</th><th scope=col>⋯</th><th scope=col>&lt;dbl&gt;</th><th scope=col>&lt;dbl&gt;</th><th scope=col>&lt;dbl&gt;</th><th scope=col>&lt;dbl&gt;</th><th scope=col>&lt;dbl&gt;</th><th scope=col>&lt;dbl&gt;</th><th scope=col>&lt;dbl&gt;</th><th scope=col>&lt;dbl&gt;</th><th scope=col>&lt;dbl&gt;</th><th scope=col>&lt;int&gt;</th></tr>\n",
       "</thead>\n",
       "<tbody>\n",
       "\t<tr><th scope=row>1</th><td>2010</td><td>This Is the House That Doubt Built</td><td>A Day to Remember</td><td>SOBGGAB12C5664F054</td><td>AROBSHL1187B9AFB01</td><td>3</td><td>0.853</td><td>-4.262</td><td> 91.525</td><td>0.953</td><td>⋯</td><td> 82.475</td><td>-52.025</td><td>39.116</td><td>-35.368</td><td>71.642</td><td>-126.440</td><td> 18.658</td><td>-44.770</td><td>25.989</td><td>0</td></tr>\n",
       "\t<tr><th scope=row>2</th><td>2010</td><td><span style=white-space:pre-wrap>Sticks &amp; Bricks                   </span></td><td>A Day to Remember</td><td>SOPAQHU1315CD47F31</td><td>AROBSHL1187B9AFB01</td><td>4</td><td>1.000</td><td>-4.051</td><td>140.048</td><td>0.921</td><td>⋯</td><td>106.918</td><td>-61.320</td><td>35.378</td><td>-81.928</td><td>74.574</td><td>-103.808</td><td>121.935</td><td>-38.892</td><td>22.513</td><td>0</td></tr>\n",
       "\t<tr><th scope=row>3</th><td>2010</td><td>All I Want                        </td><td>A Day to Remember</td><td>SOOIZOU1376E7C6386</td><td>AROBSHL1187B9AFB01</td><td>4</td><td>1.000</td><td>-3.571</td><td>160.512</td><td>0.489</td><td>⋯</td><td> 80.621</td><td>-59.773</td><td>45.979</td><td>-46.293</td><td>59.904</td><td>-108.313</td><td> 33.300</td><td>-43.733</td><td>25.744</td><td>0</td></tr>\n",
       "\t<tr><th scope=row>4</th><td>2010</td><td>It's Complicated                  </td><td>A Day to Remember</td><td>SODRYWD1315CD49DBE</td><td>AROBSHL1187B9AFB01</td><td>4</td><td>1.000</td><td>-3.815</td><td> 97.525</td><td>0.794</td><td>⋯</td><td> 96.675</td><td>-78.660</td><td>41.088</td><td>-49.194</td><td>95.440</td><td>-102.676</td><td> 46.422</td><td>-59.439</td><td>37.082</td><td>0</td></tr>\n",
       "\t<tr><th scope=row>5</th><td>2010</td><td>2nd Sucks                         </td><td>A Day to Remember</td><td>SOICMQB1315CD46EE3</td><td>AROBSHL1187B9AFB01</td><td>4</td><td>0.788</td><td>-4.707</td><td>140.053</td><td>0.286</td><td>⋯</td><td>110.332</td><td>-56.450</td><td>37.555</td><td>-48.588</td><td>67.570</td><td> -52.796</td><td> 22.888</td><td>-50.414</td><td>32.758</td><td>0</td></tr>\n",
       "\t<tr><th scope=row>6</th><td>2010</td><td>Better Off This Way               </td><td>A Day to Remember</td><td>SOCEYON1315CD4A23E</td><td>AROBSHL1187B9AFB01</td><td>4</td><td>1.000</td><td>-3.807</td><td>160.366</td><td>0.347</td><td>⋯</td><td> 91.117</td><td>-54.378</td><td>53.808</td><td>-33.183</td><td>54.657</td><td> -64.478</td><td> 34.522</td><td>-40.922</td><td>36.453</td><td>0</td></tr>\n",
       "</tbody>\n",
       "</table>\n"
      ],
      "text/latex": [
       "A data.frame: 6 × 39\n",
       "\\begin{tabular}{r|lllllllllllllllllllll}\n",
       "  & year & songtitle & artistname & songID & artistID & timesignature & timesignature\\_confidence & loudness & tempo & tempo\\_confidence & ⋯ & timbre\\_7\\_max & timbre\\_8\\_min & timbre\\_8\\_max & timbre\\_9\\_min & timbre\\_9\\_max & timbre\\_10\\_min & timbre\\_10\\_max & timbre\\_11\\_min & timbre\\_11\\_max & Top10\\\\\n",
       "  & <int> & <fct> & <fct> & <fct> & <fct> & <int> & <dbl> & <dbl> & <dbl> & <dbl> & ⋯ & <dbl> & <dbl> & <dbl> & <dbl> & <dbl> & <dbl> & <dbl> & <dbl> & <dbl> & <int>\\\\\n",
       "\\hline\n",
       "\t1 & 2010 & This Is the House That Doubt Built & A Day to Remember & SOBGGAB12C5664F054 & AROBSHL1187B9AFB01 & 3 & 0.853 & -4.262 &  91.525 & 0.953 & ⋯ &  82.475 & -52.025 & 39.116 & -35.368 & 71.642 & -126.440 &  18.658 & -44.770 & 25.989 & 0\\\\\n",
       "\t2 & 2010 & Sticks \\& Bricks                    & A Day to Remember & SOPAQHU1315CD47F31 & AROBSHL1187B9AFB01 & 4 & 1.000 & -4.051 & 140.048 & 0.921 & ⋯ & 106.918 & -61.320 & 35.378 & -81.928 & 74.574 & -103.808 & 121.935 & -38.892 & 22.513 & 0\\\\\n",
       "\t3 & 2010 & All I Want                         & A Day to Remember & SOOIZOU1376E7C6386 & AROBSHL1187B9AFB01 & 4 & 1.000 & -3.571 & 160.512 & 0.489 & ⋯ &  80.621 & -59.773 & 45.979 & -46.293 & 59.904 & -108.313 &  33.300 & -43.733 & 25.744 & 0\\\\\n",
       "\t4 & 2010 & It's Complicated                   & A Day to Remember & SODRYWD1315CD49DBE & AROBSHL1187B9AFB01 & 4 & 1.000 & -3.815 &  97.525 & 0.794 & ⋯ &  96.675 & -78.660 & 41.088 & -49.194 & 95.440 & -102.676 &  46.422 & -59.439 & 37.082 & 0\\\\\n",
       "\t5 & 2010 & 2nd Sucks                          & A Day to Remember & SOICMQB1315CD46EE3 & AROBSHL1187B9AFB01 & 4 & 0.788 & -4.707 & 140.053 & 0.286 & ⋯ & 110.332 & -56.450 & 37.555 & -48.588 & 67.570 &  -52.796 &  22.888 & -50.414 & 32.758 & 0\\\\\n",
       "\t6 & 2010 & Better Off This Way                & A Day to Remember & SOCEYON1315CD4A23E & AROBSHL1187B9AFB01 & 4 & 1.000 & -3.807 & 160.366 & 0.347 & ⋯ &  91.117 & -54.378 & 53.808 & -33.183 & 54.657 &  -64.478 &  34.522 & -40.922 & 36.453 & 0\\\\\n",
       "\\end{tabular}\n"
      ],
      "text/markdown": [
       "\n",
       "A data.frame: 6 × 39\n",
       "\n",
       "| <!--/--> | year &lt;int&gt; | songtitle &lt;fct&gt; | artistname &lt;fct&gt; | songID &lt;fct&gt; | artistID &lt;fct&gt; | timesignature &lt;int&gt; | timesignature_confidence &lt;dbl&gt; | loudness &lt;dbl&gt; | tempo &lt;dbl&gt; | tempo_confidence &lt;dbl&gt; | ⋯ ⋯ | timbre_7_max &lt;dbl&gt; | timbre_8_min &lt;dbl&gt; | timbre_8_max &lt;dbl&gt; | timbre_9_min &lt;dbl&gt; | timbre_9_max &lt;dbl&gt; | timbre_10_min &lt;dbl&gt; | timbre_10_max &lt;dbl&gt; | timbre_11_min &lt;dbl&gt; | timbre_11_max &lt;dbl&gt; | Top10 &lt;int&gt; |\n",
       "|---|---|---|---|---|---|---|---|---|---|---|---|---|---|---|---|---|---|---|---|---|---|\n",
       "| 1 | 2010 | This Is the House That Doubt Built | A Day to Remember | SOBGGAB12C5664F054 | AROBSHL1187B9AFB01 | 3 | 0.853 | -4.262 |  91.525 | 0.953 | ⋯ |  82.475 | -52.025 | 39.116 | -35.368 | 71.642 | -126.440 |  18.658 | -44.770 | 25.989 | 0 |\n",
       "| 2 | 2010 | Sticks &amp; Bricks                    | A Day to Remember | SOPAQHU1315CD47F31 | AROBSHL1187B9AFB01 | 4 | 1.000 | -4.051 | 140.048 | 0.921 | ⋯ | 106.918 | -61.320 | 35.378 | -81.928 | 74.574 | -103.808 | 121.935 | -38.892 | 22.513 | 0 |\n",
       "| 3 | 2010 | All I Want                         | A Day to Remember | SOOIZOU1376E7C6386 | AROBSHL1187B9AFB01 | 4 | 1.000 | -3.571 | 160.512 | 0.489 | ⋯ |  80.621 | -59.773 | 45.979 | -46.293 | 59.904 | -108.313 |  33.300 | -43.733 | 25.744 | 0 |\n",
       "| 4 | 2010 | It's Complicated                   | A Day to Remember | SODRYWD1315CD49DBE | AROBSHL1187B9AFB01 | 4 | 1.000 | -3.815 |  97.525 | 0.794 | ⋯ |  96.675 | -78.660 | 41.088 | -49.194 | 95.440 | -102.676 |  46.422 | -59.439 | 37.082 | 0 |\n",
       "| 5 | 2010 | 2nd Sucks                          | A Day to Remember | SOICMQB1315CD46EE3 | AROBSHL1187B9AFB01 | 4 | 0.788 | -4.707 | 140.053 | 0.286 | ⋯ | 110.332 | -56.450 | 37.555 | -48.588 | 67.570 |  -52.796 |  22.888 | -50.414 | 32.758 | 0 |\n",
       "| 6 | 2010 | Better Off This Way                | A Day to Remember | SOCEYON1315CD4A23E | AROBSHL1187B9AFB01 | 4 | 1.000 | -3.807 | 160.366 | 0.347 | ⋯ |  91.117 | -54.378 | 53.808 | -33.183 | 54.657 |  -64.478 |  34.522 | -40.922 | 36.453 | 0 |\n",
       "\n"
      ],
      "text/plain": [
       "  year songtitle                          artistname        songID            \n",
       "1 2010 This Is the House That Doubt Built A Day to Remember SOBGGAB12C5664F054\n",
       "2 2010 Sticks & Bricks                    A Day to Remember SOPAQHU1315CD47F31\n",
       "3 2010 All I Want                         A Day to Remember SOOIZOU1376E7C6386\n",
       "4 2010 It's Complicated                   A Day to Remember SODRYWD1315CD49DBE\n",
       "5 2010 2nd Sucks                          A Day to Remember SOICMQB1315CD46EE3\n",
       "6 2010 Better Off This Way                A Day to Remember SOCEYON1315CD4A23E\n",
       "  artistID           timesignature timesignature_confidence loudness tempo  \n",
       "1 AROBSHL1187B9AFB01 3             0.853                    -4.262    91.525\n",
       "2 AROBSHL1187B9AFB01 4             1.000                    -4.051   140.048\n",
       "3 AROBSHL1187B9AFB01 4             1.000                    -3.571   160.512\n",
       "4 AROBSHL1187B9AFB01 4             1.000                    -3.815    97.525\n",
       "5 AROBSHL1187B9AFB01 4             0.788                    -4.707   140.053\n",
       "6 AROBSHL1187B9AFB01 4             1.000                    -3.807   160.366\n",
       "  tempo_confidence <U+22EF>        timbre_7_max timbre_8_min timbre_8_max timbre_9_min\n",
       "1 0.953            <U+22EF>  82.475      -52.025      39.116       -35.368     \n",
       "2 0.921            <U+22EF> 106.918      -61.320      35.378       -81.928     \n",
       "3 0.489            <U+22EF>  80.621      -59.773      45.979       -46.293     \n",
       "4 0.794            <U+22EF>  96.675      -78.660      41.088       -49.194     \n",
       "5 0.286            <U+22EF> 110.332      -56.450      37.555       -48.588     \n",
       "6 0.347            <U+22EF>  91.117      -54.378      53.808       -33.183     \n",
       "  timbre_9_max timbre_10_min timbre_10_max timbre_11_min timbre_11_max Top10\n",
       "1 71.642       -126.440       18.658       -44.770       25.989        0    \n",
       "2 74.574       -103.808      121.935       -38.892       22.513        0    \n",
       "3 59.904       -108.313       33.300       -43.733       25.744        0    \n",
       "4 95.440       -102.676       46.422       -59.439       37.082        0    \n",
       "5 67.570        -52.796       22.888       -50.414       32.758        0    \n",
       "6 54.657        -64.478       34.522       -40.922       36.453        0    "
      ]
     },
     "metadata": {},
     "output_type": "display_data"
    }
   ],
   "source": [
    "songs = read.csv(\"data/songs.csv\")\n",
    "head(songs)"
   ]
  },
  {
   "cell_type": "code",
   "execution_count": 2,
   "metadata": {},
   "outputs": [
    {
     "name": "stdout",
     "output_type": "stream",
     "text": [
      "'data.frame':\t7574 obs. of  39 variables:\n",
      " $ year                    : int  2010 2010 2010 2010 2010 2010 2010 2010 2010 2010 ...\n",
      " $ songtitle               : Factor w/ 7141 levels \"'03 Bonnie & Clyde\",..: 6204 5522 241 3098 47 607 254 4419 2887 6756 ...\n",
      " $ artistname              : Factor w/ 1032 levels \"50 Cent\",\"98 Degrees\",..: 3 3 3 3 3 3 3 3 3 12 ...\n",
      " $ songID                  : Factor w/ 7549 levels \"SOAACNI1315CD4AC42\",..: 595 5439 5252 1716 3431 1020 1831 3964 6904 2473 ...\n",
      " $ artistID                : Factor w/ 1047 levels \"AR00B1I1187FB433EB\",..: 671 671 671 671 671 671 671 671 671 507 ...\n",
      " $ timesignature           : int  3 4 4 4 4 4 4 4 4 4 ...\n",
      " $ timesignature_confidence: num  0.853 1 1 1 0.788 1 0.968 0.861 0.622 0.938 ...\n",
      " $ loudness                : num  -4.26 -4.05 -3.57 -3.81 -4.71 ...\n",
      " $ tempo                   : num  91.5 140 160.5 97.5 140.1 ...\n",
      " $ tempo_confidence        : num  0.953 0.921 0.489 0.794 0.286 0.347 0.273 0.83 0.018 0.929 ...\n",
      " $ key                     : int  11 10 2 1 6 4 10 5 9 11 ...\n",
      " $ key_confidence          : num  0.453 0.469 0.209 0.632 0.483 0.627 0.715 0.423 0.751 0.602 ...\n",
      " $ energy                  : num  0.967 0.985 0.99 0.939 0.988 ...\n",
      " $ pitch                   : num  0.024 0.025 0.026 0.013 0.063 0.038 0.026 0.033 0.027 0.004 ...\n",
      " $ timbre_0_min            : num  0.002 0 0.003 0 0 ...\n",
      " $ timbre_0_max            : num  57.3 57.4 57.4 57.8 56.9 ...\n",
      " $ timbre_1_min            : num  -6.5 -37.4 -17.2 -32.1 -223.9 ...\n",
      " $ timbre_1_max            : num  171 171 171 221 171 ...\n",
      " $ timbre_2_min            : num  -81.7 -149.6 -72.9 -138.6 -147.2 ...\n",
      " $ timbre_2_max            : num  95.1 180.3 157.9 173.4 166 ...\n",
      " $ timbre_3_min            : num  -285 -380.1 -204 -73.5 -128.1 ...\n",
      " $ timbre_3_max            : num  259 384 251 373 389 ...\n",
      " $ timbre_4_min            : num  -40.4 -48.7 -66 -55.6 -43.9 ...\n",
      " $ timbre_4_max            : num  73.6 100.4 152.1 119.2 99.3 ...\n",
      " $ timbre_5_min            : num  -104.7 -87.3 -98.7 -77.5 -96.1 ...\n",
      " $ timbre_5_max            : num  183.1 42.8 141.4 141.2 38.3 ...\n",
      " $ timbre_6_min            : num  -88.8 -86.9 -88.9 -70.8 -110.8 ...\n",
      " $ timbre_6_max            : num  73.5 75.5 66.5 64.5 72.4 ...\n",
      " $ timbre_7_min            : num  -71.1 -65.8 -67.4 -63.7 -55.9 ...\n",
      " $ timbre_7_max            : num  82.5 106.9 80.6 96.7 110.3 ...\n",
      " $ timbre_8_min            : num  -52 -61.3 -59.8 -78.7 -56.5 ...\n",
      " $ timbre_8_max            : num  39.1 35.4 46 41.1 37.6 ...\n",
      " $ timbre_9_min            : num  -35.4 -81.9 -46.3 -49.2 -48.6 ...\n",
      " $ timbre_9_max            : num  71.6 74.6 59.9 95.4 67.6 ...\n",
      " $ timbre_10_min           : num  -126.4 -103.8 -108.3 -102.7 -52.8 ...\n",
      " $ timbre_10_max           : num  18.7 121.9 33.3 46.4 22.9 ...\n",
      " $ timbre_11_min           : num  -44.8 -38.9 -43.7 -59.4 -50.4 ...\n",
      " $ timbre_11_max           : num  26 22.5 25.7 37.1 32.8 ...\n",
      " $ Top10                   : int  0 0 0 0 0 0 0 0 0 1 ...\n"
     ]
    }
   ],
   "source": [
    "str(songs)"
   ]
  },
  {
   "cell_type": "code",
   "execution_count": 3,
   "metadata": {},
   "outputs": [
    {
     "data": {
      "text/plain": [
       "      year          songtitle              artistname  \n",
       " Min.   :1990   Intro    :  15   Various artists: 162  \n",
       " 1st Qu.:1997   Forever  :   8   Anal Cunt      :  49  \n",
       " Median :2002   Home     :   7   Various Artists:  44  \n",
       " Mean   :2001   Goodbye  :   6   Tori Amos      :  41  \n",
       " 3rd Qu.:2006   Again    :   5   Eels           :  37  \n",
       " Max.   :2010   Beautiful:   5   Napalm Death   :  37  \n",
       "                (Other)  :7528   (Other)        :7204  \n",
       "                songID                   artistID    timesignature  \n",
       " SOALSZJ1370F1A7C75:   2   ARAGWS81187FB3F768: 222   Min.   :0.000  \n",
       " SOANPAC13936E0B640:   2   ARL14X91187FB4CF14:  49   1st Qu.:4.000  \n",
       " SOBDGMX12B0B80808E:   2   AR4KS8C1187FB4CF3D:  41   Median :4.000  \n",
       " SOBUDCZ12A58A80013:   2   AR0JZZ01187B9B2C99:  37   Mean   :3.894  \n",
       " SODFRLK13134387FB5:   2   ARZGTK71187B9AC7F5:  37   3rd Qu.:4.000  \n",
       " SOEJPOK12A6D4FAFE4:   2   AR95XYH1187FB53951:  31   Max.   :7.000  \n",
       " (Other)           :7562   (Other)           :7157                  \n",
       " timesignature_confidence    loudness           tempo        tempo_confidence\n",
       " Min.   :0.0000           Min.   :-42.451   Min.   :  0.00   Min.   :0.0000  \n",
       " 1st Qu.:0.8193           1st Qu.:-10.847   1st Qu.: 88.86   1st Qu.:0.3720  \n",
       " Median :0.9790           Median : -7.649   Median :103.27   Median :0.7015  \n",
       " Mean   :0.8533           Mean   : -8.817   Mean   :107.35   Mean   :0.6229  \n",
       " 3rd Qu.:1.0000           3rd Qu.: -5.640   3rd Qu.:124.80   3rd Qu.:0.8920  \n",
       " Max.   :1.0000           Max.   :  1.305   Max.   :244.31   Max.   :1.0000  \n",
       "                                                                             \n",
       "      key         key_confidence       energy            pitch        \n",
       " Min.   : 0.000   Min.   :0.0000   Min.   :0.00002   Min.   :0.00000  \n",
       " 1st Qu.: 2.000   1st Qu.:0.2040   1st Qu.:0.50014   1st Qu.:0.00300  \n",
       " Median : 6.000   Median :0.4515   Median :0.71816   Median :0.00700  \n",
       " Mean   : 5.385   Mean   :0.4338   Mean   :0.67547   Mean   :0.01082  \n",
       " 3rd Qu.: 9.000   3rd Qu.:0.6460   3rd Qu.:0.88740   3rd Qu.:0.01400  \n",
       " Max.   :11.000   Max.   :1.0000   Max.   :0.99849   Max.   :0.54100  \n",
       "                                                                      \n",
       "  timbre_0_min     timbre_0_max    timbre_1_min      timbre_1_max   \n",
       " Min.   : 0.000   Min.   :12.58   Min.   :-333.72   Min.   :-74.37  \n",
       " 1st Qu.: 0.000   1st Qu.:53.12   1st Qu.:-160.12   1st Qu.:171.13  \n",
       " Median : 0.027   Median :55.53   Median :-107.75   Median :194.40  \n",
       " Mean   : 4.123   Mean   :54.46   Mean   :-110.79   Mean   :212.34  \n",
       " 3rd Qu.: 2.772   3rd Qu.:57.08   3rd Qu.: -59.71   3rd Qu.:239.24  \n",
       " Max.   :48.353   Max.   :64.01   Max.   : 123.73   Max.   :549.97  \n",
       "                                                                    \n",
       "  timbre_2_min      timbre_2_max      timbre_3_min      timbre_3_max   \n",
       " Min.   :-324.86   Min.   : -0.832   Min.   :-495.36   Min.   : 12.85  \n",
       " 1st Qu.:-167.64   1st Qu.:100.519   1st Qu.:-226.87   1st Qu.:127.14  \n",
       " Median :-136.60   Median :129.908   Median :-170.61   Median :189.50  \n",
       " Mean   :-136.89   Mean   :136.673   Mean   :-186.11   Mean   :211.81  \n",
       " 3rd Qu.:-106.51   3rd Qu.:166.121   3rd Qu.:-131.56   3rd Qu.:290.72  \n",
       " Max.   :  34.57   Max.   :397.095   Max.   : -21.55   Max.   :499.62  \n",
       "                                                                       \n",
       "  timbre_4_min      timbre_4_max      timbre_5_min      timbre_5_max   \n",
       " Min.   :-207.07   Min.   : -0.651   Min.   :-262.48   Min.   :-22.41  \n",
       " 1st Qu.: -77.69   1st Qu.: 83.966   1st Qu.:-113.58   1st Qu.: 84.64  \n",
       " Median : -63.83   Median :107.422   Median : -95.47   Median :119.90  \n",
       " Mean   : -65.28   Mean   :108.227   Mean   :-104.00   Mean   :127.04  \n",
       " 3rd Qu.: -51.34   3rd Qu.:130.286   3rd Qu.: -81.02   3rd Qu.:162.34  \n",
       " Max.   :  51.43   Max.   :257.801   Max.   : -42.17   Max.   :350.94  \n",
       "                                                                       \n",
       "  timbre_6_min       timbre_6_max     timbre_7_min       timbre_7_max   \n",
       " Min.   :-152.170   Min.   : 12.70   Min.   :-214.791   Min.   : 15.70  \n",
       " 1st Qu.: -94.792   1st Qu.: 59.04   1st Qu.:-101.171   1st Qu.: 76.50  \n",
       " Median : -80.418   Median : 70.47   Median : -81.797   Median : 94.63  \n",
       " Mean   : -80.944   Mean   : 72.17   Mean   : -84.313   Mean   : 95.65  \n",
       " 3rd Qu.: -66.521   3rd Qu.: 83.19   3rd Qu.: -64.301   3rd Qu.:112.71  \n",
       " Max.   :   4.503   Max.   :208.39   Max.   :   5.153   Max.   :214.82  \n",
       "                                                                        \n",
       "  timbre_8_min       timbre_8_max     timbre_9_min      timbre_9_max    \n",
       " Min.   :-158.756   Min.   :-25.95   Min.   :-149.51   Min.   :  8.415  \n",
       " 1st Qu.: -73.051   1st Qu.: 40.58   1st Qu.: -70.28   1st Qu.: 53.037  \n",
       " Median : -62.661   Median : 49.22   Median : -58.65   Median : 65.935  \n",
       " Mean   : -63.704   Mean   : 50.06   Mean   : -59.52   Mean   : 68.028  \n",
       " 3rd Qu.: -52.983   3rd Qu.: 58.46   3rd Qu.: -47.70   3rd Qu.: 81.267  \n",
       " Max.   :  -2.382   Max.   :144.99   Max.   :   1.14   Max.   :161.518  \n",
       "                                                                        \n",
       " timbre_10_min     timbre_10_max     timbre_11_min      timbre_11_max   \n",
       " Min.   :-208.82   Min.   : -6.359   Min.   :-145.599   Min.   :  7.20  \n",
       " 1st Qu.:-105.13   1st Qu.: 39.196   1st Qu.: -58.058   1st Qu.: 38.98  \n",
       " Median : -83.07   Median : 50.895   Median : -50.892   Median : 46.44  \n",
       " Mean   : -87.34   Mean   : 55.521   Mean   : -50.868   Mean   : 47.49  \n",
       " 3rd Qu.: -64.52   3rd Qu.: 66.593   3rd Qu.: -43.292   3rd Qu.: 55.03  \n",
       " Max.   : -10.64   Max.   :192.417   Max.   :  -6.497   Max.   :110.27  \n",
       "                                                                        \n",
       "     Top10       \n",
       " Min.   :0.0000  \n",
       " 1st Qu.:0.0000  \n",
       " Median :0.0000  \n",
       " Mean   :0.1477  \n",
       " 3rd Qu.:0.0000  \n",
       " Max.   :1.0000  \n",
       "                 "
      ]
     },
     "metadata": {},
     "output_type": "display_data"
    }
   ],
   "source": [
    "summary(songs)"
   ]
  },
  {
   "cell_type": "markdown",
   "metadata": {},
   "source": [
    "**How many observations (songs) are from the year 2010?**"
   ]
  },
  {
   "cell_type": "code",
   "execution_count": 6,
   "metadata": {},
   "outputs": [
    {
     "data": {
      "text/plain": [
       "\n",
       "1990 1991 1992 1993 1994 1995 1996 1997 1998 1999 2000 2001 2002 2003 2004 2005 \n",
       " 328  196  186  324  198  258  178  329  380  357  363  282  518  434  479  392 \n",
       "2006 2007 2008 2009 2010 \n",
       " 479  622  415  483  373 "
      ]
     },
     "metadata": {},
     "output_type": "display_data"
    }
   ],
   "source": [
    "table(songs$year)"
   ]
  },
  {
   "cell_type": "markdown",
   "metadata": {},
   "source": [
    "Answer: 373."
   ]
  },
  {
   "cell_type": "markdown",
   "metadata": {},
   "source": [
    "### Problem 1.2 - Understanding the Data\n",
    "\n",
    "**How many songs does the dataset include for which the artist name is \"Michael Jackson\"?**"
   ]
  },
  {
   "cell_type": "code",
   "execution_count": 7,
   "metadata": {},
   "outputs": [
    {
     "data": {
      "text/html": [
       "<table>\n",
       "<caption>A data.frame: 5 × 39</caption>\n",
       "<thead>\n",
       "\t<tr><th></th><th scope=col>year</th><th scope=col>songtitle</th><th scope=col>artistname</th><th scope=col>songID</th><th scope=col>artistID</th><th scope=col>timesignature</th><th scope=col>timesignature_confidence</th><th scope=col>loudness</th><th scope=col>tempo</th><th scope=col>tempo_confidence</th><th scope=col>⋯</th><th scope=col>timbre_7_max</th><th scope=col>timbre_8_min</th><th scope=col>timbre_8_max</th><th scope=col>timbre_9_min</th><th scope=col>timbre_9_max</th><th scope=col>timbre_10_min</th><th scope=col>timbre_10_max</th><th scope=col>timbre_11_min</th><th scope=col>timbre_11_max</th><th scope=col>Top10</th></tr>\n",
       "\t<tr><th></th><th scope=col>&lt;int&gt;</th><th scope=col>&lt;fct&gt;</th><th scope=col>&lt;fct&gt;</th><th scope=col>&lt;fct&gt;</th><th scope=col>&lt;fct&gt;</th><th scope=col>&lt;int&gt;</th><th scope=col>&lt;dbl&gt;</th><th scope=col>&lt;dbl&gt;</th><th scope=col>&lt;dbl&gt;</th><th scope=col>&lt;dbl&gt;</th><th scope=col>⋯</th><th scope=col>&lt;dbl&gt;</th><th scope=col>&lt;dbl&gt;</th><th scope=col>&lt;dbl&gt;</th><th scope=col>&lt;dbl&gt;</th><th scope=col>&lt;dbl&gt;</th><th scope=col>&lt;dbl&gt;</th><th scope=col>&lt;dbl&gt;</th><th scope=col>&lt;dbl&gt;</th><th scope=col>&lt;dbl&gt;</th><th scope=col>&lt;int&gt;</th></tr>\n",
       "</thead>\n",
       "<tbody>\n",
       "\t<tr><th scope=row>4329</th><td>2001</td><td>You Rock My World</td><td>Michael Jackson</td><td>SOBLCOF13134393021</td><td>ARXPPEY1187FB51DF4</td><td>4</td><td>1.000</td><td>-2.768</td><td> 95.003</td><td>0.892</td><td>⋯</td><td>120.076</td><td>-53.839</td><td>63.576</td><td> -85.169</td><td> 84.840</td><td>-102.185</td><td> 55.266</td><td>-48.107</td><td>56.116</td><td>1</td></tr>\n",
       "\t<tr><th scope=row>6207</th><td>1995</td><td>You Are Not Alone</td><td>Michael Jackson</td><td>SOJKNNO13737CEB162</td><td>ARXPPEY1187FB51DF4</td><td>4</td><td>1.000</td><td>-9.408</td><td>120.566</td><td>0.805</td><td>⋯</td><td> 90.735</td><td>-61.583</td><td>60.920</td><td> -55.904</td><td> 76.632</td><td> -69.799</td><td> 46.173</td><td>-67.281</td><td>47.128</td><td>1</td></tr>\n",
       "\t<tr><th scope=row>6210</th><td>1995</td><td>Black or White   </td><td>Michael Jackson</td><td>SOBBRFO137756C9CB7</td><td>ARXPPEY1187FB51DF4</td><td>4</td><td>1.000</td><td>-4.017</td><td>115.027</td><td>0.535</td><td>⋯</td><td>107.974</td><td>-55.063</td><td>52.505</td><td>-110.999</td><td> 71.477</td><td>-133.939</td><td> 60.442</td><td>-55.008</td><td>43.473</td><td>1</td></tr>\n",
       "\t<tr><th scope=row>6218</th><td>1995</td><td>Remember the Time</td><td>Michael Jackson</td><td>SOIQZMT136C9704DA5</td><td>ARXPPEY1187FB51DF4</td><td>4</td><td>1.000</td><td>-3.633</td><td>107.921</td><td>1.000</td><td>⋯</td><td>146.587</td><td>-58.117</td><td>62.157</td><td> -54.440</td><td> 94.501</td><td>-112.348</td><td> 90.437</td><td>-53.634</td><td>51.681</td><td>1</td></tr>\n",
       "\t<tr><th scope=row>6915</th><td>1992</td><td>In The Closet    </td><td>Michael Jackson</td><td>SOKIOOC12AF729ED9E</td><td>ARXPPEY1187FB51DF4</td><td>4</td><td>0.991</td><td>-4.315</td><td>110.501</td><td>0.949</td><td>⋯</td><td>124.354</td><td>-78.303</td><td>41.322</td><td> -83.184</td><td>106.263</td><td>-136.109</td><td>102.829</td><td>-48.192</td><td>74.575</td><td>1</td></tr>\n",
       "</tbody>\n",
       "</table>\n"
      ],
      "text/latex": [
       "A data.frame: 5 × 39\n",
       "\\begin{tabular}{r|lllllllllllllllllllll}\n",
       "  & year & songtitle & artistname & songID & artistID & timesignature & timesignature\\_confidence & loudness & tempo & tempo\\_confidence & ⋯ & timbre\\_7\\_max & timbre\\_8\\_min & timbre\\_8\\_max & timbre\\_9\\_min & timbre\\_9\\_max & timbre\\_10\\_min & timbre\\_10\\_max & timbre\\_11\\_min & timbre\\_11\\_max & Top10\\\\\n",
       "  & <int> & <fct> & <fct> & <fct> & <fct> & <int> & <dbl> & <dbl> & <dbl> & <dbl> & ⋯ & <dbl> & <dbl> & <dbl> & <dbl> & <dbl> & <dbl> & <dbl> & <dbl> & <dbl> & <int>\\\\\n",
       "\\hline\n",
       "\t4329 & 2001 & You Rock My World & Michael Jackson & SOBLCOF13134393021 & ARXPPEY1187FB51DF4 & 4 & 1.000 & -2.768 &  95.003 & 0.892 & ⋯ & 120.076 & -53.839 & 63.576 &  -85.169 &  84.840 & -102.185 &  55.266 & -48.107 & 56.116 & 1\\\\\n",
       "\t6207 & 1995 & You Are Not Alone & Michael Jackson & SOJKNNO13737CEB162 & ARXPPEY1187FB51DF4 & 4 & 1.000 & -9.408 & 120.566 & 0.805 & ⋯ &  90.735 & -61.583 & 60.920 &  -55.904 &  76.632 &  -69.799 &  46.173 & -67.281 & 47.128 & 1\\\\\n",
       "\t6210 & 1995 & Black or White    & Michael Jackson & SOBBRFO137756C9CB7 & ARXPPEY1187FB51DF4 & 4 & 1.000 & -4.017 & 115.027 & 0.535 & ⋯ & 107.974 & -55.063 & 52.505 & -110.999 &  71.477 & -133.939 &  60.442 & -55.008 & 43.473 & 1\\\\\n",
       "\t6218 & 1995 & Remember the Time & Michael Jackson & SOIQZMT136C9704DA5 & ARXPPEY1187FB51DF4 & 4 & 1.000 & -3.633 & 107.921 & 1.000 & ⋯ & 146.587 & -58.117 & 62.157 &  -54.440 &  94.501 & -112.348 &  90.437 & -53.634 & 51.681 & 1\\\\\n",
       "\t6915 & 1992 & In The Closet     & Michael Jackson & SOKIOOC12AF729ED9E & ARXPPEY1187FB51DF4 & 4 & 0.991 & -4.315 & 110.501 & 0.949 & ⋯ & 124.354 & -78.303 & 41.322 &  -83.184 & 106.263 & -136.109 & 102.829 & -48.192 & 74.575 & 1\\\\\n",
       "\\end{tabular}\n"
      ],
      "text/markdown": [
       "\n",
       "A data.frame: 5 × 39\n",
       "\n",
       "| <!--/--> | year &lt;int&gt; | songtitle &lt;fct&gt; | artistname &lt;fct&gt; | songID &lt;fct&gt; | artistID &lt;fct&gt; | timesignature &lt;int&gt; | timesignature_confidence &lt;dbl&gt; | loudness &lt;dbl&gt; | tempo &lt;dbl&gt; | tempo_confidence &lt;dbl&gt; | ⋯ ⋯ | timbre_7_max &lt;dbl&gt; | timbre_8_min &lt;dbl&gt; | timbre_8_max &lt;dbl&gt; | timbre_9_min &lt;dbl&gt; | timbre_9_max &lt;dbl&gt; | timbre_10_min &lt;dbl&gt; | timbre_10_max &lt;dbl&gt; | timbre_11_min &lt;dbl&gt; | timbre_11_max &lt;dbl&gt; | Top10 &lt;int&gt; |\n",
       "|---|---|---|---|---|---|---|---|---|---|---|---|---|---|---|---|---|---|---|---|---|---|\n",
       "| 4329 | 2001 | You Rock My World | Michael Jackson | SOBLCOF13134393021 | ARXPPEY1187FB51DF4 | 4 | 1.000 | -2.768 |  95.003 | 0.892 | ⋯ | 120.076 | -53.839 | 63.576 |  -85.169 |  84.840 | -102.185 |  55.266 | -48.107 | 56.116 | 1 |\n",
       "| 6207 | 1995 | You Are Not Alone | Michael Jackson | SOJKNNO13737CEB162 | ARXPPEY1187FB51DF4 | 4 | 1.000 | -9.408 | 120.566 | 0.805 | ⋯ |  90.735 | -61.583 | 60.920 |  -55.904 |  76.632 |  -69.799 |  46.173 | -67.281 | 47.128 | 1 |\n",
       "| 6210 | 1995 | Black or White    | Michael Jackson | SOBBRFO137756C9CB7 | ARXPPEY1187FB51DF4 | 4 | 1.000 | -4.017 | 115.027 | 0.535 | ⋯ | 107.974 | -55.063 | 52.505 | -110.999 |  71.477 | -133.939 |  60.442 | -55.008 | 43.473 | 1 |\n",
       "| 6218 | 1995 | Remember the Time | Michael Jackson | SOIQZMT136C9704DA5 | ARXPPEY1187FB51DF4 | 4 | 1.000 | -3.633 | 107.921 | 1.000 | ⋯ | 146.587 | -58.117 | 62.157 |  -54.440 |  94.501 | -112.348 |  90.437 | -53.634 | 51.681 | 1 |\n",
       "| 6915 | 1992 | In The Closet     | Michael Jackson | SOKIOOC12AF729ED9E | ARXPPEY1187FB51DF4 | 4 | 0.991 | -4.315 | 110.501 | 0.949 | ⋯ | 124.354 | -78.303 | 41.322 |  -83.184 | 106.263 | -136.109 | 102.829 | -48.192 | 74.575 | 1 |\n",
       "\n"
      ],
      "text/plain": [
       "     year songtitle         artistname      songID            \n",
       "4329 2001 You Rock My World Michael Jackson SOBLCOF13134393021\n",
       "6207 1995 You Are Not Alone Michael Jackson SOJKNNO13737CEB162\n",
       "6210 1995 Black or White    Michael Jackson SOBBRFO137756C9CB7\n",
       "6218 1995 Remember the Time Michael Jackson SOIQZMT136C9704DA5\n",
       "6915 1992 In The Closet     Michael Jackson SOKIOOC12AF729ED9E\n",
       "     artistID           timesignature timesignature_confidence loudness tempo  \n",
       "4329 ARXPPEY1187FB51DF4 4             1.000                    -2.768    95.003\n",
       "6207 ARXPPEY1187FB51DF4 4             1.000                    -9.408   120.566\n",
       "6210 ARXPPEY1187FB51DF4 4             1.000                    -4.017   115.027\n",
       "6218 ARXPPEY1187FB51DF4 4             1.000                    -3.633   107.921\n",
       "6915 ARXPPEY1187FB51DF4 4             0.991                    -4.315   110.501\n",
       "     tempo_confidence <U+22EF>        timbre_7_max timbre_8_min timbre_8_max\n",
       "4329 0.892            <U+22EF> 120.076      -53.839      63.576      \n",
       "6207 0.805            <U+22EF>  90.735      -61.583      60.920      \n",
       "6210 0.535            <U+22EF> 107.974      -55.063      52.505      \n",
       "6218 1.000            <U+22EF> 146.587      -58.117      62.157      \n",
       "6915 0.949            <U+22EF> 124.354      -78.303      41.322      \n",
       "     timbre_9_min timbre_9_max timbre_10_min timbre_10_max timbre_11_min\n",
       "4329  -85.169      84.840      -102.185       55.266       -48.107      \n",
       "6207  -55.904      76.632       -69.799       46.173       -67.281      \n",
       "6210 -110.999      71.477      -133.939       60.442       -55.008      \n",
       "6218  -54.440      94.501      -112.348       90.437       -53.634      \n",
       "6915  -83.184     106.263      -136.109      102.829       -48.192      \n",
       "     timbre_11_max Top10\n",
       "4329 56.116        1    \n",
       "6207 47.128        1    \n",
       "6210 43.473        1    \n",
       "6218 51.681        1    \n",
       "6915 74.575        1    "
      ]
     },
     "metadata": {},
     "output_type": "display_data"
    }
   ],
   "source": [
    "MJTop10 <- subset(songs,artistname==\"Michael Jackson\" &  Top10 == 1 )\n",
    "head(MJTop10)"
   ]
  },
  {
   "cell_type": "code",
   "execution_count": 8,
   "metadata": {},
   "outputs": [
    {
     "data": {
      "text/html": [
       "5"
      ],
      "text/latex": [
       "5"
      ],
      "text/markdown": [
       "5"
      ],
      "text/plain": [
       "[1] 5"
      ]
     },
     "metadata": {},
     "output_type": "display_data"
    }
   ],
   "source": [
    "nrow(MJTop10)"
   ]
  },
  {
   "cell_type": "code",
   "execution_count": 9,
   "metadata": {},
   "outputs": [
    {
     "data": {
      "text/plain": [
       "       \n",
       "        FALSE TRUE\n",
       "  FALSE  6442 1114\n",
       "  TRUE     13    5"
      ]
     },
     "metadata": {},
     "output_type": "display_data"
    }
   ],
   "source": [
    "table(songs$artistname==\"Michael Jackson\" ,songs$Top10 == 1)"
   ]
  },
  {
   "cell_type": "markdown",
   "metadata": {},
   "source": [
    "Answer: 18 songs, 5 in the TOP10."
   ]
  },
  {
   "cell_type": "markdown",
   "metadata": {},
   "source": [
    "### Problem 1.4 - Understanding the Data\n",
    "\n",
    "The variable corresponding to the estimated time signature (timesignature) is discrete, meaning that it only takes integer values (0, 1, 2, 3, . . . ). What are the values of this variable that occur in our dataset?"
   ]
  },
  {
   "cell_type": "code",
   "execution_count": null,
   "metadata": {},
   "outputs": [],
   "source": []
  },
  {
   "cell_type": "code",
   "execution_count": null,
   "metadata": {},
   "outputs": [],
   "source": []
  },
  {
   "cell_type": "code",
   "execution_count": null,
   "metadata": {},
   "outputs": [],
   "source": []
  },
  {
   "cell_type": "code",
   "execution_count": null,
   "metadata": {},
   "outputs": [],
   "source": []
  },
  {
   "cell_type": "code",
   "execution_count": null,
   "metadata": {},
   "outputs": [],
   "source": []
  },
  {
   "cell_type": "code",
   "execution_count": null,
   "metadata": {},
   "outputs": [],
   "source": []
  },
  {
   "cell_type": "code",
   "execution_count": null,
   "metadata": {},
   "outputs": [],
   "source": []
  },
  {
   "cell_type": "code",
   "execution_count": null,
   "metadata": {},
   "outputs": [],
   "source": []
  },
  {
   "cell_type": "code",
   "execution_count": null,
   "metadata": {},
   "outputs": [],
   "source": []
  },
  {
   "cell_type": "code",
   "execution_count": null,
   "metadata": {},
   "outputs": [],
   "source": []
  },
  {
   "cell_type": "code",
   "execution_count": null,
   "metadata": {},
   "outputs": [],
   "source": []
  },
  {
   "cell_type": "code",
   "execution_count": null,
   "metadata": {},
   "outputs": [],
   "source": []
  },
  {
   "cell_type": "code",
   "execution_count": null,
   "metadata": {},
   "outputs": [],
   "source": []
  }
 ],
 "metadata": {
  "kernelspec": {
   "display_name": "R",
   "language": "R",
   "name": "ir"
  },
  "language_info": {
   "codemirror_mode": "r",
   "file_extension": ".r",
   "mimetype": "text/x-r-source",
   "name": "R",
   "pygments_lexer": "r",
   "version": "3.6.3"
  }
 },
 "nbformat": 4,
 "nbformat_minor": 4
}
