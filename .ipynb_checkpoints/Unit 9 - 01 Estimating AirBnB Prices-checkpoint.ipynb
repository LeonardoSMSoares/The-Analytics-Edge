{
 "cells": [
  {
   "cell_type": "markdown",
   "metadata": {},
   "source": [
    "# Estimating AirBnB Prices"
   ]
  },
  {
   "cell_type": "markdown",
   "metadata": {},
   "source": [
    "<img src=\"images/airbnb.jpg\"/>"
   ]
  },
  {
   "cell_type": "markdown",
   "metadata": {},
   "source": [
    "## Background Information on the Dataset\n",
    "\n",
    "AirBnB is an online marketplace that allows members to offer or arrange lodging (primarily homestays) or tourism experiences. There are millions of listings across in cities across the world, such as London, Paris, and New York. In this problem, we would like to understand the factors that influence the price of a listing.\n",
    "\n",
    "To derive insights and answer these questions, we take a look at listing data released by AirBnB (downloaded in September 2018 from http://insideairbnb.com/get-the-data.html). We specifically focus on apartments listed in six representative neighborhoods of Boston, MA. Our data has a total of 12 columns and 1693 observations, split across a training set (1187 observations) and a test set (506 observations). Each observation corresponds to a different listing.\n",
    "\n",
    "    Training data: airbnb-train.csv \n",
    "\n",
    "    Test data: airbnb-test.csv"
   ]
  },
  {
   "cell_type": "markdown",
   "metadata": {},
   "source": [
    "### Here is a detailed description of the variables:\n",
    "\n",
    "    id: A number that uniquely identifies the listing.\n",
    "\n",
    "    host_is_superhost: Whether a host is a “superhost,” meaning they satisfy AirBnB’s criteria for high-quality listings, high response rate, and reliability.\n",
    "\n",
    "    host_identity_verified: Whether the host has verified their identity with AirBnB, which is intended to promote trust between hosts and guests. neighborhood: The neighborhood that the listing is located in (Allston, Back Bay, Beacon Hill, Brighton Downtown, or South End.\n",
    "\n",
    "    room_type: The type of room provided in the listing (Entire home/apt, Private room, or Shared room).\n",
    "\n",
    "    accommodates: The number of people that the listing can accommodate.\n",
    "    \n",
    "    bathrooms: The number of bathrooms in the listing.\n",
    "\n",
    "    bedrooms: The number of bedrooms in the listing.\n",
    "\n",
    "    beds: The number of beds in the listing. price: The price to stay in the listing for one night.\n",
    "\n",
    "    logprice: The natural logarithm of the price variable.\n",
    "\n",
    "    logacc: The natural logarithm of the accommodates variable."
   ]
  },
  {
   "cell_type": "markdown",
   "metadata": {},
   "source": [
    "### Exploratory Data Analysis\n",
    "Load *airbnb-train.csv* into a data frame called train."
   ]
  },
  {
   "cell_type": "code",
   "execution_count": 1,
   "metadata": {},
   "outputs": [
    {
     "data": {
      "text/html": [
       "<table>\n",
       "<caption>A data.frame: 6 × 12</caption>\n",
       "<thead>\n",
       "\t<tr><th></th><th scope=col>id</th><th scope=col>host_is_superhost</th><th scope=col>host_identity_verified</th><th scope=col>neighborhood</th><th scope=col>room_type</th><th scope=col>accommodates</th><th scope=col>bathrooms</th><th scope=col>bedrooms</th><th scope=col>beds</th><th scope=col>price</th><th scope=col>logprice</th><th scope=col>logacc</th></tr>\n",
       "\t<tr><th></th><th scope=col>&lt;int&gt;</th><th scope=col>&lt;int&gt;</th><th scope=col>&lt;int&gt;</th><th scope=col>&lt;fct&gt;</th><th scope=col>&lt;fct&gt;</th><th scope=col>&lt;int&gt;</th><th scope=col>&lt;dbl&gt;</th><th scope=col>&lt;int&gt;</th><th scope=col>&lt;int&gt;</th><th scope=col>&lt;int&gt;</th><th scope=col>&lt;dbl&gt;</th><th scope=col>&lt;dbl&gt;</th></tr>\n",
       "</thead>\n",
       "<tbody>\n",
       "\t<tr><th scope=row>1</th><td> 8792</td><td>0</td><td>0</td><td>Downtown</td><td>Entirehome/apt</td><td>2</td><td>1</td><td>1</td><td>1</td><td>154</td><td>5.036953</td><td>0.6931472</td></tr>\n",
       "\t<tr><th scope=row>2</th><td>10810</td><td>0</td><td>0</td><td>Allston </td><td>Entirehome/apt</td><td>5</td><td>1</td><td>2</td><td>4</td><td>250</td><td>5.521461</td><td>1.6094379</td></tr>\n",
       "\t<tr><th scope=row>3</th><td>10811</td><td>0</td><td>0</td><td>BackBay </td><td>Entirehome/apt</td><td>3</td><td>1</td><td>0</td><td>2</td><td>189</td><td>5.241747</td><td>1.0986123</td></tr>\n",
       "\t<tr><th scope=row>4</th><td>22212</td><td>0</td><td>1</td><td>BackBay </td><td>Entirehome/apt</td><td>4</td><td>1</td><td>2</td><td>2</td><td>285</td><td>5.652489</td><td>1.3862944</td></tr>\n",
       "\t<tr><th scope=row>5</th><td>28150</td><td>0</td><td>1</td><td>BackBay </td><td>Entirehome/apt</td><td>2</td><td>1</td><td>1</td><td>1</td><td>184</td><td>5.214936</td><td>0.6931472</td></tr>\n",
       "\t<tr><th scope=row>6</th><td>47722</td><td>0</td><td>1</td><td>BackBay </td><td>Privateroom   </td><td>2</td><td>1</td><td>1</td><td>1</td><td>479</td><td>6.171701</td><td>0.6931472</td></tr>\n",
       "</tbody>\n",
       "</table>\n"
      ],
      "text/latex": [
       "A data.frame: 6 × 12\n",
       "\\begin{tabular}{r|llllllllllll}\n",
       "  & id & host\\_is\\_superhost & host\\_identity\\_verified & neighborhood & room\\_type & accommodates & bathrooms & bedrooms & beds & price & logprice & logacc\\\\\n",
       "  & <int> & <int> & <int> & <fct> & <fct> & <int> & <dbl> & <int> & <int> & <int> & <dbl> & <dbl>\\\\\n",
       "\\hline\n",
       "\t1 &  8792 & 0 & 0 & Downtown & Entirehome/apt & 2 & 1 & 1 & 1 & 154 & 5.036953 & 0.6931472\\\\\n",
       "\t2 & 10810 & 0 & 0 & Allston  & Entirehome/apt & 5 & 1 & 2 & 4 & 250 & 5.521461 & 1.6094379\\\\\n",
       "\t3 & 10811 & 0 & 0 & BackBay  & Entirehome/apt & 3 & 1 & 0 & 2 & 189 & 5.241747 & 1.0986123\\\\\n",
       "\t4 & 22212 & 0 & 1 & BackBay  & Entirehome/apt & 4 & 1 & 2 & 2 & 285 & 5.652489 & 1.3862944\\\\\n",
       "\t5 & 28150 & 0 & 1 & BackBay  & Entirehome/apt & 2 & 1 & 1 & 1 & 184 & 5.214936 & 0.6931472\\\\\n",
       "\t6 & 47722 & 0 & 1 & BackBay  & Privateroom    & 2 & 1 & 1 & 1 & 479 & 6.171701 & 0.6931472\\\\\n",
       "\\end{tabular}\n"
      ],
      "text/markdown": [
       "\n",
       "A data.frame: 6 × 12\n",
       "\n",
       "| <!--/--> | id &lt;int&gt; | host_is_superhost &lt;int&gt; | host_identity_verified &lt;int&gt; | neighborhood &lt;fct&gt; | room_type &lt;fct&gt; | accommodates &lt;int&gt; | bathrooms &lt;dbl&gt; | bedrooms &lt;int&gt; | beds &lt;int&gt; | price &lt;int&gt; | logprice &lt;dbl&gt; | logacc &lt;dbl&gt; |\n",
       "|---|---|---|---|---|---|---|---|---|---|---|---|---|\n",
       "| 1 |  8792 | 0 | 0 | Downtown | Entirehome/apt | 2 | 1 | 1 | 1 | 154 | 5.036953 | 0.6931472 |\n",
       "| 2 | 10810 | 0 | 0 | Allston  | Entirehome/apt | 5 | 1 | 2 | 4 | 250 | 5.521461 | 1.6094379 |\n",
       "| 3 | 10811 | 0 | 0 | BackBay  | Entirehome/apt | 3 | 1 | 0 | 2 | 189 | 5.241747 | 1.0986123 |\n",
       "| 4 | 22212 | 0 | 1 | BackBay  | Entirehome/apt | 4 | 1 | 2 | 2 | 285 | 5.652489 | 1.3862944 |\n",
       "| 5 | 28150 | 0 | 1 | BackBay  | Entirehome/apt | 2 | 1 | 1 | 1 | 184 | 5.214936 | 0.6931472 |\n",
       "| 6 | 47722 | 0 | 1 | BackBay  | Privateroom    | 2 | 1 | 1 | 1 | 479 | 6.171701 | 0.6931472 |\n",
       "\n"
      ],
      "text/plain": [
       "  id    host_is_superhost host_identity_verified neighborhood room_type     \n",
       "1  8792 0                 0                      Downtown     Entirehome/apt\n",
       "2 10810 0                 0                      Allston      Entirehome/apt\n",
       "3 10811 0                 0                      BackBay      Entirehome/apt\n",
       "4 22212 0                 1                      BackBay      Entirehome/apt\n",
       "5 28150 0                 1                      BackBay      Entirehome/apt\n",
       "6 47722 0                 1                      BackBay      Privateroom   \n",
       "  accommodates bathrooms bedrooms beds price logprice logacc   \n",
       "1 2            1         1        1    154   5.036953 0.6931472\n",
       "2 5            1         2        4    250   5.521461 1.6094379\n",
       "3 3            1         0        2    189   5.241747 1.0986123\n",
       "4 4            1         2        2    285   5.652489 1.3862944\n",
       "5 2            1         1        1    184   5.214936 0.6931472\n",
       "6 2            1         1        1    479   6.171701 0.6931472"
      ]
     },
     "metadata": {},
     "output_type": "display_data"
    }
   ],
   "source": [
    "# Read in the  training dataset\n",
    "\n",
    "train = read.csv(\"data/airbnb-train.csv\")\n",
    "\n",
    "head(train)"
   ]
  },
  {
   "cell_type": "code",
   "execution_count": 2,
   "metadata": {},
   "outputs": [
    {
     "name": "stdout",
     "output_type": "stream",
     "text": [
      "'data.frame':\t1187 obs. of  12 variables:\n",
      " $ id                    : int  8792 10810 10811 22212 28150 47722 60356 170715 307571 311240 ...\n",
      " $ host_is_superhost     : int  0 0 0 0 0 0 0 0 0 0 ...\n",
      " $ host_identity_verified: int  0 0 0 1 1 1 0 0 0 1 ...\n",
      " $ neighborhood          : Factor w/ 6 levels \"Allston\",\"BackBay\",..: 5 1 2 2 2 2 5 2 3 2 ...\n",
      " $ room_type             : Factor w/ 3 levels \"Entirehome/apt\",..: 1 1 1 1 1 2 1 1 1 1 ...\n",
      " $ accommodates          : int  2 5 3 4 2 2 2 4 2 2 ...\n",
      " $ bathrooms             : num  1 1 1 1 1 1 1 1 1 1 ...\n",
      " $ bedrooms              : int  1 2 0 2 1 1 1 1 1 0 ...\n",
      " $ beds                  : int  1 4 2 2 1 1 1 2 1 1 ...\n",
      " $ price                 : int  154 250 189 285 184 479 175 200 150 185 ...\n",
      " $ logprice              : num  5.04 5.52 5.24 5.65 5.21 ...\n",
      " $ logacc                : num  0.693 1.609 1.099 1.386 0.693 ...\n"
     ]
    }
   ],
   "source": [
    "str(train)"
   ]
  },
  {
   "cell_type": "markdown",
   "metadata": {},
   "source": [
    "**How many rows are in the training dataset?**"
   ]
  },
  {
   "cell_type": "code",
   "execution_count": 3,
   "metadata": {},
   "outputs": [
    {
     "data": {
      "text/html": [
       "1187"
      ],
      "text/latex": [
       "1187"
      ],
      "text/markdown": [
       "1187"
      ],
      "text/plain": [
       "[1] 1187"
      ]
     },
     "metadata": {},
     "output_type": "display_data"
    }
   ],
   "source": [
    "# Calculate the number of rows in the training dataset\n",
    "nrow(train)"
   ]
  },
  {
   "cell_type": "markdown",
   "metadata": {},
   "source": [
    "**What is the mean price in the training dataset?**"
   ]
  },
  {
   "cell_type": "code",
   "execution_count": 5,
   "metadata": {},
   "outputs": [
    {
     "data": {
      "text/html": [
       "212.09"
      ],
      "text/latex": [
       "212.09"
      ],
      "text/markdown": [
       "212.09"
      ],
      "text/plain": [
       "[1] 212.09"
      ]
     },
     "metadata": {},
     "output_type": "display_data"
    }
   ],
   "source": [
    "# Find the mean price in the training set\n",
    "mtp = mean(train$price)\n",
    "round(mtp,2)"
   ]
  },
  {
   "cell_type": "markdown",
   "metadata": {},
   "source": [
    "**What is the maximum price in the training dataset?**"
   ]
  },
  {
   "cell_type": "code",
   "execution_count": 6,
   "metadata": {},
   "outputs": [
    {
     "data": {
      "text/html": [
       "999"
      ],
      "text/latex": [
       "999"
      ],
      "text/markdown": [
       "999"
      ],
      "text/plain": [
       "[1] 999"
      ]
     },
     "metadata": {},
     "output_type": "display_data"
    }
   ],
   "source": [
    "# Find the max price in the training set\n",
    "maxp = max(train$price)\n",
    "round(maxp,2)"
   ]
  },
  {
   "cell_type": "markdown",
   "metadata": {},
   "source": [
    "**What is the neighborhood with the highest number of listings in the training dataset?**"
   ]
  },
  {
   "cell_type": "code",
   "execution_count": 7,
   "metadata": {},
   "outputs": [
    {
     "data": {
      "text/plain": [
       "\n",
       "   Allston    BackBay BeaconHill   Brighton   Downtown   SouthEnd \n",
       "       176        279        155        135        208        234 "
      ]
     },
     "metadata": {},
     "output_type": "display_data"
    }
   ],
   "source": [
    "# Tabulate the number of listings for each neighborhood\n",
    "table(train$neighborhood)"
   ]
  },
  {
   "cell_type": "code",
   "execution_count": 8,
   "metadata": {},
   "outputs": [
    {
     "data": {
      "text/html": [
       "279"
      ],
      "text/latex": [
       "279"
      ],
      "text/markdown": [
       "279"
      ],
      "text/plain": [
       "[1] 279"
      ]
     },
     "metadata": {},
     "output_type": "display_data"
    }
   ],
   "source": [
    "max(table(train$neighborhood))"
   ]
  },
  {
   "cell_type": "markdown",
   "metadata": {},
   "source": [
    "Answer: BackBay."
   ]
  },
  {
   "cell_type": "markdown",
   "metadata": {},
   "source": [
    "**What is the neighborhood with the highest average price in the training dataset?**"
   ]
  },
  {
   "cell_type": "code",
   "execution_count": 14,
   "metadata": {},
   "outputs": [
    {
     "data": {
      "text/html": [
       "<style>\n",
       ".dl-inline {width: auto; margin:0; padding: 0}\n",
       ".dl-inline>dt, .dl-inline>dd {float: none; width: auto; display: inline-block}\n",
       ".dl-inline>dt::after {content: \":\\0020\"; padding-right: .5ex}\n",
       ".dl-inline>dt:not(:first-of-type) {padding-left: .5ex}\n",
       "</style><dl class=dl-inline><dt>Allston</dt><dd>142.732954545455</dd><dt>BackBay</dt><dd>248.569892473118</dd><dt>BeaconHill</dt><dd>187.290322580645</dd><dt>Brighton</dt><dd>113.844444444444</dd><dt>Downtown</dt><dd>289.466346153846</dd><dt>SouthEnd</dt><dd>225.07264957265</dd></dl>\n"
      ],
      "text/latex": [
       "\\begin{description*}\n",
       "\\item[Allston] 142.732954545455\n",
       "\\item[BackBay] 248.569892473118\n",
       "\\item[BeaconHill] 187.290322580645\n",
       "\\item[Brighton] 113.844444444444\n",
       "\\item[Downtown] 289.466346153846\n",
       "\\item[SouthEnd] 225.07264957265\n",
       "\\end{description*}\n"
      ],
      "text/markdown": [
       "Allston\n",
       ":   142.732954545455BackBay\n",
       ":   248.569892473118BeaconHill\n",
       ":   187.290322580645Brighton\n",
       ":   113.844444444444Downtown\n",
       ":   289.466346153846SouthEnd\n",
       ":   225.07264957265\n",
       "\n"
      ],
      "text/plain": [
       "   Allston    BackBay BeaconHill   Brighton   Downtown   SouthEnd \n",
       "  142.7330   248.5699   187.2903   113.8444   289.4663   225.0726 "
      ]
     },
     "metadata": {},
     "output_type": "display_data"
    }
   ],
   "source": [
    "# Tabulate the neighborhood with the highest average price in the training dataset\n",
    "tapply(train$price, train$neighborhood, mean)"
   ]
  },
  {
   "cell_type": "markdown",
   "metadata": {},
   "source": [
    "Answer: Downtown."
   ]
  },
  {
   "cell_type": "markdown",
   "metadata": {},
   "source": [
    "### Simple Linear Regression\n",
    "For the rest of this problem, we will be working with log(price) and log(accommodates), which helps us manage the outliers with excessively large prices and accommodations. The values of log(price) and log(accommodates) are found in the columns logprice and logacc, respectively.\n",
    "\n",
    "Load *airbnb-test.csv* into a data frame called test."
   ]
  },
  {
   "cell_type": "code",
   "execution_count": null,
   "metadata": {},
   "outputs": [],
   "source": []
  },
  {
   "cell_type": "code",
   "execution_count": null,
   "metadata": {},
   "outputs": [],
   "source": []
  },
  {
   "cell_type": "code",
   "execution_count": null,
   "metadata": {},
   "outputs": [],
   "source": []
  },
  {
   "cell_type": "code",
   "execution_count": null,
   "metadata": {},
   "outputs": [],
   "source": []
  },
  {
   "cell_type": "code",
   "execution_count": null,
   "metadata": {},
   "outputs": [],
   "source": []
  },
  {
   "cell_type": "code",
   "execution_count": null,
   "metadata": {},
   "outputs": [],
   "source": []
  },
  {
   "cell_type": "code",
   "execution_count": null,
   "metadata": {},
   "outputs": [],
   "source": []
  },
  {
   "cell_type": "code",
   "execution_count": null,
   "metadata": {},
   "outputs": [],
   "source": []
  }
 ],
 "metadata": {
  "kernelspec": {
   "display_name": "R",
   "language": "R",
   "name": "ir"
  },
  "language_info": {
   "codemirror_mode": "r",
   "file_extension": ".r",
   "mimetype": "text/x-r-source",
   "name": "R",
   "pygments_lexer": "r",
   "version": "3.6.3"
  }
 },
 "nbformat": 4,
 "nbformat_minor": 4
}
